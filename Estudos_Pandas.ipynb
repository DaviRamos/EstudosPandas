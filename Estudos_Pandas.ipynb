{
  "nbformat": 4,
  "nbformat_minor": 0,
  "metadata": {
    "colab": {
      "name": "Estudos Pandas.ipynb",
      "provenance": [],
      "authorship_tag": "ABX9TyPaO41CPPC4zqXkktd8rOh3",
      "include_colab_link": true
    },
    "kernelspec": {
      "name": "python3",
      "display_name": "Python 3"
    }
  },
  "cells": [
    {
      "cell_type": "markdown",
      "metadata": {
        "id": "view-in-github",
        "colab_type": "text"
      },
      "source": [
        "<a href=\"https://colab.research.google.com/github/DaviRamos/EstudosPandas/blob/master/Estudos_Pandas.ipynb\" target=\"_parent\"><img src=\"https://colab.research.google.com/assets/colab-badge.svg\" alt=\"Open In Colab\"/></a>"
      ]
    },
    {
      "cell_type": "markdown",
      "metadata": {
        "id": "mpUXaEURMXEX"
      },
      "source": [
        "## **Dica 1: Preenchendo Valores NA**"
      ]
    },
    {
      "cell_type": "markdown",
      "metadata": {
        "id": "xMPlqxLiMj4R"
      },
      "source": [
        "A função fillna() é usada para preencher os valores ausentes. A função oferece muitas opções. Podemos usar um valor específico, uma função agregada (por exemplo, média) ou o valor anterior ou seguinte.\r\n",
        "Para esse exemplo usaremos a moda, a estatística que representa o valor que aparece mais vezes em uma variável.\r\n"
      ]
    },
    {
      "cell_type": "code",
      "metadata": {
        "id": "Bve6cW5dsXVq"
      },
      "source": [
        "import pandas as pd"
      ],
      "execution_count": 15,
      "outputs": []
    },
    {
      "cell_type": "markdown",
      "metadata": {
        "id": "I4xy5IJqM5bz"
      },
      "source": [
        "\r\n",
        "**Importar o dataset**\r\n"
      ]
    },
    {
      "cell_type": "code",
      "metadata": {
        "id": "ZY7-knH9sflJ"
      },
      "source": [
        "df=pd.read_csv(\"https://raw.githubusercontent.com/dsacademybr/Datasets/master/dataset6.csv\")"
      ],
      "execution_count": 16,
      "outputs": []
    },
    {
      "cell_type": "markdown",
      "metadata": {
        "id": "tlaZRu9RzKZl"
      },
      "source": [
        "## **Conhecendo o dataset**"
      ]
    },
    {
      "cell_type": "code",
      "metadata": {
        "colab": {
          "base_uri": "https://localhost:8080/",
          "height": 547
        },
        "id": "vHO2CHx6zKnw",
        "outputId": "2a11ea14-2d9a-4344-d8f8-dbcd1000c3a0"
      },
      "source": [
        "df.head()"
      ],
      "execution_count": 18,
      "outputs": [
        {
          "output_type": "execute_result",
          "data": {
            "text/html": [
              "<div>\n",
              "<style scoped>\n",
              "    .dataframe tbody tr th:only-of-type {\n",
              "        vertical-align: middle;\n",
              "    }\n",
              "\n",
              "    .dataframe tbody tr th {\n",
              "        vertical-align: top;\n",
              "    }\n",
              "\n",
              "    .dataframe thead th {\n",
              "        text-align: right;\n",
              "    }\n",
              "</style>\n",
              "<table border=\"1\" class=\"dataframe\">\n",
              "  <thead>\n",
              "    <tr style=\"text-align: right;\">\n",
              "      <th></th>\n",
              "      <th>Row ID</th>\n",
              "      <th>Order ID</th>\n",
              "      <th>Order Date</th>\n",
              "      <th>Ship Date</th>\n",
              "      <th>Ship Mode</th>\n",
              "      <th>Customer ID</th>\n",
              "      <th>Customer Name</th>\n",
              "      <th>Segment</th>\n",
              "      <th>Country</th>\n",
              "      <th>City</th>\n",
              "      <th>State</th>\n",
              "      <th>Postal Code</th>\n",
              "      <th>Region</th>\n",
              "      <th>Product ID</th>\n",
              "      <th>Category</th>\n",
              "      <th>Sub-Category</th>\n",
              "      <th>Product Name</th>\n",
              "      <th>Sales</th>\n",
              "      <th>Quantity</th>\n",
              "      <th>Discount</th>\n",
              "      <th>Profit</th>\n",
              "    </tr>\n",
              "  </thead>\n",
              "  <tbody>\n",
              "    <tr>\n",
              "      <th>0</th>\n",
              "      <td>1</td>\n",
              "      <td>CA-2016-152156</td>\n",
              "      <td>2016-11-08</td>\n",
              "      <td>2016-11-11</td>\n",
              "      <td>Second Class</td>\n",
              "      <td>CG-12520</td>\n",
              "      <td>Claire Gute</td>\n",
              "      <td>Consumer</td>\n",
              "      <td>United States</td>\n",
              "      <td>Henderson</td>\n",
              "      <td>Kentucky</td>\n",
              "      <td>42420</td>\n",
              "      <td>South</td>\n",
              "      <td>FUR-BO-10001798</td>\n",
              "      <td>Furniture</td>\n",
              "      <td>Bookcases</td>\n",
              "      <td>Bush Somerset Collection Bookcase</td>\n",
              "      <td>261.9600</td>\n",
              "      <td>2</td>\n",
              "      <td>0.00</td>\n",
              "      <td>41.9136</td>\n",
              "    </tr>\n",
              "    <tr>\n",
              "      <th>1</th>\n",
              "      <td>2</td>\n",
              "      <td>CA-2016-152156</td>\n",
              "      <td>2016-11-08</td>\n",
              "      <td>2016-11-11</td>\n",
              "      <td>Second Class</td>\n",
              "      <td>CG-12520</td>\n",
              "      <td>Claire Gute</td>\n",
              "      <td>Consumer</td>\n",
              "      <td>United States</td>\n",
              "      <td>Henderson</td>\n",
              "      <td>Kentucky</td>\n",
              "      <td>42420</td>\n",
              "      <td>South</td>\n",
              "      <td>FUR-CH-10000454</td>\n",
              "      <td>Furniture</td>\n",
              "      <td>Chairs</td>\n",
              "      <td>Hon Deluxe Fabric Upholstered Stacking Chairs,...</td>\n",
              "      <td>731.9400</td>\n",
              "      <td>3</td>\n",
              "      <td>0.00</td>\n",
              "      <td>219.5820</td>\n",
              "    </tr>\n",
              "    <tr>\n",
              "      <th>2</th>\n",
              "      <td>3</td>\n",
              "      <td>CA-2016-138688</td>\n",
              "      <td>2016-06-12</td>\n",
              "      <td>2016-06-16</td>\n",
              "      <td>Second Class</td>\n",
              "      <td>DV-13045</td>\n",
              "      <td>Darrin Van Huff</td>\n",
              "      <td>Corporate</td>\n",
              "      <td>United States</td>\n",
              "      <td>Los Angeles</td>\n",
              "      <td>California</td>\n",
              "      <td>90036</td>\n",
              "      <td>West</td>\n",
              "      <td>OFF-LA-10000240</td>\n",
              "      <td>Office Supplies</td>\n",
              "      <td>Labels</td>\n",
              "      <td>Self-Adhesive Address Labels for Typewriters b...</td>\n",
              "      <td>14.6200</td>\n",
              "      <td>2</td>\n",
              "      <td>0.00</td>\n",
              "      <td>6.8714</td>\n",
              "    </tr>\n",
              "    <tr>\n",
              "      <th>3</th>\n",
              "      <td>4</td>\n",
              "      <td>US-2015-108966</td>\n",
              "      <td>2015-10-11</td>\n",
              "      <td>2015-10-18</td>\n",
              "      <td>Standard Class</td>\n",
              "      <td>SO-20335</td>\n",
              "      <td>Sean O'Donnell</td>\n",
              "      <td>Consumer</td>\n",
              "      <td>United States</td>\n",
              "      <td>Fort Lauderdale</td>\n",
              "      <td>Florida</td>\n",
              "      <td>33311</td>\n",
              "      <td>South</td>\n",
              "      <td>FUR-TA-10000577</td>\n",
              "      <td>Furniture</td>\n",
              "      <td>Tables</td>\n",
              "      <td>Bretford CR4500 Series Slim Rectangular Table</td>\n",
              "      <td>957.5775</td>\n",
              "      <td>5</td>\n",
              "      <td>0.45</td>\n",
              "      <td>-383.0310</td>\n",
              "    </tr>\n",
              "    <tr>\n",
              "      <th>4</th>\n",
              "      <td>5</td>\n",
              "      <td>US-2015-108966</td>\n",
              "      <td>2015-10-11</td>\n",
              "      <td>2015-10-18</td>\n",
              "      <td>Standard Class</td>\n",
              "      <td>SO-20335</td>\n",
              "      <td>Sean O'Donnell</td>\n",
              "      <td>Consumer</td>\n",
              "      <td>United States</td>\n",
              "      <td>Fort Lauderdale</td>\n",
              "      <td>Florida</td>\n",
              "      <td>33311</td>\n",
              "      <td>South</td>\n",
              "      <td>OFF-ST-10000760</td>\n",
              "      <td>Office Supplies</td>\n",
              "      <td>Storage</td>\n",
              "      <td>Eldon Fold 'N Roll Cart System</td>\n",
              "      <td>22.3680</td>\n",
              "      <td>2</td>\n",
              "      <td>0.20</td>\n",
              "      <td>2.5164</td>\n",
              "    </tr>\n",
              "  </tbody>\n",
              "</table>\n",
              "</div>"
            ],
            "text/plain": [
              "   Row ID        Order ID  Order Date  ... Quantity Discount    Profit\n",
              "0       1  CA-2016-152156  2016-11-08  ...        2     0.00   41.9136\n",
              "1       2  CA-2016-152156  2016-11-08  ...        3     0.00  219.5820\n",
              "2       3  CA-2016-138688  2016-06-12  ...        2     0.00    6.8714\n",
              "3       4  US-2015-108966  2015-10-11  ...        5     0.45 -383.0310\n",
              "4       5  US-2015-108966  2015-10-11  ...        2     0.20    2.5164\n",
              "\n",
              "[5 rows x 21 columns]"
            ]
          },
          "metadata": {
            "tags": []
          },
          "execution_count": 18
        }
      ]
    },
    {
      "cell_type": "markdown",
      "metadata": {
        "id": "6nCbAIg1s6ly"
      },
      "source": [
        "**Preenchendo Valores NA**"
      ]
    },
    {
      "cell_type": "code",
      "metadata": {
        "colab": {
          "base_uri": "https://localhost:8080/"
        },
        "id": "wGc2wNLAsiKO",
        "outputId": "6a57ad5d-24d1-4f0f-b4ed-fb576e93bf63"
      },
      "source": [
        "moda = df['Quantity'].value_counts().index[0]\r\n",
        "moda"
      ],
      "execution_count": 20,
      "outputs": [
        {
          "output_type": "execute_result",
          "data": {
            "text/plain": [
              "3"
            ]
          },
          "metadata": {
            "tags": []
          },
          "execution_count": 20
        }
      ]
    },
    {
      "cell_type": "markdown",
      "metadata": {
        "id": "FiyH2S4DtCSA"
      },
      "source": [
        "**Então extraímos a moda da coluna Quantity**"
      ]
    },
    {
      "cell_type": "code",
      "metadata": {
        "colab": {
          "base_uri": "https://localhost:8080/"
        },
        "id": "ByQ68_4fsqx3",
        "outputId": "72a7399d-1a6c-4a30-b5e7-59c669b54bfb"
      },
      "source": [
        "#Acho essa forma mais intuitiva: \r\n",
        "moda_2 = df.Quantity.mode()[0]\r\n",
        "moda_2"
      ],
      "execution_count": 21,
      "outputs": [
        {
          "output_type": "execute_result",
          "data": {
            "text/plain": [
              "3"
            ]
          },
          "metadata": {
            "tags": []
          },
          "execution_count": 21
        }
      ]
    },
    {
      "cell_type": "markdown",
      "metadata": {
        "id": "9umf8aLJMMZC"
      },
      "source": [
        "**E por fim preenchemos os valores NA com a moda**"
      ]
    },
    {
      "cell_type": "code",
      "metadata": {
        "id": "0J1BCguksuPd"
      },
      "source": [
        "df['Quantity'].fillna(value = moda, inplace = True)"
      ],
      "execution_count": 23,
      "outputs": []
    },
    {
      "cell_type": "markdown",
      "metadata": {
        "id": "E3ARMskWs1X0"
      },
      "source": [
        "O index[0] indica que queremos o primeiro resultado obtido pelo método value_counts(). \r\n",
        "O inplace = True indica que desejamos aplicar o método fillna() e salvar o resultado no próprio dataframe!\r\n"
      ]
    },
    {
      "cell_type": "markdown",
      "metadata": {
        "id": "bybs8O12Metc"
      },
      "source": [
        "## **Dica 2: Query no Dataframe**"
      ]
    },
    {
      "cell_type": "markdown",
      "metadata": {
        "id": "RJEdGRSaMxAZ"
      },
      "source": [
        "Com o Pandas criamos dataframes, que são essencialmente tabelas. Como tal, podemos fazer consultas, ou simplesmente queries. E para isso usamos o método query(). Veja o exemplo abaixo:"
      ]
    },
    {
      "cell_type": "markdown",
      "metadata": {
        "id": "VggeRnFNNHeg"
      },
      "source": [
        "**Então checamos os valores mínimo e máximo da coluna Sales**"
      ]
    },
    {
      "cell_type": "code",
      "metadata": {
        "colab": {
          "base_uri": "https://localhost:8080/"
        },
        "id": "i5Gx8-pKMgf3",
        "outputId": "221d5392-9dac-4ac9-c51d-0f30daf7e4c3"
      },
      "source": [
        "df.Sales.describe()"
      ],
      "execution_count": 24,
      "outputs": [
        {
          "output_type": "execute_result",
          "data": {
            "text/plain": [
              "count     9994.000000\n",
              "mean       229.858001\n",
              "std        623.245101\n",
              "min          0.444000\n",
              "25%         17.280000\n",
              "50%         54.490000\n",
              "75%        209.940000\n",
              "max      22638.480000\n",
              "Name: Sales, dtype: float64"
            ]
          },
          "metadata": {
            "tags": []
          },
          "execution_count": 24
        }
      ]
    },
    {
      "cell_type": "markdown",
      "metadata": {
        "id": "0YrwiFV2NS3g"
      },
      "source": [
        "O intervalo de vendas (Sales) é de 0.44 a 22638. Vamos fazer uma consulta e retornar todas as vendas entre 10000 e 12000. Fazemos isso com a instrução abaixo:\r\n",
        "\r\n",
        "**Geramos um novo dataframe apenas com o intervalo de vendas entre 10000 e 12000**\r\n"
      ]
    },
    {
      "cell_type": "code",
      "metadata": {
        "id": "xb6QeMcENVbc"
      },
      "source": [
        "df2 = df.query('10000 < Sales < 12000')"
      ],
      "execution_count": 25,
      "outputs": []
    },
    {
      "cell_type": "markdown",
      "metadata": {
        "id": "G9XfG23xNbmf"
      },
      "source": [
        "##**Dica 3: Verificando a Ocorrência de Diversos Valores em Uma Coluna**\r\n",
        "\r\n",
        "Em nosso conjunto de dados de exemplo, temos a coluna Quantity que representa a quantidade de itens vendidos em cada uma das vendas. Imagine que precisamos saber em quais vendas foram vendidos 5, 7, 9 ou 11 itens.\r\n",
        "\r\n",
        "**Como aplicaríamos esse tipo de filtro ao nosso dataframe?**\r\n",
        "\r\n",
        "Fácil. O Pandas oferece o método isin() para checar diversos valores em uma coluna. \r\n",
        "\r\n",
        "**Aplicando o filtro**"
      ]
    },
    {
      "cell_type": "code",
      "metadata": {
        "colab": {
          "base_uri": "https://localhost:8080/",
          "height": 983
        },
        "id": "kH57yhnqNdJI",
        "outputId": "ef3fd36c-f27d-403a-9cea-e0c92b6cc41c"
      },
      "source": [
        "df[df['Quantity'].isin([5,7,9,11])]"
      ],
      "execution_count": 34,
      "outputs": [
        {
          "output_type": "execute_result",
          "data": {
            "text/html": [
              "<div>\n",
              "<style scoped>\n",
              "    .dataframe tbody tr th:only-of-type {\n",
              "        vertical-align: middle;\n",
              "    }\n",
              "\n",
              "    .dataframe tbody tr th {\n",
              "        vertical-align: top;\n",
              "    }\n",
              "\n",
              "    .dataframe thead th {\n",
              "        text-align: right;\n",
              "    }\n",
              "</style>\n",
              "<table border=\"1\" class=\"dataframe\">\n",
              "  <thead>\n",
              "    <tr style=\"text-align: right;\">\n",
              "      <th></th>\n",
              "      <th>Row ID</th>\n",
              "      <th>Order ID</th>\n",
              "      <th>Order Date</th>\n",
              "      <th>Ship Date</th>\n",
              "      <th>Ship Mode</th>\n",
              "      <th>Customer ID</th>\n",
              "      <th>Customer Name</th>\n",
              "      <th>Segment</th>\n",
              "      <th>Country</th>\n",
              "      <th>City</th>\n",
              "      <th>State</th>\n",
              "      <th>Postal Code</th>\n",
              "      <th>Region</th>\n",
              "      <th>Product ID</th>\n",
              "      <th>Category</th>\n",
              "      <th>Sub-Category</th>\n",
              "      <th>Product Name</th>\n",
              "      <th>Sales</th>\n",
              "      <th>Quantity</th>\n",
              "      <th>Discount</th>\n",
              "      <th>Profit</th>\n",
              "    </tr>\n",
              "  </thead>\n",
              "  <tbody>\n",
              "    <tr>\n",
              "      <th>3</th>\n",
              "      <td>4</td>\n",
              "      <td>US-2015-108966</td>\n",
              "      <td>2015-10-11</td>\n",
              "      <td>2015-10-18</td>\n",
              "      <td>Standard Class</td>\n",
              "      <td>SO-20335</td>\n",
              "      <td>Sean O'Donnell</td>\n",
              "      <td>Consumer</td>\n",
              "      <td>United States</td>\n",
              "      <td>Fort Lauderdale</td>\n",
              "      <td>Florida</td>\n",
              "      <td>33311</td>\n",
              "      <td>South</td>\n",
              "      <td>FUR-TA-10000577</td>\n",
              "      <td>Furniture</td>\n",
              "      <td>Tables</td>\n",
              "      <td>Bretford CR4500 Series Slim Rectangular Table</td>\n",
              "      <td>957.5775</td>\n",
              "      <td>5</td>\n",
              "      <td>0.45</td>\n",
              "      <td>-383.0310</td>\n",
              "    </tr>\n",
              "    <tr>\n",
              "      <th>5</th>\n",
              "      <td>6</td>\n",
              "      <td>CA-2014-115812</td>\n",
              "      <td>2014-06-09</td>\n",
              "      <td>2014-06-14</td>\n",
              "      <td>Standard Class</td>\n",
              "      <td>BH-11710</td>\n",
              "      <td>Brosina Hoffman</td>\n",
              "      <td>Consumer</td>\n",
              "      <td>United States</td>\n",
              "      <td>Los Angeles</td>\n",
              "      <td>California</td>\n",
              "      <td>90032</td>\n",
              "      <td>West</td>\n",
              "      <td>FUR-FU-10001487</td>\n",
              "      <td>Furniture</td>\n",
              "      <td>Furnishings</td>\n",
              "      <td>Eldon Expressions Wood and Plastic Desk Access...</td>\n",
              "      <td>48.8600</td>\n",
              "      <td>7</td>\n",
              "      <td>0.00</td>\n",
              "      <td>14.1694</td>\n",
              "    </tr>\n",
              "    <tr>\n",
              "      <th>9</th>\n",
              "      <td>10</td>\n",
              "      <td>CA-2014-115812</td>\n",
              "      <td>2014-06-09</td>\n",
              "      <td>2014-06-14</td>\n",
              "      <td>Standard Class</td>\n",
              "      <td>BH-11710</td>\n",
              "      <td>Brosina Hoffman</td>\n",
              "      <td>Consumer</td>\n",
              "      <td>United States</td>\n",
              "      <td>Los Angeles</td>\n",
              "      <td>California</td>\n",
              "      <td>90032</td>\n",
              "      <td>West</td>\n",
              "      <td>OFF-AP-10002892</td>\n",
              "      <td>Office Supplies</td>\n",
              "      <td>Appliances</td>\n",
              "      <td>Belkin F5C206VTEL 6 Outlet Surge</td>\n",
              "      <td>114.9000</td>\n",
              "      <td>5</td>\n",
              "      <td>0.00</td>\n",
              "      <td>34.4700</td>\n",
              "    </tr>\n",
              "    <tr>\n",
              "      <th>10</th>\n",
              "      <td>11</td>\n",
              "      <td>CA-2014-115812</td>\n",
              "      <td>2014-06-09</td>\n",
              "      <td>2014-06-14</td>\n",
              "      <td>Standard Class</td>\n",
              "      <td>BH-11710</td>\n",
              "      <td>Brosina Hoffman</td>\n",
              "      <td>Consumer</td>\n",
              "      <td>United States</td>\n",
              "      <td>Los Angeles</td>\n",
              "      <td>California</td>\n",
              "      <td>90032</td>\n",
              "      <td>West</td>\n",
              "      <td>FUR-TA-10001539</td>\n",
              "      <td>Furniture</td>\n",
              "      <td>Tables</td>\n",
              "      <td>Chromcraft Rectangular Conference Tables</td>\n",
              "      <td>1706.1840</td>\n",
              "      <td>9</td>\n",
              "      <td>0.20</td>\n",
              "      <td>85.3092</td>\n",
              "    </tr>\n",
              "    <tr>\n",
              "      <th>14</th>\n",
              "      <td>15</td>\n",
              "      <td>US-2015-118983</td>\n",
              "      <td>2015-11-22</td>\n",
              "      <td>2015-11-26</td>\n",
              "      <td>Standard Class</td>\n",
              "      <td>HP-14815</td>\n",
              "      <td>Harold Pawlan</td>\n",
              "      <td>Home Office</td>\n",
              "      <td>United States</td>\n",
              "      <td>Fort Worth</td>\n",
              "      <td>Texas</td>\n",
              "      <td>76106</td>\n",
              "      <td>Central</td>\n",
              "      <td>OFF-AP-10002311</td>\n",
              "      <td>Office Supplies</td>\n",
              "      <td>Appliances</td>\n",
              "      <td>Holmes Replacement Filter for HEPA Air Cleaner...</td>\n",
              "      <td>68.8100</td>\n",
              "      <td>5</td>\n",
              "      <td>0.80</td>\n",
              "      <td>-123.8580</td>\n",
              "    </tr>\n",
              "    <tr>\n",
              "      <th>...</th>\n",
              "      <td>...</td>\n",
              "      <td>...</td>\n",
              "      <td>...</td>\n",
              "      <td>...</td>\n",
              "      <td>...</td>\n",
              "      <td>...</td>\n",
              "      <td>...</td>\n",
              "      <td>...</td>\n",
              "      <td>...</td>\n",
              "      <td>...</td>\n",
              "      <td>...</td>\n",
              "      <td>...</td>\n",
              "      <td>...</td>\n",
              "      <td>...</td>\n",
              "      <td>...</td>\n",
              "      <td>...</td>\n",
              "      <td>...</td>\n",
              "      <td>...</td>\n",
              "      <td>...</td>\n",
              "      <td>...</td>\n",
              "      <td>...</td>\n",
              "    </tr>\n",
              "    <tr>\n",
              "      <th>9974</th>\n",
              "      <td>9975</td>\n",
              "      <td>US-2016-103674</td>\n",
              "      <td>2016-12-06</td>\n",
              "      <td>2016-12-10</td>\n",
              "      <td>Standard Class</td>\n",
              "      <td>AP-10720</td>\n",
              "      <td>Anne Pryor</td>\n",
              "      <td>Home Office</td>\n",
              "      <td>United States</td>\n",
              "      <td>Los Angeles</td>\n",
              "      <td>California</td>\n",
              "      <td>90032</td>\n",
              "      <td>West</td>\n",
              "      <td>OFF-AR-10004752</td>\n",
              "      <td>Office Supplies</td>\n",
              "      <td>Art</td>\n",
              "      <td>Blackstonian Pencils</td>\n",
              "      <td>18.6900</td>\n",
              "      <td>7</td>\n",
              "      <td>0.00</td>\n",
              "      <td>5.2332</td>\n",
              "    </tr>\n",
              "    <tr>\n",
              "      <th>9977</th>\n",
              "      <td>9978</td>\n",
              "      <td>US-2016-103674</td>\n",
              "      <td>2016-12-06</td>\n",
              "      <td>2016-12-10</td>\n",
              "      <td>Standard Class</td>\n",
              "      <td>AP-10720</td>\n",
              "      <td>Anne Pryor</td>\n",
              "      <td>Home Office</td>\n",
              "      <td>United States</td>\n",
              "      <td>Los Angeles</td>\n",
              "      <td>California</td>\n",
              "      <td>90032</td>\n",
              "      <td>West</td>\n",
              "      <td>OFF-FA-10003467</td>\n",
              "      <td>Office Supplies</td>\n",
              "      <td>Fasteners</td>\n",
              "      <td>Alliance Big Bands Rubber Bands, 12/Pack</td>\n",
              "      <td>13.8600</td>\n",
              "      <td>7</td>\n",
              "      <td>0.00</td>\n",
              "      <td>0.0000</td>\n",
              "    </tr>\n",
              "    <tr>\n",
              "      <th>9981</th>\n",
              "      <td>9982</td>\n",
              "      <td>CA-2017-163566</td>\n",
              "      <td>2017-08-03</td>\n",
              "      <td>2017-08-06</td>\n",
              "      <td>First Class</td>\n",
              "      <td>TB-21055</td>\n",
              "      <td>Ted Butterfield</td>\n",
              "      <td>Consumer</td>\n",
              "      <td>United States</td>\n",
              "      <td>Fairfield</td>\n",
              "      <td>Ohio</td>\n",
              "      <td>45014</td>\n",
              "      <td>East</td>\n",
              "      <td>OFF-LA-10004484</td>\n",
              "      <td>Office Supplies</td>\n",
              "      <td>Labels</td>\n",
              "      <td>Avery 476</td>\n",
              "      <td>16.5200</td>\n",
              "      <td>5</td>\n",
              "      <td>0.20</td>\n",
              "      <td>5.3690</td>\n",
              "    </tr>\n",
              "    <tr>\n",
              "      <th>9982</th>\n",
              "      <td>9983</td>\n",
              "      <td>US-2016-157728</td>\n",
              "      <td>2016-09-22</td>\n",
              "      <td>2016-09-28</td>\n",
              "      <td>Standard Class</td>\n",
              "      <td>RC-19960</td>\n",
              "      <td>Ryan Crowe</td>\n",
              "      <td>Consumer</td>\n",
              "      <td>United States</td>\n",
              "      <td>Grand Rapids</td>\n",
              "      <td>Michigan</td>\n",
              "      <td>49505</td>\n",
              "      <td>Central</td>\n",
              "      <td>OFF-PA-10002195</td>\n",
              "      <td>Office Supplies</td>\n",
              "      <td>Paper</td>\n",
              "      <td>RSVP Cards &amp; Envelopes, Blank White, 8-1/2\" X ...</td>\n",
              "      <td>35.5600</td>\n",
              "      <td>7</td>\n",
              "      <td>0.00</td>\n",
              "      <td>16.7132</td>\n",
              "    </tr>\n",
              "    <tr>\n",
              "      <th>9988</th>\n",
              "      <td>9989</td>\n",
              "      <td>CA-2017-163629</td>\n",
              "      <td>2017-11-17</td>\n",
              "      <td>2017-11-21</td>\n",
              "      <td>Standard Class</td>\n",
              "      <td>RA-19885</td>\n",
              "      <td>Ruben Ausman</td>\n",
              "      <td>Corporate</td>\n",
              "      <td>United States</td>\n",
              "      <td>Athens</td>\n",
              "      <td>Georgia</td>\n",
              "      <td>30605</td>\n",
              "      <td>South</td>\n",
              "      <td>TEC-PH-10004006</td>\n",
              "      <td>Technology</td>\n",
              "      <td>Phones</td>\n",
              "      <td>Panasonic KX - TS880B Telephone</td>\n",
              "      <td>206.1000</td>\n",
              "      <td>5</td>\n",
              "      <td>0.00</td>\n",
              "      <td>55.6470</td>\n",
              "    </tr>\n",
              "  </tbody>\n",
              "</table>\n",
              "<p>2128 rows × 21 columns</p>\n",
              "</div>"
            ],
            "text/plain": [
              "      Row ID        Order ID  Order Date  ... Quantity Discount    Profit\n",
              "3          4  US-2015-108966  2015-10-11  ...        5     0.45 -383.0310\n",
              "5          6  CA-2014-115812  2014-06-09  ...        7     0.00   14.1694\n",
              "9         10  CA-2014-115812  2014-06-09  ...        5     0.00   34.4700\n",
              "10        11  CA-2014-115812  2014-06-09  ...        9     0.20   85.3092\n",
              "14        15  US-2015-118983  2015-11-22  ...        5     0.80 -123.8580\n",
              "...      ...             ...         ...  ...      ...      ...       ...\n",
              "9974    9975  US-2016-103674  2016-12-06  ...        7     0.00    5.2332\n",
              "9977    9978  US-2016-103674  2016-12-06  ...        7     0.00    0.0000\n",
              "9981    9982  CA-2017-163566  2017-08-03  ...        5     0.20    5.3690\n",
              "9982    9983  US-2016-157728  2016-09-22  ...        7     0.00   16.7132\n",
              "9988    9989  CA-2017-163629  2017-11-17  ...        5     0.00   55.6470\n",
              "\n",
              "[2128 rows x 21 columns]"
            ]
          },
          "metadata": {
            "tags": []
          },
          "execution_count": 34
        }
      ]
    },
    {
      "cell_type": "markdown",
      "metadata": {
        "id": "rEAhvGE1NxwN"
      },
      "source": [
        "Na instrução acima estamos filtrando o dataframe chamado df, retornando todas as linhas onde a coluna Quantity for igual aos valores 5, 7, 9 ou 11. Passamos uma lista de valores como argumento para o método isin().\r\n",
        "Vamos deixar um pouquinho mais divertido. Se você executou a instrução acima, percebeu que foram retornadas 2.128 linhas. E se quisermos retornar somente 10 linhas? É só fatiar o resultado assim:\r\n"
      ]
    },
    {
      "cell_type": "code",
      "metadata": {
        "colab": {
          "base_uri": "https://localhost:8080/",
          "height": 957
        },
        "id": "Ij1dYwIeNsn3",
        "outputId": "b7f683b9-3969-4bab-8c32-68f8e542b813"
      },
      "source": [
        "df[df['Quantity'].isin([5,7,9,11])][:10]"
      ],
      "execution_count": 26,
      "outputs": [
        {
          "output_type": "execute_result",
          "data": {
            "text/html": [
              "<div>\n",
              "<style scoped>\n",
              "    .dataframe tbody tr th:only-of-type {\n",
              "        vertical-align: middle;\n",
              "    }\n",
              "\n",
              "    .dataframe tbody tr th {\n",
              "        vertical-align: top;\n",
              "    }\n",
              "\n",
              "    .dataframe thead th {\n",
              "        text-align: right;\n",
              "    }\n",
              "</style>\n",
              "<table border=\"1\" class=\"dataframe\">\n",
              "  <thead>\n",
              "    <tr style=\"text-align: right;\">\n",
              "      <th></th>\n",
              "      <th>Row ID</th>\n",
              "      <th>Order ID</th>\n",
              "      <th>Order Date</th>\n",
              "      <th>Ship Date</th>\n",
              "      <th>Ship Mode</th>\n",
              "      <th>Customer ID</th>\n",
              "      <th>Customer Name</th>\n",
              "      <th>Segment</th>\n",
              "      <th>Country</th>\n",
              "      <th>City</th>\n",
              "      <th>State</th>\n",
              "      <th>Postal Code</th>\n",
              "      <th>Region</th>\n",
              "      <th>Product ID</th>\n",
              "      <th>Category</th>\n",
              "      <th>Sub-Category</th>\n",
              "      <th>Product Name</th>\n",
              "      <th>Sales</th>\n",
              "      <th>Quantity</th>\n",
              "      <th>Discount</th>\n",
              "      <th>Profit</th>\n",
              "    </tr>\n",
              "  </thead>\n",
              "  <tbody>\n",
              "    <tr>\n",
              "      <th>3</th>\n",
              "      <td>4</td>\n",
              "      <td>US-2015-108966</td>\n",
              "      <td>2015-10-11</td>\n",
              "      <td>2015-10-18</td>\n",
              "      <td>Standard Class</td>\n",
              "      <td>SO-20335</td>\n",
              "      <td>Sean O'Donnell</td>\n",
              "      <td>Consumer</td>\n",
              "      <td>United States</td>\n",
              "      <td>Fort Lauderdale</td>\n",
              "      <td>Florida</td>\n",
              "      <td>33311</td>\n",
              "      <td>South</td>\n",
              "      <td>FUR-TA-10000577</td>\n",
              "      <td>Furniture</td>\n",
              "      <td>Tables</td>\n",
              "      <td>Bretford CR4500 Series Slim Rectangular Table</td>\n",
              "      <td>957.5775</td>\n",
              "      <td>5</td>\n",
              "      <td>0.45</td>\n",
              "      <td>-383.0310</td>\n",
              "    </tr>\n",
              "    <tr>\n",
              "      <th>5</th>\n",
              "      <td>6</td>\n",
              "      <td>CA-2014-115812</td>\n",
              "      <td>2014-06-09</td>\n",
              "      <td>2014-06-14</td>\n",
              "      <td>Standard Class</td>\n",
              "      <td>BH-11710</td>\n",
              "      <td>Brosina Hoffman</td>\n",
              "      <td>Consumer</td>\n",
              "      <td>United States</td>\n",
              "      <td>Los Angeles</td>\n",
              "      <td>California</td>\n",
              "      <td>90032</td>\n",
              "      <td>West</td>\n",
              "      <td>FUR-FU-10001487</td>\n",
              "      <td>Furniture</td>\n",
              "      <td>Furnishings</td>\n",
              "      <td>Eldon Expressions Wood and Plastic Desk Access...</td>\n",
              "      <td>48.8600</td>\n",
              "      <td>7</td>\n",
              "      <td>0.00</td>\n",
              "      <td>14.1694</td>\n",
              "    </tr>\n",
              "    <tr>\n",
              "      <th>9</th>\n",
              "      <td>10</td>\n",
              "      <td>CA-2014-115812</td>\n",
              "      <td>2014-06-09</td>\n",
              "      <td>2014-06-14</td>\n",
              "      <td>Standard Class</td>\n",
              "      <td>BH-11710</td>\n",
              "      <td>Brosina Hoffman</td>\n",
              "      <td>Consumer</td>\n",
              "      <td>United States</td>\n",
              "      <td>Los Angeles</td>\n",
              "      <td>California</td>\n",
              "      <td>90032</td>\n",
              "      <td>West</td>\n",
              "      <td>OFF-AP-10002892</td>\n",
              "      <td>Office Supplies</td>\n",
              "      <td>Appliances</td>\n",
              "      <td>Belkin F5C206VTEL 6 Outlet Surge</td>\n",
              "      <td>114.9000</td>\n",
              "      <td>5</td>\n",
              "      <td>0.00</td>\n",
              "      <td>34.4700</td>\n",
              "    </tr>\n",
              "    <tr>\n",
              "      <th>10</th>\n",
              "      <td>11</td>\n",
              "      <td>CA-2014-115812</td>\n",
              "      <td>2014-06-09</td>\n",
              "      <td>2014-06-14</td>\n",
              "      <td>Standard Class</td>\n",
              "      <td>BH-11710</td>\n",
              "      <td>Brosina Hoffman</td>\n",
              "      <td>Consumer</td>\n",
              "      <td>United States</td>\n",
              "      <td>Los Angeles</td>\n",
              "      <td>California</td>\n",
              "      <td>90032</td>\n",
              "      <td>West</td>\n",
              "      <td>FUR-TA-10001539</td>\n",
              "      <td>Furniture</td>\n",
              "      <td>Tables</td>\n",
              "      <td>Chromcraft Rectangular Conference Tables</td>\n",
              "      <td>1706.1840</td>\n",
              "      <td>9</td>\n",
              "      <td>0.20</td>\n",
              "      <td>85.3092</td>\n",
              "    </tr>\n",
              "    <tr>\n",
              "      <th>14</th>\n",
              "      <td>15</td>\n",
              "      <td>US-2015-118983</td>\n",
              "      <td>2015-11-22</td>\n",
              "      <td>2015-11-26</td>\n",
              "      <td>Standard Class</td>\n",
              "      <td>HP-14815</td>\n",
              "      <td>Harold Pawlan</td>\n",
              "      <td>Home Office</td>\n",
              "      <td>United States</td>\n",
              "      <td>Fort Worth</td>\n",
              "      <td>Texas</td>\n",
              "      <td>76106</td>\n",
              "      <td>Central</td>\n",
              "      <td>OFF-AP-10002311</td>\n",
              "      <td>Office Supplies</td>\n",
              "      <td>Appliances</td>\n",
              "      <td>Holmes Replacement Filter for HEPA Air Cleaner...</td>\n",
              "      <td>68.8100</td>\n",
              "      <td>5</td>\n",
              "      <td>0.80</td>\n",
              "      <td>-123.8580</td>\n",
              "    </tr>\n",
              "    <tr>\n",
              "      <th>21</th>\n",
              "      <td>22</td>\n",
              "      <td>CA-2016-137330</td>\n",
              "      <td>2016-12-09</td>\n",
              "      <td>2016-12-13</td>\n",
              "      <td>Standard Class</td>\n",
              "      <td>KB-16585</td>\n",
              "      <td>Ken Black</td>\n",
              "      <td>Corporate</td>\n",
              "      <td>United States</td>\n",
              "      <td>Fremont</td>\n",
              "      <td>Nebraska</td>\n",
              "      <td>68025</td>\n",
              "      <td>Central</td>\n",
              "      <td>OFF-AR-10000246</td>\n",
              "      <td>Office Supplies</td>\n",
              "      <td>Art</td>\n",
              "      <td>Newell 318</td>\n",
              "      <td>19.4600</td>\n",
              "      <td>7</td>\n",
              "      <td>0.00</td>\n",
              "      <td>5.0596</td>\n",
              "    </tr>\n",
              "    <tr>\n",
              "      <th>22</th>\n",
              "      <td>23</td>\n",
              "      <td>CA-2016-137330</td>\n",
              "      <td>2016-12-09</td>\n",
              "      <td>2016-12-13</td>\n",
              "      <td>Standard Class</td>\n",
              "      <td>KB-16585</td>\n",
              "      <td>Ken Black</td>\n",
              "      <td>Corporate</td>\n",
              "      <td>United States</td>\n",
              "      <td>Fremont</td>\n",
              "      <td>Nebraska</td>\n",
              "      <td>68025</td>\n",
              "      <td>Central</td>\n",
              "      <td>OFF-AP-10001492</td>\n",
              "      <td>Office Supplies</td>\n",
              "      <td>Appliances</td>\n",
              "      <td>Acco Six-Outlet Power Strip, 4' Cord Length</td>\n",
              "      <td>60.3400</td>\n",
              "      <td>7</td>\n",
              "      <td>0.00</td>\n",
              "      <td>15.6884</td>\n",
              "    </tr>\n",
              "    <tr>\n",
              "      <th>27</th>\n",
              "      <td>28</td>\n",
              "      <td>US-2015-150630</td>\n",
              "      <td>2015-09-17</td>\n",
              "      <td>2015-09-21</td>\n",
              "      <td>Standard Class</td>\n",
              "      <td>TB-21520</td>\n",
              "      <td>Tracy Blumstein</td>\n",
              "      <td>Consumer</td>\n",
              "      <td>United States</td>\n",
              "      <td>Philadelphia</td>\n",
              "      <td>Pennsylvania</td>\n",
              "      <td>19140</td>\n",
              "      <td>East</td>\n",
              "      <td>FUR-BO-10004834</td>\n",
              "      <td>Furniture</td>\n",
              "      <td>Bookcases</td>\n",
              "      <td>Riverside Palais Royal Lawyers Bookcase, Royal...</td>\n",
              "      <td>3083.4300</td>\n",
              "      <td>7</td>\n",
              "      <td>0.50</td>\n",
              "      <td>-1665.0522</td>\n",
              "    </tr>\n",
              "    <tr>\n",
              "      <th>35</th>\n",
              "      <td>36</td>\n",
              "      <td>CA-2016-117590</td>\n",
              "      <td>2016-12-08</td>\n",
              "      <td>2016-12-10</td>\n",
              "      <td>First Class</td>\n",
              "      <td>GH-14485</td>\n",
              "      <td>Gene Hale</td>\n",
              "      <td>Corporate</td>\n",
              "      <td>United States</td>\n",
              "      <td>Richardson</td>\n",
              "      <td>Texas</td>\n",
              "      <td>75080</td>\n",
              "      <td>Central</td>\n",
              "      <td>TEC-PH-10004977</td>\n",
              "      <td>Technology</td>\n",
              "      <td>Phones</td>\n",
              "      <td>GE 30524EE4</td>\n",
              "      <td>1097.5440</td>\n",
              "      <td>7</td>\n",
              "      <td>0.20</td>\n",
              "      <td>123.4737</td>\n",
              "    </tr>\n",
              "    <tr>\n",
              "      <th>36</th>\n",
              "      <td>37</td>\n",
              "      <td>CA-2016-117590</td>\n",
              "      <td>2016-12-08</td>\n",
              "      <td>2016-12-10</td>\n",
              "      <td>First Class</td>\n",
              "      <td>GH-14485</td>\n",
              "      <td>Gene Hale</td>\n",
              "      <td>Corporate</td>\n",
              "      <td>United States</td>\n",
              "      <td>Richardson</td>\n",
              "      <td>Texas</td>\n",
              "      <td>75080</td>\n",
              "      <td>Central</td>\n",
              "      <td>FUR-FU-10003664</td>\n",
              "      <td>Furniture</td>\n",
              "      <td>Furnishings</td>\n",
              "      <td>Electrix Architect's Clamp-On Swing Arm Lamp, ...</td>\n",
              "      <td>190.9200</td>\n",
              "      <td>5</td>\n",
              "      <td>0.60</td>\n",
              "      <td>-147.9630</td>\n",
              "    </tr>\n",
              "  </tbody>\n",
              "</table>\n",
              "</div>"
            ],
            "text/plain": [
              "    Row ID        Order ID  Order Date  ... Quantity Discount     Profit\n",
              "3        4  US-2015-108966  2015-10-11  ...        5     0.45  -383.0310\n",
              "5        6  CA-2014-115812  2014-06-09  ...        7     0.00    14.1694\n",
              "9       10  CA-2014-115812  2014-06-09  ...        5     0.00    34.4700\n",
              "10      11  CA-2014-115812  2014-06-09  ...        9     0.20    85.3092\n",
              "14      15  US-2015-118983  2015-11-22  ...        5     0.80  -123.8580\n",
              "21      22  CA-2016-137330  2016-12-09  ...        7     0.00     5.0596\n",
              "22      23  CA-2016-137330  2016-12-09  ...        7     0.00    15.6884\n",
              "27      28  US-2015-150630  2015-09-17  ...        7     0.50 -1665.0522\n",
              "35      36  CA-2016-117590  2016-12-08  ...        7     0.20   123.4737\n",
              "36      37  CA-2016-117590  2016-12-08  ...        5     0.60  -147.9630\n",
              "\n",
              "[10 rows x 21 columns]"
            ]
          },
          "metadata": {
            "tags": []
          },
          "execution_count": 26
        }
      ]
    },
    {
      "cell_type": "markdown",
      "metadata": {
        "id": "i7eL3jHOOk4l"
      },
      "source": [
        "## **Dica 4: Operadores Lógicos**\r\n",
        "\r\n",
        "Os operadores lógicos são excelentes para filtrar dataframes e retornar exatamente os dados que precisamos para nosso trabalho. Para conhecer mais sobre as regras dos operadores lógicos, acesse aqui:\r\n",
        "\r\n",
        "https://pt.wikipedia.org/wiki/Operador_l%C3%B3gico\r\n",
        "\r\n",
        "E então usaremos o operador lógico AND para checar duas condições. Serão retornados os registros quando as duas condições forem verdadeiras.\r\n",
        "\r\n",
        "**Filtrando as vendas que ocorreram para o segmento de Home Office e na região Sul**\r\n"
      ]
    },
    {
      "cell_type": "code",
      "metadata": {
        "colab": {
          "base_uri": "https://localhost:8080/",
          "height": 796
        },
        "id": "7RIAgaxNN0h3",
        "outputId": "bae39a2b-adc6-44a6-a238-e2476d9465e1"
      },
      "source": [
        "df[(df.Segment == 'Home Office') & (df.Region == 'South')]"
      ],
      "execution_count": 27,
      "outputs": [
        {
          "output_type": "execute_result",
          "data": {
            "text/html": [
              "<div>\n",
              "<style scoped>\n",
              "    .dataframe tbody tr th:only-of-type {\n",
              "        vertical-align: middle;\n",
              "    }\n",
              "\n",
              "    .dataframe tbody tr th {\n",
              "        vertical-align: top;\n",
              "    }\n",
              "\n",
              "    .dataframe thead th {\n",
              "        text-align: right;\n",
              "    }\n",
              "</style>\n",
              "<table border=\"1\" class=\"dataframe\">\n",
              "  <thead>\n",
              "    <tr style=\"text-align: right;\">\n",
              "      <th></th>\n",
              "      <th>Row ID</th>\n",
              "      <th>Order ID</th>\n",
              "      <th>Order Date</th>\n",
              "      <th>Ship Date</th>\n",
              "      <th>Ship Mode</th>\n",
              "      <th>Customer ID</th>\n",
              "      <th>Customer Name</th>\n",
              "      <th>Segment</th>\n",
              "      <th>Country</th>\n",
              "      <th>City</th>\n",
              "      <th>State</th>\n",
              "      <th>Postal Code</th>\n",
              "      <th>Region</th>\n",
              "      <th>Product ID</th>\n",
              "      <th>Category</th>\n",
              "      <th>Sub-Category</th>\n",
              "      <th>Product Name</th>\n",
              "      <th>Sales</th>\n",
              "      <th>Quantity</th>\n",
              "      <th>Discount</th>\n",
              "      <th>Profit</th>\n",
              "    </tr>\n",
              "  </thead>\n",
              "  <tbody>\n",
              "    <tr>\n",
              "      <th>182</th>\n",
              "      <td>183</td>\n",
              "      <td>CA-2014-158274</td>\n",
              "      <td>2014-11-19</td>\n",
              "      <td>2014-11-24</td>\n",
              "      <td>Second Class</td>\n",
              "      <td>RM-19675</td>\n",
              "      <td>Robert Marley</td>\n",
              "      <td>Home Office</td>\n",
              "      <td>United States</td>\n",
              "      <td>Monroe</td>\n",
              "      <td>Louisiana</td>\n",
              "      <td>71203</td>\n",
              "      <td>South</td>\n",
              "      <td>TEC-PH-10003273</td>\n",
              "      <td>Technology</td>\n",
              "      <td>Phones</td>\n",
              "      <td>AT&amp;T TR1909W</td>\n",
              "      <td>503.9600</td>\n",
              "      <td>4</td>\n",
              "      <td>0.00</td>\n",
              "      <td>131.0296</td>\n",
              "    </tr>\n",
              "    <tr>\n",
              "      <th>183</th>\n",
              "      <td>184</td>\n",
              "      <td>CA-2014-158274</td>\n",
              "      <td>2014-11-19</td>\n",
              "      <td>2014-11-24</td>\n",
              "      <td>Second Class</td>\n",
              "      <td>RM-19675</td>\n",
              "      <td>Robert Marley</td>\n",
              "      <td>Home Office</td>\n",
              "      <td>United States</td>\n",
              "      <td>Monroe</td>\n",
              "      <td>Louisiana</td>\n",
              "      <td>71203</td>\n",
              "      <td>South</td>\n",
              "      <td>TEC-PH-10004896</td>\n",
              "      <td>Technology</td>\n",
              "      <td>Phones</td>\n",
              "      <td>Nokia Lumia 521 (T-Mobile)</td>\n",
              "      <td>149.9500</td>\n",
              "      <td>5</td>\n",
              "      <td>0.00</td>\n",
              "      <td>41.9860</td>\n",
              "    </tr>\n",
              "    <tr>\n",
              "      <th>184</th>\n",
              "      <td>185</td>\n",
              "      <td>CA-2014-158274</td>\n",
              "      <td>2014-11-19</td>\n",
              "      <td>2014-11-24</td>\n",
              "      <td>Second Class</td>\n",
              "      <td>RM-19675</td>\n",
              "      <td>Robert Marley</td>\n",
              "      <td>Home Office</td>\n",
              "      <td>United States</td>\n",
              "      <td>Monroe</td>\n",
              "      <td>Louisiana</td>\n",
              "      <td>71203</td>\n",
              "      <td>South</td>\n",
              "      <td>TEC-AC-10002345</td>\n",
              "      <td>Technology</td>\n",
              "      <td>Accessories</td>\n",
              "      <td>HP Standard 104 key PS/2 Keyboard</td>\n",
              "      <td>29.0000</td>\n",
              "      <td>2</td>\n",
              "      <td>0.00</td>\n",
              "      <td>7.2500</td>\n",
              "    </tr>\n",
              "    <tr>\n",
              "      <th>231</th>\n",
              "      <td>232</td>\n",
              "      <td>US-2017-100930</td>\n",
              "      <td>2017-04-07</td>\n",
              "      <td>2017-04-12</td>\n",
              "      <td>Standard Class</td>\n",
              "      <td>CS-12400</td>\n",
              "      <td>Christopher Schild</td>\n",
              "      <td>Home Office</td>\n",
              "      <td>United States</td>\n",
              "      <td>Tampa</td>\n",
              "      <td>Florida</td>\n",
              "      <td>33614</td>\n",
              "      <td>South</td>\n",
              "      <td>FUR-TA-10001705</td>\n",
              "      <td>Furniture</td>\n",
              "      <td>Tables</td>\n",
              "      <td>Bush Advantage Collection Round Conference Table</td>\n",
              "      <td>233.8600</td>\n",
              "      <td>2</td>\n",
              "      <td>0.45</td>\n",
              "      <td>-102.0480</td>\n",
              "    </tr>\n",
              "    <tr>\n",
              "      <th>232</th>\n",
              "      <td>233</td>\n",
              "      <td>US-2017-100930</td>\n",
              "      <td>2017-04-07</td>\n",
              "      <td>2017-04-12</td>\n",
              "      <td>Standard Class</td>\n",
              "      <td>CS-12400</td>\n",
              "      <td>Christopher Schild</td>\n",
              "      <td>Home Office</td>\n",
              "      <td>United States</td>\n",
              "      <td>Tampa</td>\n",
              "      <td>Florida</td>\n",
              "      <td>33614</td>\n",
              "      <td>South</td>\n",
              "      <td>FUR-TA-10003473</td>\n",
              "      <td>Furniture</td>\n",
              "      <td>Tables</td>\n",
              "      <td>Bretford Rectangular Conference Table Tops</td>\n",
              "      <td>620.6145</td>\n",
              "      <td>3</td>\n",
              "      <td>0.45</td>\n",
              "      <td>-248.2458</td>\n",
              "    </tr>\n",
              "    <tr>\n",
              "      <th>...</th>\n",
              "      <td>...</td>\n",
              "      <td>...</td>\n",
              "      <td>...</td>\n",
              "      <td>...</td>\n",
              "      <td>...</td>\n",
              "      <td>...</td>\n",
              "      <td>...</td>\n",
              "      <td>...</td>\n",
              "      <td>...</td>\n",
              "      <td>...</td>\n",
              "      <td>...</td>\n",
              "      <td>...</td>\n",
              "      <td>...</td>\n",
              "      <td>...</td>\n",
              "      <td>...</td>\n",
              "      <td>...</td>\n",
              "      <td>...</td>\n",
              "      <td>...</td>\n",
              "      <td>...</td>\n",
              "      <td>...</td>\n",
              "      <td>...</td>\n",
              "    </tr>\n",
              "    <tr>\n",
              "      <th>9805</th>\n",
              "      <td>9806</td>\n",
              "      <td>CA-2016-136322</td>\n",
              "      <td>2016-10-21</td>\n",
              "      <td>2016-10-26</td>\n",
              "      <td>Standard Class</td>\n",
              "      <td>AP-10720</td>\n",
              "      <td>Anne Pryor</td>\n",
              "      <td>Home Office</td>\n",
              "      <td>United States</td>\n",
              "      <td>Fort Lauderdale</td>\n",
              "      <td>Florida</td>\n",
              "      <td>33311</td>\n",
              "      <td>South</td>\n",
              "      <td>FUR-FU-10002878</td>\n",
              "      <td>Furniture</td>\n",
              "      <td>Furnishings</td>\n",
              "      <td>Seth Thomas 14\" Day/Date Wall Clock</td>\n",
              "      <td>45.5680</td>\n",
              "      <td>2</td>\n",
              "      <td>0.20</td>\n",
              "      <td>9.6832</td>\n",
              "    </tr>\n",
              "    <tr>\n",
              "      <th>9806</th>\n",
              "      <td>9807</td>\n",
              "      <td>CA-2016-136322</td>\n",
              "      <td>2016-10-21</td>\n",
              "      <td>2016-10-26</td>\n",
              "      <td>Standard Class</td>\n",
              "      <td>AP-10720</td>\n",
              "      <td>Anne Pryor</td>\n",
              "      <td>Home Office</td>\n",
              "      <td>United States</td>\n",
              "      <td>Fort Lauderdale</td>\n",
              "      <td>Florida</td>\n",
              "      <td>33311</td>\n",
              "      <td>South</td>\n",
              "      <td>OFF-BI-10004817</td>\n",
              "      <td>Office Supplies</td>\n",
              "      <td>Binders</td>\n",
              "      <td>GBC Personal VeloBind Strips</td>\n",
              "      <td>28.7520</td>\n",
              "      <td>8</td>\n",
              "      <td>0.70</td>\n",
              "      <td>-21.0848</td>\n",
              "    </tr>\n",
              "    <tr>\n",
              "      <th>9960</th>\n",
              "      <td>9961</td>\n",
              "      <td>CA-2017-141446</td>\n",
              "      <td>2017-09-16</td>\n",
              "      <td>2017-09-18</td>\n",
              "      <td>Second Class</td>\n",
              "      <td>CL-12700</td>\n",
              "      <td>Craig Leslie</td>\n",
              "      <td>Home Office</td>\n",
              "      <td>United States</td>\n",
              "      <td>Florence</td>\n",
              "      <td>Kentucky</td>\n",
              "      <td>41042</td>\n",
              "      <td>South</td>\n",
              "      <td>TEC-AC-10002305</td>\n",
              "      <td>Technology</td>\n",
              "      <td>Accessories</td>\n",
              "      <td>KeyTronic E03601U1 - Keyboard - Beige</td>\n",
              "      <td>18.0000</td>\n",
              "      <td>1</td>\n",
              "      <td>0.00</td>\n",
              "      <td>3.2400</td>\n",
              "    </tr>\n",
              "    <tr>\n",
              "      <th>9970</th>\n",
              "      <td>9971</td>\n",
              "      <td>CA-2015-103772</td>\n",
              "      <td>2015-06-28</td>\n",
              "      <td>2015-07-02</td>\n",
              "      <td>Standard Class</td>\n",
              "      <td>MP-17470</td>\n",
              "      <td>Mark Packer</td>\n",
              "      <td>Home Office</td>\n",
              "      <td>United States</td>\n",
              "      <td>Smyrna</td>\n",
              "      <td>Georgia</td>\n",
              "      <td>30080</td>\n",
              "      <td>South</td>\n",
              "      <td>OFF-BI-10002867</td>\n",
              "      <td>Office Supplies</td>\n",
              "      <td>Binders</td>\n",
              "      <td>GBC Recycled Regency Composition Covers</td>\n",
              "      <td>119.5600</td>\n",
              "      <td>2</td>\n",
              "      <td>0.00</td>\n",
              "      <td>54.9976</td>\n",
              "    </tr>\n",
              "    <tr>\n",
              "      <th>9971</th>\n",
              "      <td>9972</td>\n",
              "      <td>CA-2015-103772</td>\n",
              "      <td>2015-06-28</td>\n",
              "      <td>2015-07-02</td>\n",
              "      <td>Standard Class</td>\n",
              "      <td>MP-17470</td>\n",
              "      <td>Mark Packer</td>\n",
              "      <td>Home Office</td>\n",
              "      <td>United States</td>\n",
              "      <td>Smyrna</td>\n",
              "      <td>Georgia</td>\n",
              "      <td>30080</td>\n",
              "      <td>South</td>\n",
              "      <td>OFF-AR-10000538</td>\n",
              "      <td>Office Supplies</td>\n",
              "      <td>Art</td>\n",
              "      <td>Boston Model 1800 Electric Pencil Sharpener, Gray</td>\n",
              "      <td>140.7500</td>\n",
              "      <td>5</td>\n",
              "      <td>0.00</td>\n",
              "      <td>42.2250</td>\n",
              "    </tr>\n",
              "  </tbody>\n",
              "</table>\n",
              "<p>272 rows × 21 columns</p>\n",
              "</div>"
            ],
            "text/plain": [
              "      Row ID        Order ID  Order Date  ... Quantity Discount    Profit\n",
              "182      183  CA-2014-158274  2014-11-19  ...        4     0.00  131.0296\n",
              "183      184  CA-2014-158274  2014-11-19  ...        5     0.00   41.9860\n",
              "184      185  CA-2014-158274  2014-11-19  ...        2     0.00    7.2500\n",
              "231      232  US-2017-100930  2017-04-07  ...        2     0.45 -102.0480\n",
              "232      233  US-2017-100930  2017-04-07  ...        3     0.45 -248.2458\n",
              "...      ...             ...         ...  ...      ...      ...       ...\n",
              "9805    9806  CA-2016-136322  2016-10-21  ...        2     0.20    9.6832\n",
              "9806    9807  CA-2016-136322  2016-10-21  ...        8     0.70  -21.0848\n",
              "9960    9961  CA-2017-141446  2017-09-16  ...        1     0.00    3.2400\n",
              "9970    9971  CA-2015-103772  2015-06-28  ...        2     0.00   54.9976\n",
              "9971    9972  CA-2015-103772  2015-06-28  ...        5     0.00   42.2250\n",
              "\n",
              "[272 rows x 21 columns]"
            ]
          },
          "metadata": {
            "tags": []
          },
          "execution_count": 27
        }
      ]
    },
    {
      "cell_type": "markdown",
      "metadata": {
        "id": "1NFJ60DQO5jN"
      },
      "source": [
        "Mas pode ser necessário checar duas condições e retornar os registros se pelo menos uma for verdadeira.\r\n",
        "\r\n",
        "Nesse caso usamos o operador OR, conforme abaixo.\r\n",
        "\r\n",
        "Filtrando as vendas que ocorreram para o segmento de Home Office ou região Sul\r\n"
      ]
    },
    {
      "cell_type": "code",
      "metadata": {
        "colab": {
          "base_uri": "https://localhost:8080/",
          "height": 1000
        },
        "id": "SxwqHPlRO1f9",
        "outputId": "1b39f47b-899a-4f9f-afaf-260adf4c3ae5"
      },
      "source": [
        "df[(df.Segment == 'Home Office') | (df.Region == 'South')]"
      ],
      "execution_count": 28,
      "outputs": [
        {
          "output_type": "execute_result",
          "data": {
            "text/html": [
              "<div>\n",
              "<style scoped>\n",
              "    .dataframe tbody tr th:only-of-type {\n",
              "        vertical-align: middle;\n",
              "    }\n",
              "\n",
              "    .dataframe tbody tr th {\n",
              "        vertical-align: top;\n",
              "    }\n",
              "\n",
              "    .dataframe thead th {\n",
              "        text-align: right;\n",
              "    }\n",
              "</style>\n",
              "<table border=\"1\" class=\"dataframe\">\n",
              "  <thead>\n",
              "    <tr style=\"text-align: right;\">\n",
              "      <th></th>\n",
              "      <th>Row ID</th>\n",
              "      <th>Order ID</th>\n",
              "      <th>Order Date</th>\n",
              "      <th>Ship Date</th>\n",
              "      <th>Ship Mode</th>\n",
              "      <th>Customer ID</th>\n",
              "      <th>Customer Name</th>\n",
              "      <th>Segment</th>\n",
              "      <th>Country</th>\n",
              "      <th>City</th>\n",
              "      <th>State</th>\n",
              "      <th>Postal Code</th>\n",
              "      <th>Region</th>\n",
              "      <th>Product ID</th>\n",
              "      <th>Category</th>\n",
              "      <th>Sub-Category</th>\n",
              "      <th>Product Name</th>\n",
              "      <th>Sales</th>\n",
              "      <th>Quantity</th>\n",
              "      <th>Discount</th>\n",
              "      <th>Profit</th>\n",
              "    </tr>\n",
              "  </thead>\n",
              "  <tbody>\n",
              "    <tr>\n",
              "      <th>0</th>\n",
              "      <td>1</td>\n",
              "      <td>CA-2016-152156</td>\n",
              "      <td>2016-11-08</td>\n",
              "      <td>2016-11-11</td>\n",
              "      <td>Second Class</td>\n",
              "      <td>CG-12520</td>\n",
              "      <td>Claire Gute</td>\n",
              "      <td>Consumer</td>\n",
              "      <td>United States</td>\n",
              "      <td>Henderson</td>\n",
              "      <td>Kentucky</td>\n",
              "      <td>42420</td>\n",
              "      <td>South</td>\n",
              "      <td>FUR-BO-10001798</td>\n",
              "      <td>Furniture</td>\n",
              "      <td>Bookcases</td>\n",
              "      <td>Bush Somerset Collection Bookcase</td>\n",
              "      <td>261.9600</td>\n",
              "      <td>2</td>\n",
              "      <td>0.00</td>\n",
              "      <td>41.9136</td>\n",
              "    </tr>\n",
              "    <tr>\n",
              "      <th>1</th>\n",
              "      <td>2</td>\n",
              "      <td>CA-2016-152156</td>\n",
              "      <td>2016-11-08</td>\n",
              "      <td>2016-11-11</td>\n",
              "      <td>Second Class</td>\n",
              "      <td>CG-12520</td>\n",
              "      <td>Claire Gute</td>\n",
              "      <td>Consumer</td>\n",
              "      <td>United States</td>\n",
              "      <td>Henderson</td>\n",
              "      <td>Kentucky</td>\n",
              "      <td>42420</td>\n",
              "      <td>South</td>\n",
              "      <td>FUR-CH-10000454</td>\n",
              "      <td>Furniture</td>\n",
              "      <td>Chairs</td>\n",
              "      <td>Hon Deluxe Fabric Upholstered Stacking Chairs,...</td>\n",
              "      <td>731.9400</td>\n",
              "      <td>3</td>\n",
              "      <td>0.00</td>\n",
              "      <td>219.5820</td>\n",
              "    </tr>\n",
              "    <tr>\n",
              "      <th>3</th>\n",
              "      <td>4</td>\n",
              "      <td>US-2015-108966</td>\n",
              "      <td>2015-10-11</td>\n",
              "      <td>2015-10-18</td>\n",
              "      <td>Standard Class</td>\n",
              "      <td>SO-20335</td>\n",
              "      <td>Sean O'Donnell</td>\n",
              "      <td>Consumer</td>\n",
              "      <td>United States</td>\n",
              "      <td>Fort Lauderdale</td>\n",
              "      <td>Florida</td>\n",
              "      <td>33311</td>\n",
              "      <td>South</td>\n",
              "      <td>FUR-TA-10000577</td>\n",
              "      <td>Furniture</td>\n",
              "      <td>Tables</td>\n",
              "      <td>Bretford CR4500 Series Slim Rectangular Table</td>\n",
              "      <td>957.5775</td>\n",
              "      <td>5</td>\n",
              "      <td>0.45</td>\n",
              "      <td>-383.0310</td>\n",
              "    </tr>\n",
              "    <tr>\n",
              "      <th>4</th>\n",
              "      <td>5</td>\n",
              "      <td>US-2015-108966</td>\n",
              "      <td>2015-10-11</td>\n",
              "      <td>2015-10-18</td>\n",
              "      <td>Standard Class</td>\n",
              "      <td>SO-20335</td>\n",
              "      <td>Sean O'Donnell</td>\n",
              "      <td>Consumer</td>\n",
              "      <td>United States</td>\n",
              "      <td>Fort Lauderdale</td>\n",
              "      <td>Florida</td>\n",
              "      <td>33311</td>\n",
              "      <td>South</td>\n",
              "      <td>OFF-ST-10000760</td>\n",
              "      <td>Office Supplies</td>\n",
              "      <td>Storage</td>\n",
              "      <td>Eldon Fold 'N Roll Cart System</td>\n",
              "      <td>22.3680</td>\n",
              "      <td>2</td>\n",
              "      <td>0.20</td>\n",
              "      <td>2.5164</td>\n",
              "    </tr>\n",
              "    <tr>\n",
              "      <th>12</th>\n",
              "      <td>13</td>\n",
              "      <td>CA-2017-114412</td>\n",
              "      <td>2017-04-15</td>\n",
              "      <td>2017-04-20</td>\n",
              "      <td>Standard Class</td>\n",
              "      <td>AA-10480</td>\n",
              "      <td>Andrew Allen</td>\n",
              "      <td>Consumer</td>\n",
              "      <td>United States</td>\n",
              "      <td>Concord</td>\n",
              "      <td>North Carolina</td>\n",
              "      <td>28027</td>\n",
              "      <td>South</td>\n",
              "      <td>OFF-PA-10002365</td>\n",
              "      <td>Office Supplies</td>\n",
              "      <td>Paper</td>\n",
              "      <td>Xerox 1967</td>\n",
              "      <td>15.5520</td>\n",
              "      <td>3</td>\n",
              "      <td>0.20</td>\n",
              "      <td>5.4432</td>\n",
              "    </tr>\n",
              "    <tr>\n",
              "      <th>...</th>\n",
              "      <td>...</td>\n",
              "      <td>...</td>\n",
              "      <td>...</td>\n",
              "      <td>...</td>\n",
              "      <td>...</td>\n",
              "      <td>...</td>\n",
              "      <td>...</td>\n",
              "      <td>...</td>\n",
              "      <td>...</td>\n",
              "      <td>...</td>\n",
              "      <td>...</td>\n",
              "      <td>...</td>\n",
              "      <td>...</td>\n",
              "      <td>...</td>\n",
              "      <td>...</td>\n",
              "      <td>...</td>\n",
              "      <td>...</td>\n",
              "      <td>...</td>\n",
              "      <td>...</td>\n",
              "      <td>...</td>\n",
              "      <td>...</td>\n",
              "    </tr>\n",
              "    <tr>\n",
              "      <th>9979</th>\n",
              "      <td>9980</td>\n",
              "      <td>US-2016-103674</td>\n",
              "      <td>2016-12-06</td>\n",
              "      <td>2016-12-10</td>\n",
              "      <td>Standard Class</td>\n",
              "      <td>AP-10720</td>\n",
              "      <td>Anne Pryor</td>\n",
              "      <td>Home Office</td>\n",
              "      <td>United States</td>\n",
              "      <td>Los Angeles</td>\n",
              "      <td>California</td>\n",
              "      <td>90032</td>\n",
              "      <td>West</td>\n",
              "      <td>OFF-BI-10002026</td>\n",
              "      <td>Office Supplies</td>\n",
              "      <td>Binders</td>\n",
              "      <td>Ibico Recycled Linen-Style Covers</td>\n",
              "      <td>437.4720</td>\n",
              "      <td>14</td>\n",
              "      <td>0.20</td>\n",
              "      <td>153.1152</td>\n",
              "    </tr>\n",
              "    <tr>\n",
              "      <th>9980</th>\n",
              "      <td>9981</td>\n",
              "      <td>US-2015-151435</td>\n",
              "      <td>2015-09-06</td>\n",
              "      <td>2015-09-09</td>\n",
              "      <td>Second Class</td>\n",
              "      <td>SW-20455</td>\n",
              "      <td>Shaun Weien</td>\n",
              "      <td>Consumer</td>\n",
              "      <td>United States</td>\n",
              "      <td>Lafayette</td>\n",
              "      <td>Louisiana</td>\n",
              "      <td>70506</td>\n",
              "      <td>South</td>\n",
              "      <td>FUR-TA-10001039</td>\n",
              "      <td>Furniture</td>\n",
              "      <td>Tables</td>\n",
              "      <td>KI Adjustable-Height Table</td>\n",
              "      <td>85.9800</td>\n",
              "      <td>1</td>\n",
              "      <td>0.00</td>\n",
              "      <td>22.3548</td>\n",
              "    </tr>\n",
              "    <tr>\n",
              "      <th>9987</th>\n",
              "      <td>9988</td>\n",
              "      <td>CA-2017-163629</td>\n",
              "      <td>2017-11-17</td>\n",
              "      <td>2017-11-21</td>\n",
              "      <td>Standard Class</td>\n",
              "      <td>RA-19885</td>\n",
              "      <td>Ruben Ausman</td>\n",
              "      <td>Corporate</td>\n",
              "      <td>United States</td>\n",
              "      <td>Athens</td>\n",
              "      <td>Georgia</td>\n",
              "      <td>30605</td>\n",
              "      <td>South</td>\n",
              "      <td>TEC-AC-10001539</td>\n",
              "      <td>Technology</td>\n",
              "      <td>Accessories</td>\n",
              "      <td>Logitech G430 Surround Sound Gaming Headset wi...</td>\n",
              "      <td>79.9900</td>\n",
              "      <td>1</td>\n",
              "      <td>0.00</td>\n",
              "      <td>28.7964</td>\n",
              "    </tr>\n",
              "    <tr>\n",
              "      <th>9988</th>\n",
              "      <td>9989</td>\n",
              "      <td>CA-2017-163629</td>\n",
              "      <td>2017-11-17</td>\n",
              "      <td>2017-11-21</td>\n",
              "      <td>Standard Class</td>\n",
              "      <td>RA-19885</td>\n",
              "      <td>Ruben Ausman</td>\n",
              "      <td>Corporate</td>\n",
              "      <td>United States</td>\n",
              "      <td>Athens</td>\n",
              "      <td>Georgia</td>\n",
              "      <td>30605</td>\n",
              "      <td>South</td>\n",
              "      <td>TEC-PH-10004006</td>\n",
              "      <td>Technology</td>\n",
              "      <td>Phones</td>\n",
              "      <td>Panasonic KX - TS880B Telephone</td>\n",
              "      <td>206.1000</td>\n",
              "      <td>5</td>\n",
              "      <td>0.00</td>\n",
              "      <td>55.6470</td>\n",
              "    </tr>\n",
              "    <tr>\n",
              "      <th>9989</th>\n",
              "      <td>9990</td>\n",
              "      <td>CA-2014-110422</td>\n",
              "      <td>2014-01-21</td>\n",
              "      <td>2014-01-23</td>\n",
              "      <td>Second Class</td>\n",
              "      <td>TB-21400</td>\n",
              "      <td>Tom Boeckenhauer</td>\n",
              "      <td>Consumer</td>\n",
              "      <td>United States</td>\n",
              "      <td>Miami</td>\n",
              "      <td>Florida</td>\n",
              "      <td>33180</td>\n",
              "      <td>South</td>\n",
              "      <td>FUR-FU-10001889</td>\n",
              "      <td>Furniture</td>\n",
              "      <td>Furnishings</td>\n",
              "      <td>Ultra Door Pull Handle</td>\n",
              "      <td>25.2480</td>\n",
              "      <td>3</td>\n",
              "      <td>0.20</td>\n",
              "      <td>4.1028</td>\n",
              "    </tr>\n",
              "  </tbody>\n",
              "</table>\n",
              "<p>3131 rows × 21 columns</p>\n",
              "</div>"
            ],
            "text/plain": [
              "      Row ID        Order ID  Order Date  ... Quantity Discount    Profit\n",
              "0          1  CA-2016-152156  2016-11-08  ...        2     0.00   41.9136\n",
              "1          2  CA-2016-152156  2016-11-08  ...        3     0.00  219.5820\n",
              "3          4  US-2015-108966  2015-10-11  ...        5     0.45 -383.0310\n",
              "4          5  US-2015-108966  2015-10-11  ...        2     0.20    2.5164\n",
              "12        13  CA-2017-114412  2017-04-15  ...        3     0.20    5.4432\n",
              "...      ...             ...         ...  ...      ...      ...       ...\n",
              "9979    9980  US-2016-103674  2016-12-06  ...       14     0.20  153.1152\n",
              "9980    9981  US-2015-151435  2015-09-06  ...        1     0.00   22.3548\n",
              "9987    9988  CA-2017-163629  2017-11-17  ...        1     0.00   28.7964\n",
              "9988    9989  CA-2017-163629  2017-11-17  ...        5     0.00   55.6470\n",
              "9989    9990  CA-2014-110422  2014-01-21  ...        3     0.20    4.1028\n",
              "\n",
              "[3131 rows x 21 columns]"
            ]
          },
          "metadata": {
            "tags": []
          },
          "execution_count": 28
        }
      ]
    },
    {
      "cell_type": "markdown",
      "metadata": {
        "id": "dQQ6tAuyPHFB"
      },
      "source": [
        "O operador de negação é o contrário do primeiro exemplo.\r\n",
        "\r\n",
        "**Filtrando as vendas que não ocorreram para o segmento de Home Office e nem na região Sul**\r\n"
      ]
    },
    {
      "cell_type": "code",
      "metadata": {
        "colab": {
          "base_uri": "https://localhost:8080/",
          "height": 1000
        },
        "id": "6zC6y-v3PDfJ",
        "outputId": "42ed968c-bec4-41ec-e3bb-70fab361d8c2"
      },
      "source": [
        "df[(df.Segment != 'Home Office') & (df.Region != 'South')]"
      ],
      "execution_count": 29,
      "outputs": [
        {
          "output_type": "execute_result",
          "data": {
            "text/html": [
              "<div>\n",
              "<style scoped>\n",
              "    .dataframe tbody tr th:only-of-type {\n",
              "        vertical-align: middle;\n",
              "    }\n",
              "\n",
              "    .dataframe tbody tr th {\n",
              "        vertical-align: top;\n",
              "    }\n",
              "\n",
              "    .dataframe thead th {\n",
              "        text-align: right;\n",
              "    }\n",
              "</style>\n",
              "<table border=\"1\" class=\"dataframe\">\n",
              "  <thead>\n",
              "    <tr style=\"text-align: right;\">\n",
              "      <th></th>\n",
              "      <th>Row ID</th>\n",
              "      <th>Order ID</th>\n",
              "      <th>Order Date</th>\n",
              "      <th>Ship Date</th>\n",
              "      <th>Ship Mode</th>\n",
              "      <th>Customer ID</th>\n",
              "      <th>Customer Name</th>\n",
              "      <th>Segment</th>\n",
              "      <th>Country</th>\n",
              "      <th>City</th>\n",
              "      <th>State</th>\n",
              "      <th>Postal Code</th>\n",
              "      <th>Region</th>\n",
              "      <th>Product ID</th>\n",
              "      <th>Category</th>\n",
              "      <th>Sub-Category</th>\n",
              "      <th>Product Name</th>\n",
              "      <th>Sales</th>\n",
              "      <th>Quantity</th>\n",
              "      <th>Discount</th>\n",
              "      <th>Profit</th>\n",
              "    </tr>\n",
              "  </thead>\n",
              "  <tbody>\n",
              "    <tr>\n",
              "      <th>2</th>\n",
              "      <td>3</td>\n",
              "      <td>CA-2016-138688</td>\n",
              "      <td>2016-06-12</td>\n",
              "      <td>2016-06-16</td>\n",
              "      <td>Second Class</td>\n",
              "      <td>DV-13045</td>\n",
              "      <td>Darrin Van Huff</td>\n",
              "      <td>Corporate</td>\n",
              "      <td>United States</td>\n",
              "      <td>Los Angeles</td>\n",
              "      <td>California</td>\n",
              "      <td>90036</td>\n",
              "      <td>West</td>\n",
              "      <td>OFF-LA-10000240</td>\n",
              "      <td>Office Supplies</td>\n",
              "      <td>Labels</td>\n",
              "      <td>Self-Adhesive Address Labels for Typewriters b...</td>\n",
              "      <td>14.620</td>\n",
              "      <td>2</td>\n",
              "      <td>0.0</td>\n",
              "      <td>6.8714</td>\n",
              "    </tr>\n",
              "    <tr>\n",
              "      <th>5</th>\n",
              "      <td>6</td>\n",
              "      <td>CA-2014-115812</td>\n",
              "      <td>2014-06-09</td>\n",
              "      <td>2014-06-14</td>\n",
              "      <td>Standard Class</td>\n",
              "      <td>BH-11710</td>\n",
              "      <td>Brosina Hoffman</td>\n",
              "      <td>Consumer</td>\n",
              "      <td>United States</td>\n",
              "      <td>Los Angeles</td>\n",
              "      <td>California</td>\n",
              "      <td>90032</td>\n",
              "      <td>West</td>\n",
              "      <td>FUR-FU-10001487</td>\n",
              "      <td>Furniture</td>\n",
              "      <td>Furnishings</td>\n",
              "      <td>Eldon Expressions Wood and Plastic Desk Access...</td>\n",
              "      <td>48.860</td>\n",
              "      <td>7</td>\n",
              "      <td>0.0</td>\n",
              "      <td>14.1694</td>\n",
              "    </tr>\n",
              "    <tr>\n",
              "      <th>6</th>\n",
              "      <td>7</td>\n",
              "      <td>CA-2014-115812</td>\n",
              "      <td>2014-06-09</td>\n",
              "      <td>2014-06-14</td>\n",
              "      <td>Standard Class</td>\n",
              "      <td>BH-11710</td>\n",
              "      <td>Brosina Hoffman</td>\n",
              "      <td>Consumer</td>\n",
              "      <td>United States</td>\n",
              "      <td>Los Angeles</td>\n",
              "      <td>California</td>\n",
              "      <td>90032</td>\n",
              "      <td>West</td>\n",
              "      <td>OFF-AR-10002833</td>\n",
              "      <td>Office Supplies</td>\n",
              "      <td>Art</td>\n",
              "      <td>Newell 322</td>\n",
              "      <td>7.280</td>\n",
              "      <td>4</td>\n",
              "      <td>0.0</td>\n",
              "      <td>1.9656</td>\n",
              "    </tr>\n",
              "    <tr>\n",
              "      <th>7</th>\n",
              "      <td>8</td>\n",
              "      <td>CA-2014-115812</td>\n",
              "      <td>2014-06-09</td>\n",
              "      <td>2014-06-14</td>\n",
              "      <td>Standard Class</td>\n",
              "      <td>BH-11710</td>\n",
              "      <td>Brosina Hoffman</td>\n",
              "      <td>Consumer</td>\n",
              "      <td>United States</td>\n",
              "      <td>Los Angeles</td>\n",
              "      <td>California</td>\n",
              "      <td>90032</td>\n",
              "      <td>West</td>\n",
              "      <td>TEC-PH-10002275</td>\n",
              "      <td>Technology</td>\n",
              "      <td>Phones</td>\n",
              "      <td>Mitel 5320 IP Phone VoIP phone</td>\n",
              "      <td>907.152</td>\n",
              "      <td>6</td>\n",
              "      <td>0.2</td>\n",
              "      <td>90.7152</td>\n",
              "    </tr>\n",
              "    <tr>\n",
              "      <th>8</th>\n",
              "      <td>9</td>\n",
              "      <td>CA-2014-115812</td>\n",
              "      <td>2014-06-09</td>\n",
              "      <td>2014-06-14</td>\n",
              "      <td>Standard Class</td>\n",
              "      <td>BH-11710</td>\n",
              "      <td>Brosina Hoffman</td>\n",
              "      <td>Consumer</td>\n",
              "      <td>United States</td>\n",
              "      <td>Los Angeles</td>\n",
              "      <td>California</td>\n",
              "      <td>90032</td>\n",
              "      <td>West</td>\n",
              "      <td>OFF-BI-10003910</td>\n",
              "      <td>Office Supplies</td>\n",
              "      <td>Binders</td>\n",
              "      <td>DXL Angle-View Binders with Locking Rings by S...</td>\n",
              "      <td>18.504</td>\n",
              "      <td>3</td>\n",
              "      <td>0.2</td>\n",
              "      <td>5.7825</td>\n",
              "    </tr>\n",
              "    <tr>\n",
              "      <th>...</th>\n",
              "      <td>...</td>\n",
              "      <td>...</td>\n",
              "      <td>...</td>\n",
              "      <td>...</td>\n",
              "      <td>...</td>\n",
              "      <td>...</td>\n",
              "      <td>...</td>\n",
              "      <td>...</td>\n",
              "      <td>...</td>\n",
              "      <td>...</td>\n",
              "      <td>...</td>\n",
              "      <td>...</td>\n",
              "      <td>...</td>\n",
              "      <td>...</td>\n",
              "      <td>...</td>\n",
              "      <td>...</td>\n",
              "      <td>...</td>\n",
              "      <td>...</td>\n",
              "      <td>...</td>\n",
              "      <td>...</td>\n",
              "      <td>...</td>\n",
              "    </tr>\n",
              "    <tr>\n",
              "      <th>9986</th>\n",
              "      <td>9987</td>\n",
              "      <td>CA-2016-125794</td>\n",
              "      <td>2016-09-29</td>\n",
              "      <td>2016-10-03</td>\n",
              "      <td>Standard Class</td>\n",
              "      <td>ML-17410</td>\n",
              "      <td>Maris LaWare</td>\n",
              "      <td>Consumer</td>\n",
              "      <td>United States</td>\n",
              "      <td>Los Angeles</td>\n",
              "      <td>California</td>\n",
              "      <td>90008</td>\n",
              "      <td>West</td>\n",
              "      <td>TEC-AC-10003399</td>\n",
              "      <td>Technology</td>\n",
              "      <td>Accessories</td>\n",
              "      <td>Memorex Mini Travel Drive 64 GB USB 2.0 Flash ...</td>\n",
              "      <td>36.240</td>\n",
              "      <td>1</td>\n",
              "      <td>0.0</td>\n",
              "      <td>15.2208</td>\n",
              "    </tr>\n",
              "    <tr>\n",
              "      <th>9990</th>\n",
              "      <td>9991</td>\n",
              "      <td>CA-2017-121258</td>\n",
              "      <td>2017-02-26</td>\n",
              "      <td>2017-03-03</td>\n",
              "      <td>Standard Class</td>\n",
              "      <td>DB-13060</td>\n",
              "      <td>Dave Brooks</td>\n",
              "      <td>Consumer</td>\n",
              "      <td>United States</td>\n",
              "      <td>Costa Mesa</td>\n",
              "      <td>California</td>\n",
              "      <td>92627</td>\n",
              "      <td>West</td>\n",
              "      <td>FUR-FU-10000747</td>\n",
              "      <td>Furniture</td>\n",
              "      <td>Furnishings</td>\n",
              "      <td>Tenex B1-RE Series Chair Mats for Low Pile Car...</td>\n",
              "      <td>91.960</td>\n",
              "      <td>2</td>\n",
              "      <td>0.0</td>\n",
              "      <td>15.6332</td>\n",
              "    </tr>\n",
              "    <tr>\n",
              "      <th>9991</th>\n",
              "      <td>9992</td>\n",
              "      <td>CA-2017-121258</td>\n",
              "      <td>2017-02-26</td>\n",
              "      <td>2017-03-03</td>\n",
              "      <td>Standard Class</td>\n",
              "      <td>DB-13060</td>\n",
              "      <td>Dave Brooks</td>\n",
              "      <td>Consumer</td>\n",
              "      <td>United States</td>\n",
              "      <td>Costa Mesa</td>\n",
              "      <td>California</td>\n",
              "      <td>92627</td>\n",
              "      <td>West</td>\n",
              "      <td>TEC-PH-10003645</td>\n",
              "      <td>Technology</td>\n",
              "      <td>Phones</td>\n",
              "      <td>Aastra 57i VoIP phone</td>\n",
              "      <td>258.576</td>\n",
              "      <td>2</td>\n",
              "      <td>0.2</td>\n",
              "      <td>19.3932</td>\n",
              "    </tr>\n",
              "    <tr>\n",
              "      <th>9992</th>\n",
              "      <td>9993</td>\n",
              "      <td>CA-2017-121258</td>\n",
              "      <td>2017-02-26</td>\n",
              "      <td>2017-03-03</td>\n",
              "      <td>Standard Class</td>\n",
              "      <td>DB-13060</td>\n",
              "      <td>Dave Brooks</td>\n",
              "      <td>Consumer</td>\n",
              "      <td>United States</td>\n",
              "      <td>Costa Mesa</td>\n",
              "      <td>California</td>\n",
              "      <td>92627</td>\n",
              "      <td>West</td>\n",
              "      <td>OFF-PA-10004041</td>\n",
              "      <td>Office Supplies</td>\n",
              "      <td>Paper</td>\n",
              "      <td>It's Hot Message Books with Stickers, 2 3/4\" x 5\"</td>\n",
              "      <td>29.600</td>\n",
              "      <td>4</td>\n",
              "      <td>0.0</td>\n",
              "      <td>13.3200</td>\n",
              "    </tr>\n",
              "    <tr>\n",
              "      <th>9993</th>\n",
              "      <td>9994</td>\n",
              "      <td>CA-2017-119914</td>\n",
              "      <td>2017-05-04</td>\n",
              "      <td>2017-05-09</td>\n",
              "      <td>Second Class</td>\n",
              "      <td>CC-12220</td>\n",
              "      <td>Chris Cortes</td>\n",
              "      <td>Consumer</td>\n",
              "      <td>United States</td>\n",
              "      <td>Westminster</td>\n",
              "      <td>California</td>\n",
              "      <td>92683</td>\n",
              "      <td>West</td>\n",
              "      <td>OFF-AP-10002684</td>\n",
              "      <td>Office Supplies</td>\n",
              "      <td>Appliances</td>\n",
              "      <td>Acco 7-Outlet Masterpiece Power Center, Wihtou...</td>\n",
              "      <td>243.160</td>\n",
              "      <td>2</td>\n",
              "      <td>0.0</td>\n",
              "      <td>72.9480</td>\n",
              "    </tr>\n",
              "  </tbody>\n",
              "</table>\n",
              "<p>6863 rows × 21 columns</p>\n",
              "</div>"
            ],
            "text/plain": [
              "      Row ID        Order ID  Order Date  ... Quantity Discount   Profit\n",
              "2          3  CA-2016-138688  2016-06-12  ...        2      0.0   6.8714\n",
              "5          6  CA-2014-115812  2014-06-09  ...        7      0.0  14.1694\n",
              "6          7  CA-2014-115812  2014-06-09  ...        4      0.0   1.9656\n",
              "7          8  CA-2014-115812  2014-06-09  ...        6      0.2  90.7152\n",
              "8          9  CA-2014-115812  2014-06-09  ...        3      0.2   5.7825\n",
              "...      ...             ...         ...  ...      ...      ...      ...\n",
              "9986    9987  CA-2016-125794  2016-09-29  ...        1      0.0  15.2208\n",
              "9990    9991  CA-2017-121258  2017-02-26  ...        2      0.0  15.6332\n",
              "9991    9992  CA-2017-121258  2017-02-26  ...        2      0.2  19.3932\n",
              "9992    9993  CA-2017-121258  2017-02-26  ...        4      0.0  13.3200\n",
              "9993    9994  CA-2017-119914  2017-05-04  ...        2      0.0  72.9480\n",
              "\n",
              "[6863 rows x 21 columns]"
            ]
          },
          "metadata": {
            "tags": []
          },
          "execution_count": 29
        }
      ]
    },
    {
      "cell_type": "markdown",
      "metadata": {
        "id": "3tq0mwmtP1Nv"
      },
      "source": [
        "## **Dica 5: Group By**\r\n",
        "\r\n",
        "A função Pandas Groupby é uma função versátil de usar que ajuda a obter uma visão geral dos dados. Isso torna mais fácil explorar o conjunto de dados e revelar os relacionamentos entre as variáveis.\r\n",
        "\r\n",
        "Faremos vários exemplos da função groupby. Vamos começar com um simples.\r\n",
        "\r\n",
        "O código a seguir agrupará as linhas com base nas combinações segment/region/sales e nos dará a taxa média de vendas de cada grupo.\r\n",
        "\r\n",
        "**Aplicamos o group by**"
      ]
    },
    {
      "cell_type": "code",
      "metadata": {
        "colab": {
          "base_uri": "https://localhost:8080/",
          "height": 452
        },
        "id": "Y70yOwGOPLFG",
        "outputId": "21105218-a049-4cd0-ad82-692767825172"
      },
      "source": [
        "df[['Segment', 'Region', 'Sales']].groupby(['Segment', 'Region']).mean()"
      ],
      "execution_count": 30,
      "outputs": [
        {
          "output_type": "execute_result",
          "data": {
            "text/html": [
              "<div>\n",
              "<style scoped>\n",
              "    .dataframe tbody tr th:only-of-type {\n",
              "        vertical-align: middle;\n",
              "    }\n",
              "\n",
              "    .dataframe tbody tr th {\n",
              "        vertical-align: top;\n",
              "    }\n",
              "\n",
              "    .dataframe thead th {\n",
              "        text-align: right;\n",
              "    }\n",
              "</style>\n",
              "<table border=\"1\" class=\"dataframe\">\n",
              "  <thead>\n",
              "    <tr style=\"text-align: right;\">\n",
              "      <th></th>\n",
              "      <th></th>\n",
              "      <th>Sales</th>\n",
              "    </tr>\n",
              "    <tr>\n",
              "      <th>Segment</th>\n",
              "      <th>Region</th>\n",
              "      <th></th>\n",
              "    </tr>\n",
              "  </thead>\n",
              "  <tbody>\n",
              "    <tr>\n",
              "      <th rowspan=\"4\" valign=\"top\">Consumer</th>\n",
              "      <th>Central</th>\n",
              "      <td>207.946728</td>\n",
              "    </tr>\n",
              "    <tr>\n",
              "      <th>East</th>\n",
              "      <td>238.875539</td>\n",
              "    </tr>\n",
              "    <tr>\n",
              "      <th>South</th>\n",
              "      <td>233.390180</td>\n",
              "    </tr>\n",
              "    <tr>\n",
              "      <th>West</th>\n",
              "      <td>217.033955</td>\n",
              "    </tr>\n",
              "    <tr>\n",
              "      <th rowspan=\"4\" valign=\"top\">Corporate</th>\n",
              "      <th>Central</th>\n",
              "      <td>234.763466</td>\n",
              "    </tr>\n",
              "    <tr>\n",
              "      <th>East</th>\n",
              "      <td>228.516929</td>\n",
              "    </tr>\n",
              "    <tr>\n",
              "      <th>South</th>\n",
              "      <td>238.992025</td>\n",
              "    </tr>\n",
              "    <tr>\n",
              "      <th>West</th>\n",
              "      <td>235.265911</td>\n",
              "    </tr>\n",
              "    <tr>\n",
              "      <th rowspan=\"4\" valign=\"top\">Home Office</th>\n",
              "      <th>Central</th>\n",
              "      <td>208.248046</td>\n",
              "    </tr>\n",
              "    <tr>\n",
              "      <th>East</th>\n",
              "      <td>253.911805</td>\n",
              "    </tr>\n",
              "    <tr>\n",
              "      <th>South</th>\n",
              "      <td>272.996329</td>\n",
              "    </tr>\n",
              "    <tr>\n",
              "      <th>West</th>\n",
              "      <td>239.442692</td>\n",
              "    </tr>\n",
              "  </tbody>\n",
              "</table>\n",
              "</div>"
            ],
            "text/plain": [
              "                          Sales\n",
              "Segment     Region             \n",
              "Consumer    Central  207.946728\n",
              "            East     238.875539\n",
              "            South    233.390180\n",
              "            West     217.033955\n",
              "Corporate   Central  234.763466\n",
              "            East     228.516929\n",
              "            South    238.992025\n",
              "            West     235.265911\n",
              "Home Office Central  208.248046\n",
              "            East     253.911805\n",
              "            South    272.996329\n",
              "            West     239.442692"
            ]
          },
          "metadata": {
            "tags": []
          },
          "execution_count": 30
        }
      ]
    },
    {
      "cell_type": "markdown",
      "metadata": {
        "id": "gBOvRQeoQWdc"
      },
      "source": [
        "Na instrução acima, primeiro filtramos os dados extraindo 3 colunas: ['Segment', 'Region', 'Sales'].\r\n",
        "\r\n",
        "Na sequência, agrupamos por duas colunas: ['Segment', 'Region']. E então calculamos a média para a coluna que ficou foram do group by, nesse caso a coluna Sales.\r\n",
        "\r\n",
        "O comportamento do group by com Pandas é o mesmo observado na Linguagem SQL.\r\n"
      ]
    },
    {
      "cell_type": "markdown",
      "metadata": {
        "id": "11Ek8VUYQZXE"
      },
      "source": [
        "## **Dica 6: Agregação Múltipla com Group By**\r\n",
        "\r\n",
        "Vamos explorar mais a função groupby() pois temos diversas opções de sumarização dos dados de forma simples. No exemplo de hoje uniremos a função groupby() com a função agg() para realiza agregação múltipla.\r\n",
        "\r\n",
        "**Aplicamos o group by**"
      ]
    },
    {
      "cell_type": "code",
      "metadata": {
        "colab": {
          "base_uri": "https://localhost:8080/",
          "height": 483
        },
        "id": "0ecxx2p5QDVQ",
        "outputId": "30a43e8f-030c-4e70-be3c-e6c9510a181d"
      },
      "source": [
        "df[['Segment', 'Region', 'Sales']].groupby(['Segment', 'Region']).agg(['mean', 'std', 'count'])"
      ],
      "execution_count": 18,
      "outputs": [
        {
          "output_type": "execute_result",
          "data": {
            "text/html": [
              "<div>\n",
              "<style scoped>\n",
              "    .dataframe tbody tr th:only-of-type {\n",
              "        vertical-align: middle;\n",
              "    }\n",
              "\n",
              "    .dataframe tbody tr th {\n",
              "        vertical-align: top;\n",
              "    }\n",
              "\n",
              "    .dataframe thead tr th {\n",
              "        text-align: left;\n",
              "    }\n",
              "\n",
              "    .dataframe thead tr:last-of-type th {\n",
              "        text-align: right;\n",
              "    }\n",
              "</style>\n",
              "<table border=\"1\" class=\"dataframe\">\n",
              "  <thead>\n",
              "    <tr>\n",
              "      <th></th>\n",
              "      <th></th>\n",
              "      <th colspan=\"3\" halign=\"left\">Sales</th>\n",
              "    </tr>\n",
              "    <tr>\n",
              "      <th></th>\n",
              "      <th></th>\n",
              "      <th>mean</th>\n",
              "      <th>std</th>\n",
              "      <th>count</th>\n",
              "    </tr>\n",
              "    <tr>\n",
              "      <th>Segment</th>\n",
              "      <th>Region</th>\n",
              "      <th></th>\n",
              "      <th></th>\n",
              "      <th></th>\n",
              "    </tr>\n",
              "  </thead>\n",
              "  <tbody>\n",
              "    <tr>\n",
              "      <th rowspan=\"4\" valign=\"top\">Consumer</th>\n",
              "      <th>Central</th>\n",
              "      <td>207.946728</td>\n",
              "      <td>587.906523</td>\n",
              "      <td>1212</td>\n",
              "    </tr>\n",
              "    <tr>\n",
              "      <th>East</th>\n",
              "      <td>238.875539</td>\n",
              "      <td>633.371169</td>\n",
              "      <td>1469</td>\n",
              "    </tr>\n",
              "    <tr>\n",
              "      <th>South</th>\n",
              "      <td>233.390180</td>\n",
              "      <td>559.346824</td>\n",
              "      <td>838</td>\n",
              "    </tr>\n",
              "    <tr>\n",
              "      <th>West</th>\n",
              "      <td>217.033955</td>\n",
              "      <td>551.997547</td>\n",
              "      <td>1672</td>\n",
              "    </tr>\n",
              "    <tr>\n",
              "      <th rowspan=\"4\" valign=\"top\">Corporate</th>\n",
              "      <th>Central</th>\n",
              "      <td>234.763466</td>\n",
              "      <td>818.947521</td>\n",
              "      <td>673</td>\n",
              "    </tr>\n",
              "    <tr>\n",
              "      <th>East</th>\n",
              "      <td>228.516929</td>\n",
              "      <td>530.001654</td>\n",
              "      <td>877</td>\n",
              "    </tr>\n",
              "    <tr>\n",
              "      <th>South</th>\n",
              "      <td>238.992025</td>\n",
              "      <td>586.176947</td>\n",
              "      <td>510</td>\n",
              "    </tr>\n",
              "    <tr>\n",
              "      <th>West</th>\n",
              "      <td>235.265911</td>\n",
              "      <td>471.288764</td>\n",
              "      <td>960</td>\n",
              "    </tr>\n",
              "    <tr>\n",
              "      <th rowspan=\"4\" valign=\"top\">Home Office</th>\n",
              "      <th>Central</th>\n",
              "      <td>208.248046</td>\n",
              "      <td>371.009180</td>\n",
              "      <td>438</td>\n",
              "    </tr>\n",
              "    <tr>\n",
              "      <th>East</th>\n",
              "      <td>253.911805</td>\n",
              "      <td>722.777318</td>\n",
              "      <td>502</td>\n",
              "    </tr>\n",
              "    <tr>\n",
              "      <th>South</th>\n",
              "      <td>272.996329</td>\n",
              "      <td>1404.798466</td>\n",
              "      <td>272</td>\n",
              "    </tr>\n",
              "    <tr>\n",
              "      <th>West</th>\n",
              "      <td>239.442692</td>\n",
              "      <td>529.242737</td>\n",
              "      <td>571</td>\n",
              "    </tr>\n",
              "  </tbody>\n",
              "</table>\n",
              "</div>"
            ],
            "text/plain": [
              "                          Sales                   \n",
              "                           mean          std count\n",
              "Segment     Region                                \n",
              "Consumer    Central  207.946728   587.906523  1212\n",
              "            East     238.875539   633.371169  1469\n",
              "            South    233.390180   559.346824   838\n",
              "            West     217.033955   551.997547  1672\n",
              "Corporate   Central  234.763466   818.947521   673\n",
              "            East     228.516929   530.001654   877\n",
              "            South    238.992025   586.176947   510\n",
              "            West     235.265911   471.288764   960\n",
              "Home Office Central  208.248046   371.009180   438\n",
              "            East     253.911805   722.777318   502\n",
              "            South    272.996329  1404.798466   272\n",
              "            West     239.442692   529.242737   571"
            ]
          },
          "metadata": {
            "tags": []
          },
          "execution_count": 18
        }
      ]
    },
    {
      "cell_type": "markdown",
      "metadata": {
        "id": "0sTRZ3NsRdbn"
      },
      "source": [
        "Na instrução acima, primeiro filtramos os dado\r\n",
        "s extraindo 3 colunas: \r\n",
        "['Segment','Region','Sales'].\r\n",
        "Na sequência, agrupamos por duas colunas: ['Segment','Region'].\r\n",
        "\r\n",
        "E então agregamos os dados calculando a média, desvio padrão e contagem de elementos para a coluna que ficou fora do group by, nesse caso a coluna Sales.\r\n",
        "A função agg() recebe como argumento uma lista de funções para agregação.\r\n"
      ]
    },
    {
      "cell_type": "markdown",
      "metadata": {
        "id": "qYnUCpdrRia2"
      },
      "source": [
        "## **Dica 7: Agregação Múltipla em Múltiplas Colunas com Group By**\r\n",
        "\r\n",
        "Não precisamos aplicar a mesma função a todas as colunas durante a agregação. Vamos passar um dicionário que indica quais funções devem ser aplicadas a quais colunas.\r\n",
        "\r\n",
        "**Aplicamos o group by**\r\n"
      ]
    },
    {
      "cell_type": "code",
      "metadata": {
        "colab": {
          "base_uri": "https://localhost:8080/",
          "height": 204
        },
        "id": "_-7WUPaCRfGQ",
        "outputId": "0b5d0305-e385-48fa-ee32-1ecd3afdcead"
      },
      "source": [
        "df[['Region', 'Sales', 'Quantity']].groupby(['Region']).agg({'Sales':'mean', 'Quantity':'sum'})"
      ],
      "execution_count": 19,
      "outputs": [
        {
          "output_type": "execute_result",
          "data": {
            "text/html": [
              "<div>\n",
              "<style scoped>\n",
              "    .dataframe tbody tr th:only-of-type {\n",
              "        vertical-align: middle;\n",
              "    }\n",
              "\n",
              "    .dataframe tbody tr th {\n",
              "        vertical-align: top;\n",
              "    }\n",
              "\n",
              "    .dataframe thead th {\n",
              "        text-align: right;\n",
              "    }\n",
              "</style>\n",
              "<table border=\"1\" class=\"dataframe\">\n",
              "  <thead>\n",
              "    <tr style=\"text-align: right;\">\n",
              "      <th></th>\n",
              "      <th>Sales</th>\n",
              "      <th>Quantity</th>\n",
              "    </tr>\n",
              "    <tr>\n",
              "      <th>Region</th>\n",
              "      <th></th>\n",
              "      <th></th>\n",
              "    </tr>\n",
              "  </thead>\n",
              "  <tbody>\n",
              "    <tr>\n",
              "      <th>Central</th>\n",
              "      <td>215.772661</td>\n",
              "      <td>8780</td>\n",
              "    </tr>\n",
              "    <tr>\n",
              "      <th>East</th>\n",
              "      <td>238.336110</td>\n",
              "      <td>10618</td>\n",
              "    </tr>\n",
              "    <tr>\n",
              "      <th>South</th>\n",
              "      <td>241.803645</td>\n",
              "      <td>6209</td>\n",
              "    </tr>\n",
              "    <tr>\n",
              "      <th>West</th>\n",
              "      <td>226.493233</td>\n",
              "      <td>12266</td>\n",
              "    </tr>\n",
              "  </tbody>\n",
              "</table>\n",
              "</div>"
            ],
            "text/plain": [
              "              Sales  Quantity\n",
              "Region                       \n",
              "Central  215.772661      8780\n",
              "East     238.336110     10618\n",
              "South    241.803645      6209\n",
              "West     226.493233     12266"
            ]
          },
          "metadata": {
            "tags": []
          },
          "execution_count": 19
        }
      ]
    },
    {
      "cell_type": "markdown",
      "metadata": {
        "id": "udYT7_n0RuFc"
      },
      "source": [
        "No exemplo acima primeiro filtramos o dataframe pelas colunas ['Region', 'Sales', 'Quantity'] e então agrupamos pela coluna 'Region'.\r\n",
        "\r\n",
        "A agregação é feita nas colunas que não fizeram parte do group by, nesse caso 'Sales' e 'Quantity'.\r\n",
        "\r\n",
        "Mas como queremos agregações diferentes passamos um dicionário com chave e valor, onde a chave é o nome da coluna e o valor o nome da função que queremos usar na agregação.\r\n",
        "\r\n",
        "Ao final temos a média de vendas por região e a quantidade total vendida por região, tudo em uma mesma tabela de saída e com apenas uma linha de código.\r\n",
        "Ao executar o código acima você percebe que os títulos das colunas são seus respectivos nomes. Como ajustamos isso com o Pandas? Na Dica 8 eu conto!\r\n"
      ]
    },
    {
      "cell_type": "markdown",
      "metadata": {
        "id": "N5Ulxt48R5U5"
      },
      "source": [
        "## **Dica 8: Renomear as Colunas Após Agregação em Múltiplas Colunas**\r\n",
        "\r\n",
        "Na dica 7 vimos como agregar múltiplas colunas, mas o resultado mostra o nome das variáveis como nomes das colunas resultantes. No exemplo calculamos a média e o total, mas o título das colunas ficou como 'Sales' e 'Quantity', ou seja não sabemos dizer o que o resultado representa sem olhar o código que gerou o resultado.\r\n",
        "\r\n",
        "Para resolver isso podemos renomar as colunas resultantes. Aqui como fazer:\r\n",
        "\r\n",
        "**Aplicamos o group by e gravamos o resultado em outro dataframe**\r\n"
      ]
    },
    {
      "cell_type": "code",
      "metadata": {
        "id": "MtCiggQnRtLu"
      },
      "source": [
        "df_agg = df[['Region', 'Sales', 'Quantity']].groupby(['Region']).agg({'Sales':'mean', 'Quantity':'sum'})"
      ],
      "execution_count": 31,
      "outputs": []
    },
    {
      "cell_type": "markdown",
      "metadata": {
        "id": "_QM-n0FDSHXn"
      },
      "source": [
        "**E então renomeamos as colunas**"
      ]
    },
    {
      "cell_type": "code",
      "metadata": {
        "colab": {
          "base_uri": "https://localhost:8080/",
          "height": 204
        },
        "id": "W9d6KO89SK8s",
        "outputId": "ad668a27-0013-4426-94ba-26393a8e4c18"
      },
      "source": [
        "df_agg.rename(columns = {'Sales':'Media de Vendas', 'Quantity':'Quantidade Total Vendida'}, inplace = True)\r\n",
        "df_agg"
      ],
      "execution_count": 32,
      "outputs": [
        {
          "output_type": "execute_result",
          "data": {
            "text/html": [
              "<div>\n",
              "<style scoped>\n",
              "    .dataframe tbody tr th:only-of-type {\n",
              "        vertical-align: middle;\n",
              "    }\n",
              "\n",
              "    .dataframe tbody tr th {\n",
              "        vertical-align: top;\n",
              "    }\n",
              "\n",
              "    .dataframe thead th {\n",
              "        text-align: right;\n",
              "    }\n",
              "</style>\n",
              "<table border=\"1\" class=\"dataframe\">\n",
              "  <thead>\n",
              "    <tr style=\"text-align: right;\">\n",
              "      <th></th>\n",
              "      <th>Media de Vendas</th>\n",
              "      <th>Quantidade Total Vendida</th>\n",
              "    </tr>\n",
              "    <tr>\n",
              "      <th>Region</th>\n",
              "      <th></th>\n",
              "      <th></th>\n",
              "    </tr>\n",
              "  </thead>\n",
              "  <tbody>\n",
              "    <tr>\n",
              "      <th>Central</th>\n",
              "      <td>215.772661</td>\n",
              "      <td>8780</td>\n",
              "    </tr>\n",
              "    <tr>\n",
              "      <th>East</th>\n",
              "      <td>238.336110</td>\n",
              "      <td>10618</td>\n",
              "    </tr>\n",
              "    <tr>\n",
              "      <th>South</th>\n",
              "      <td>241.803645</td>\n",
              "      <td>6209</td>\n",
              "    </tr>\n",
              "    <tr>\n",
              "      <th>West</th>\n",
              "      <td>226.493233</td>\n",
              "      <td>12266</td>\n",
              "    </tr>\n",
              "  </tbody>\n",
              "</table>\n",
              "</div>"
            ],
            "text/plain": [
              "         Media de Vendas  Quantidade Total Vendida\n",
              "Region                                            \n",
              "Central       215.772661                      8780\n",
              "East          238.336110                     10618\n",
              "South         241.803645                      6209\n",
              "West          226.493233                     12266"
            ]
          },
          "metadata": {
            "tags": []
          },
          "execution_count": 32
        }
      ]
    },
    {
      "cell_type": "markdown",
      "metadata": {
        "id": "dx507oU5SUHe"
      },
      "source": [
        "**E então podemos filtrar o dataframe pelo novo nome das colunas.**"
      ]
    },
    {
      "cell_type": "code",
      "metadata": {
        "colab": {
          "base_uri": "https://localhost:8080/",
          "height": 173
        },
        "id": "ABDKF4ZmSLqM",
        "outputId": "d7753426-3eb7-48f1-cea1-9e95550489d7"
      },
      "source": [
        "df_agg[df_agg['Media de Vendas'] > 220]"
      ],
      "execution_count": 33,
      "outputs": [
        {
          "output_type": "execute_result",
          "data": {
            "text/html": [
              "<div>\n",
              "<style scoped>\n",
              "    .dataframe tbody tr th:only-of-type {\n",
              "        vertical-align: middle;\n",
              "    }\n",
              "\n",
              "    .dataframe tbody tr th {\n",
              "        vertical-align: top;\n",
              "    }\n",
              "\n",
              "    .dataframe thead th {\n",
              "        text-align: right;\n",
              "    }\n",
              "</style>\n",
              "<table border=\"1\" class=\"dataframe\">\n",
              "  <thead>\n",
              "    <tr style=\"text-align: right;\">\n",
              "      <th></th>\n",
              "      <th>Media de Vendas</th>\n",
              "      <th>Quantidade Total Vendida</th>\n",
              "    </tr>\n",
              "    <tr>\n",
              "      <th>Region</th>\n",
              "      <th></th>\n",
              "      <th></th>\n",
              "    </tr>\n",
              "  </thead>\n",
              "  <tbody>\n",
              "    <tr>\n",
              "      <th>East</th>\n",
              "      <td>238.336110</td>\n",
              "      <td>10618</td>\n",
              "    </tr>\n",
              "    <tr>\n",
              "      <th>South</th>\n",
              "      <td>241.803645</td>\n",
              "      <td>6209</td>\n",
              "    </tr>\n",
              "    <tr>\n",
              "      <th>West</th>\n",
              "      <td>226.493233</td>\n",
              "      <td>12266</td>\n",
              "    </tr>\n",
              "  </tbody>\n",
              "</table>\n",
              "</div>"
            ],
            "text/plain": [
              "        Media de Vendas  Quantidade Total Vendida\n",
              "Region                                           \n",
              "East         238.336110                     10618\n",
              "South        241.803645                      6209\n",
              "West         226.493233                     12266"
            ]
          },
          "metadata": {
            "tags": []
          },
          "execution_count": 33
        }
      ]
    },
    {
      "cell_type": "markdown",
      "metadata": {
        "id": "WxsZaoolSisj"
      },
      "source": [
        "## **Dica 9: Rank das Linhas do Dataframe**\r\n",
        "\r\n",
        "Imagine que você tenha um dataframe com a média de vendas por região e você quisesse saber quais foram as regiões com as 2 maiores médias de vendas. Como você resolveria isso?\r\n",
        "\r\n",
        "Poderíamos ordenar a coluna e observar as linhas com os dois maiores valores para a coluna de média, mas qualquer coisa diferente disso seria trabalhoso.\r\n",
        "Uma solução mais elegante seria criar um rank e depois filtrar o que quisermos por esse rank. E fazemos isso facilmente com Pandas.\r\n",
        "\r\n",
        "Vamos reproduzir o que fizemos na dica 8 e seguir a partir daí\r\n",
        "\r\n",
        "**Aplicamos o group by e gravamos o resultado em outro dataframe**\r\n"
      ]
    },
    {
      "cell_type": "code",
      "metadata": {
        "id": "S9oDriFESXhz"
      },
      "source": [
        "df_agg = df[['Region', 'Sales', 'Quantity']].groupby(['Region']).agg({'Sales':'mean', 'Quantity':'sum'})"
      ],
      "execution_count": 35,
      "outputs": []
    },
    {
      "cell_type": "markdown",
      "metadata": {
        "id": "Xfk3R04wS1yo"
      },
      "source": [
        "**E então renomeamos as colunas**"
      ]
    },
    {
      "cell_type": "code",
      "metadata": {
        "id": "JR0HJBaMSuQm"
      },
      "source": [
        "df_agg.rename(columns = {'Sales':'Media de Vendas', 'Quantity':'Quantidade Total Vendida'}, inplace = True)"
      ],
      "execution_count": 36,
      "outputs": []
    },
    {
      "cell_type": "markdown",
      "metadata": {
        "id": "BSFAk1gqS8tg"
      },
      "source": [
        "**Agora criamos a coluna rank que é o resultado do método rank que vai numerar os itens do maior para o menor**"
      ]
    },
    {
      "cell_type": "code",
      "metadata": {
        "id": "FUAz--qxS_El"
      },
      "source": [
        "df_agg['rank'] = df_agg['Media de Vendas'].rank(method = 'first', ascending = False).astype('int')"
      ],
      "execution_count": 37,
      "outputs": []
    },
    {
      "cell_type": "markdown",
      "metadata": {
        "id": "7le_v3gFTC60"
      },
      "source": [
        "**Como queremos as duas maiores médias de vendas, queremos os itens de rank 1 e 2, ou o que tiver rank menor que 3**"
      ]
    },
    {
      "cell_type": "code",
      "metadata": {
        "colab": {
          "base_uri": "https://localhost:8080/",
          "height": 142
        },
        "id": "R2BkqO46TEez",
        "outputId": "bfbfdcdd-c02a-49ae-dbd5-397b00c0c38b"
      },
      "source": [
        "df_agg[df_agg['rank'] < 3]"
      ],
      "execution_count": 27,
      "outputs": [
        {
          "output_type": "execute_result",
          "data": {
            "text/html": [
              "<div>\n",
              "<style scoped>\n",
              "    .dataframe tbody tr th:only-of-type {\n",
              "        vertical-align: middle;\n",
              "    }\n",
              "\n",
              "    .dataframe tbody tr th {\n",
              "        vertical-align: top;\n",
              "    }\n",
              "\n",
              "    .dataframe thead th {\n",
              "        text-align: right;\n",
              "    }\n",
              "</style>\n",
              "<table border=\"1\" class=\"dataframe\">\n",
              "  <thead>\n",
              "    <tr style=\"text-align: right;\">\n",
              "      <th></th>\n",
              "      <th>Media de Vendas</th>\n",
              "      <th>Quantidade Total Vendida</th>\n",
              "      <th>rank</th>\n",
              "    </tr>\n",
              "    <tr>\n",
              "      <th>Region</th>\n",
              "      <th></th>\n",
              "      <th></th>\n",
              "      <th></th>\n",
              "    </tr>\n",
              "  </thead>\n",
              "  <tbody>\n",
              "    <tr>\n",
              "      <th>East</th>\n",
              "      <td>238.336110</td>\n",
              "      <td>10618</td>\n",
              "      <td>2</td>\n",
              "    </tr>\n",
              "    <tr>\n",
              "      <th>South</th>\n",
              "      <td>241.803645</td>\n",
              "      <td>6209</td>\n",
              "      <td>1</td>\n",
              "    </tr>\n",
              "  </tbody>\n",
              "</table>\n",
              "</div>"
            ],
            "text/plain": [
              "        Media de Vendas  Quantidade Total Vendida  rank\n",
              "Region                                                 \n",
              "East         238.336110                     10618     2\n",
              "South        241.803645                      6209     1"
            ]
          },
          "metadata": {
            "tags": []
          },
          "execution_count": 27
        }
      ]
    },
    {
      "cell_type": "markdown",
      "metadata": {
        "id": "n8ERRfK4TNMK"
      },
      "source": [
        "## **Dica 10: Estilo no Dataframe**\r\n",
        "\r\n",
        "A dica de hoje parece simples, mas pode ser bastante útil. Você definiu seu dataframe, fez agregações e agora gostaria de marcar os itens em cada coluna com o maior valor. Isso mesmo, marcar! E com uma cor diferente.\r\n",
        "\r\n",
        "Usamos o atributo style do dataframe, que possui uma série de métodos, entre eles o método highlight_max() que realça com uma cor diferente os maiores valores. Exemplo:\r\n"
      ]
    },
    {
      "cell_type": "markdown",
      "metadata": {
        "id": "rxgwI1r2TWyI"
      },
      "source": [
        "## **Aplicamos o group by e gravamos o resultado em outro dataframe**"
      ]
    },
    {
      "cell_type": "code",
      "metadata": {
        "id": "IEeLhjgNTIBi"
      },
      "source": [
        "df_agg = df[['Region', 'Sales', 'Quantity']].groupby(['Region']).agg({'Sales':'mean', 'Quantity':'sum'})"
      ],
      "execution_count": 39,
      "outputs": []
    },
    {
      "cell_type": "markdown",
      "metadata": {
        "id": "Xlmm_60UTayu"
      },
      "source": [
        "**E então renomeamos as colunas**"
      ]
    },
    {
      "cell_type": "code",
      "metadata": {
        "id": "K4ZOK1yXTefV"
      },
      "source": [
        "df_agg.rename(columns = {'Sales':'Media de Vendas', 'Quantity':'Quantidade Total Vendida'}, inplace = True)"
      ],
      "execution_count": 40,
      "outputs": []
    },
    {
      "cell_type": "markdown",
      "metadata": {
        "id": "v4Fi61JJTg6S"
      },
      "source": [
        "**Agora realçamos em verde os maiores valores em cada coluna (por isso usamos axis = 0)**"
      ]
    },
    {
      "cell_type": "code",
      "metadata": {
        "colab": {
          "base_uri": "https://localhost:8080/",
          "height": 145
        },
        "id": "UJMSU6KYTiUy",
        "outputId": "6a78fc75-760b-402f-c88a-9f73a2ca52c7"
      },
      "source": [
        "df_agg.style.highlight_max(axis = 0, color = 'gray')"
      ],
      "execution_count": 43,
      "outputs": [
        {
          "output_type": "execute_result",
          "data": {
            "text/html": [
              "<style  type=\"text/css\" >\n",
              "#T_08702d42_4c7a_11eb_9498_0242ac1c0002row2_col0,#T_08702d42_4c7a_11eb_9498_0242ac1c0002row3_col1{\n",
              "            background-color:  gray;\n",
              "        }</style><table id=\"T_08702d42_4c7a_11eb_9498_0242ac1c0002\" ><thead>    <tr>        <th class=\"blank level0\" ></th>        <th class=\"col_heading level0 col0\" >Media de Vendas</th>        <th class=\"col_heading level0 col1\" >Quantidade Total Vendida</th>    </tr>    <tr>        <th class=\"index_name level0\" >Region</th>        <th class=\"blank\" ></th>        <th class=\"blank\" ></th>    </tr></thead><tbody>\n",
              "                <tr>\n",
              "                        <th id=\"T_08702d42_4c7a_11eb_9498_0242ac1c0002level0_row0\" class=\"row_heading level0 row0\" >Central</th>\n",
              "                        <td id=\"T_08702d42_4c7a_11eb_9498_0242ac1c0002row0_col0\" class=\"data row0 col0\" >215.772661</td>\n",
              "                        <td id=\"T_08702d42_4c7a_11eb_9498_0242ac1c0002row0_col1\" class=\"data row0 col1\" >8780</td>\n",
              "            </tr>\n",
              "            <tr>\n",
              "                        <th id=\"T_08702d42_4c7a_11eb_9498_0242ac1c0002level0_row1\" class=\"row_heading level0 row1\" >East</th>\n",
              "                        <td id=\"T_08702d42_4c7a_11eb_9498_0242ac1c0002row1_col0\" class=\"data row1 col0\" >238.336110</td>\n",
              "                        <td id=\"T_08702d42_4c7a_11eb_9498_0242ac1c0002row1_col1\" class=\"data row1 col1\" >10618</td>\n",
              "            </tr>\n",
              "            <tr>\n",
              "                        <th id=\"T_08702d42_4c7a_11eb_9498_0242ac1c0002level0_row2\" class=\"row_heading level0 row2\" >South</th>\n",
              "                        <td id=\"T_08702d42_4c7a_11eb_9498_0242ac1c0002row2_col0\" class=\"data row2 col0\" >241.803645</td>\n",
              "                        <td id=\"T_08702d42_4c7a_11eb_9498_0242ac1c0002row2_col1\" class=\"data row2 col1\" >6209</td>\n",
              "            </tr>\n",
              "            <tr>\n",
              "                        <th id=\"T_08702d42_4c7a_11eb_9498_0242ac1c0002level0_row3\" class=\"row_heading level0 row3\" >West</th>\n",
              "                        <td id=\"T_08702d42_4c7a_11eb_9498_0242ac1c0002row3_col0\" class=\"data row3 col0\" >226.493233</td>\n",
              "                        <td id=\"T_08702d42_4c7a_11eb_9498_0242ac1c0002row3_col1\" class=\"data row3 col1\" >12266</td>\n",
              "            </tr>\n",
              "    </tbody></table>"
            ],
            "text/plain": [
              "<pandas.io.formats.style.Styler at 0x7fa8bc1b9a58>"
            ]
          },
          "metadata": {
            "tags": []
          },
          "execution_count": 43
        }
      ]
    },
    {
      "cell_type": "markdown",
      "metadata": {
        "id": "2Fz3ssLfTl96"
      },
      "source": [
        "Experimente outros métodos de style e modifique a forma como o dataframe é apresentado."
      ]
    },
    {
      "cell_type": "markdown",
      "metadata": {
        "id": "POadCHuFTqsA"
      },
      "source": [
        "## **Dica 11: Filtrando o Dataframe com Base em Strings**\r\n",
        "\r\n",
        "O Pandas oferece diversas funções para manipulação de strings. Começaremos com o filtros de strings com base nas letras iniciais e finais.\r\n",
        "\r\n",
        "**Filtramos o dataframe pela coluna Segment com valores que iniciam com as letras 'Con'**"
      ]
    },
    {
      "cell_type": "code",
      "metadata": {
        "colab": {
          "base_uri": "https://localhost:8080/",
          "height": 547
        },
        "id": "uvqf26FITo-h",
        "outputId": "9217f42b-3809-4135-9455-f678ad04311d"
      },
      "source": [
        "df[df.Segment.str.startswith('Con')].head()"
      ],
      "execution_count": 44,
      "outputs": [
        {
          "output_type": "execute_result",
          "data": {
            "text/html": [
              "<div>\n",
              "<style scoped>\n",
              "    .dataframe tbody tr th:only-of-type {\n",
              "        vertical-align: middle;\n",
              "    }\n",
              "\n",
              "    .dataframe tbody tr th {\n",
              "        vertical-align: top;\n",
              "    }\n",
              "\n",
              "    .dataframe thead th {\n",
              "        text-align: right;\n",
              "    }\n",
              "</style>\n",
              "<table border=\"1\" class=\"dataframe\">\n",
              "  <thead>\n",
              "    <tr style=\"text-align: right;\">\n",
              "      <th></th>\n",
              "      <th>Row ID</th>\n",
              "      <th>Order ID</th>\n",
              "      <th>Order Date</th>\n",
              "      <th>Ship Date</th>\n",
              "      <th>Ship Mode</th>\n",
              "      <th>Customer ID</th>\n",
              "      <th>Customer Name</th>\n",
              "      <th>Segment</th>\n",
              "      <th>Country</th>\n",
              "      <th>City</th>\n",
              "      <th>State</th>\n",
              "      <th>Postal Code</th>\n",
              "      <th>Region</th>\n",
              "      <th>Product ID</th>\n",
              "      <th>Category</th>\n",
              "      <th>Sub-Category</th>\n",
              "      <th>Product Name</th>\n",
              "      <th>Sales</th>\n",
              "      <th>Quantity</th>\n",
              "      <th>Discount</th>\n",
              "      <th>Profit</th>\n",
              "    </tr>\n",
              "  </thead>\n",
              "  <tbody>\n",
              "    <tr>\n",
              "      <th>0</th>\n",
              "      <td>1</td>\n",
              "      <td>CA-2016-152156</td>\n",
              "      <td>2016-11-08</td>\n",
              "      <td>2016-11-11</td>\n",
              "      <td>Second Class</td>\n",
              "      <td>CG-12520</td>\n",
              "      <td>Claire Gute</td>\n",
              "      <td>Consumer</td>\n",
              "      <td>United States</td>\n",
              "      <td>Henderson</td>\n",
              "      <td>Kentucky</td>\n",
              "      <td>42420</td>\n",
              "      <td>South</td>\n",
              "      <td>FUR-BO-10001798</td>\n",
              "      <td>Furniture</td>\n",
              "      <td>Bookcases</td>\n",
              "      <td>Bush Somerset Collection Bookcase</td>\n",
              "      <td>261.9600</td>\n",
              "      <td>2</td>\n",
              "      <td>0.00</td>\n",
              "      <td>41.9136</td>\n",
              "    </tr>\n",
              "    <tr>\n",
              "      <th>1</th>\n",
              "      <td>2</td>\n",
              "      <td>CA-2016-152156</td>\n",
              "      <td>2016-11-08</td>\n",
              "      <td>2016-11-11</td>\n",
              "      <td>Second Class</td>\n",
              "      <td>CG-12520</td>\n",
              "      <td>Claire Gute</td>\n",
              "      <td>Consumer</td>\n",
              "      <td>United States</td>\n",
              "      <td>Henderson</td>\n",
              "      <td>Kentucky</td>\n",
              "      <td>42420</td>\n",
              "      <td>South</td>\n",
              "      <td>FUR-CH-10000454</td>\n",
              "      <td>Furniture</td>\n",
              "      <td>Chairs</td>\n",
              "      <td>Hon Deluxe Fabric Upholstered Stacking Chairs,...</td>\n",
              "      <td>731.9400</td>\n",
              "      <td>3</td>\n",
              "      <td>0.00</td>\n",
              "      <td>219.5820</td>\n",
              "    </tr>\n",
              "    <tr>\n",
              "      <th>3</th>\n",
              "      <td>4</td>\n",
              "      <td>US-2015-108966</td>\n",
              "      <td>2015-10-11</td>\n",
              "      <td>2015-10-18</td>\n",
              "      <td>Standard Class</td>\n",
              "      <td>SO-20335</td>\n",
              "      <td>Sean O'Donnell</td>\n",
              "      <td>Consumer</td>\n",
              "      <td>United States</td>\n",
              "      <td>Fort Lauderdale</td>\n",
              "      <td>Florida</td>\n",
              "      <td>33311</td>\n",
              "      <td>South</td>\n",
              "      <td>FUR-TA-10000577</td>\n",
              "      <td>Furniture</td>\n",
              "      <td>Tables</td>\n",
              "      <td>Bretford CR4500 Series Slim Rectangular Table</td>\n",
              "      <td>957.5775</td>\n",
              "      <td>5</td>\n",
              "      <td>0.45</td>\n",
              "      <td>-383.0310</td>\n",
              "    </tr>\n",
              "    <tr>\n",
              "      <th>4</th>\n",
              "      <td>5</td>\n",
              "      <td>US-2015-108966</td>\n",
              "      <td>2015-10-11</td>\n",
              "      <td>2015-10-18</td>\n",
              "      <td>Standard Class</td>\n",
              "      <td>SO-20335</td>\n",
              "      <td>Sean O'Donnell</td>\n",
              "      <td>Consumer</td>\n",
              "      <td>United States</td>\n",
              "      <td>Fort Lauderdale</td>\n",
              "      <td>Florida</td>\n",
              "      <td>33311</td>\n",
              "      <td>South</td>\n",
              "      <td>OFF-ST-10000760</td>\n",
              "      <td>Office Supplies</td>\n",
              "      <td>Storage</td>\n",
              "      <td>Eldon Fold 'N Roll Cart System</td>\n",
              "      <td>22.3680</td>\n",
              "      <td>2</td>\n",
              "      <td>0.20</td>\n",
              "      <td>2.5164</td>\n",
              "    </tr>\n",
              "    <tr>\n",
              "      <th>5</th>\n",
              "      <td>6</td>\n",
              "      <td>CA-2014-115812</td>\n",
              "      <td>2014-06-09</td>\n",
              "      <td>2014-06-14</td>\n",
              "      <td>Standard Class</td>\n",
              "      <td>BH-11710</td>\n",
              "      <td>Brosina Hoffman</td>\n",
              "      <td>Consumer</td>\n",
              "      <td>United States</td>\n",
              "      <td>Los Angeles</td>\n",
              "      <td>California</td>\n",
              "      <td>90032</td>\n",
              "      <td>West</td>\n",
              "      <td>FUR-FU-10001487</td>\n",
              "      <td>Furniture</td>\n",
              "      <td>Furnishings</td>\n",
              "      <td>Eldon Expressions Wood and Plastic Desk Access...</td>\n",
              "      <td>48.8600</td>\n",
              "      <td>7</td>\n",
              "      <td>0.00</td>\n",
              "      <td>14.1694</td>\n",
              "    </tr>\n",
              "  </tbody>\n",
              "</table>\n",
              "</div>"
            ],
            "text/plain": [
              "   Row ID        Order ID  Order Date  ... Quantity Discount    Profit\n",
              "0       1  CA-2016-152156  2016-11-08  ...        2     0.00   41.9136\n",
              "1       2  CA-2016-152156  2016-11-08  ...        3     0.00  219.5820\n",
              "3       4  US-2015-108966  2015-10-11  ...        5     0.45 -383.0310\n",
              "4       5  US-2015-108966  2015-10-11  ...        2     0.20    2.5164\n",
              "5       6  CA-2014-115812  2014-06-09  ...        7     0.00   14.1694\n",
              "\n",
              "[5 rows x 21 columns]"
            ]
          },
          "metadata": {
            "tags": []
          },
          "execution_count": 44
        }
      ]
    },
    {
      "cell_type": "markdown",
      "metadata": {
        "id": "rQClY9VkT1Ah"
      },
      "source": [
        "A função head() ao final é apenas para listar somente as primeiras 5 linhas.\r\n",
        "\r\n",
        "**Filtramos o dataframe pela coluna Segment com valores que terminam com as letras 'mer'**\r\n"
      ]
    },
    {
      "cell_type": "code",
      "metadata": {
        "colab": {
          "base_uri": "https://localhost:8080/",
          "height": 547
        },
        "id": "h27dJFHQT9fV",
        "outputId": "0cec0be6-3377-4454-b384-2df6757b9209"
      },
      "source": [
        "df[df.Segment.str.endswith('mer')].head()"
      ],
      "execution_count": 45,
      "outputs": [
        {
          "output_type": "execute_result",
          "data": {
            "text/html": [
              "<div>\n",
              "<style scoped>\n",
              "    .dataframe tbody tr th:only-of-type {\n",
              "        vertical-align: middle;\n",
              "    }\n",
              "\n",
              "    .dataframe tbody tr th {\n",
              "        vertical-align: top;\n",
              "    }\n",
              "\n",
              "    .dataframe thead th {\n",
              "        text-align: right;\n",
              "    }\n",
              "</style>\n",
              "<table border=\"1\" class=\"dataframe\">\n",
              "  <thead>\n",
              "    <tr style=\"text-align: right;\">\n",
              "      <th></th>\n",
              "      <th>Row ID</th>\n",
              "      <th>Order ID</th>\n",
              "      <th>Order Date</th>\n",
              "      <th>Ship Date</th>\n",
              "      <th>Ship Mode</th>\n",
              "      <th>Customer ID</th>\n",
              "      <th>Customer Name</th>\n",
              "      <th>Segment</th>\n",
              "      <th>Country</th>\n",
              "      <th>City</th>\n",
              "      <th>State</th>\n",
              "      <th>Postal Code</th>\n",
              "      <th>Region</th>\n",
              "      <th>Product ID</th>\n",
              "      <th>Category</th>\n",
              "      <th>Sub-Category</th>\n",
              "      <th>Product Name</th>\n",
              "      <th>Sales</th>\n",
              "      <th>Quantity</th>\n",
              "      <th>Discount</th>\n",
              "      <th>Profit</th>\n",
              "    </tr>\n",
              "  </thead>\n",
              "  <tbody>\n",
              "    <tr>\n",
              "      <th>0</th>\n",
              "      <td>1</td>\n",
              "      <td>CA-2016-152156</td>\n",
              "      <td>2016-11-08</td>\n",
              "      <td>2016-11-11</td>\n",
              "      <td>Second Class</td>\n",
              "      <td>CG-12520</td>\n",
              "      <td>Claire Gute</td>\n",
              "      <td>Consumer</td>\n",
              "      <td>United States</td>\n",
              "      <td>Henderson</td>\n",
              "      <td>Kentucky</td>\n",
              "      <td>42420</td>\n",
              "      <td>South</td>\n",
              "      <td>FUR-BO-10001798</td>\n",
              "      <td>Furniture</td>\n",
              "      <td>Bookcases</td>\n",
              "      <td>Bush Somerset Collection Bookcase</td>\n",
              "      <td>261.9600</td>\n",
              "      <td>2</td>\n",
              "      <td>0.00</td>\n",
              "      <td>41.9136</td>\n",
              "    </tr>\n",
              "    <tr>\n",
              "      <th>1</th>\n",
              "      <td>2</td>\n",
              "      <td>CA-2016-152156</td>\n",
              "      <td>2016-11-08</td>\n",
              "      <td>2016-11-11</td>\n",
              "      <td>Second Class</td>\n",
              "      <td>CG-12520</td>\n",
              "      <td>Claire Gute</td>\n",
              "      <td>Consumer</td>\n",
              "      <td>United States</td>\n",
              "      <td>Henderson</td>\n",
              "      <td>Kentucky</td>\n",
              "      <td>42420</td>\n",
              "      <td>South</td>\n",
              "      <td>FUR-CH-10000454</td>\n",
              "      <td>Furniture</td>\n",
              "      <td>Chairs</td>\n",
              "      <td>Hon Deluxe Fabric Upholstered Stacking Chairs,...</td>\n",
              "      <td>731.9400</td>\n",
              "      <td>3</td>\n",
              "      <td>0.00</td>\n",
              "      <td>219.5820</td>\n",
              "    </tr>\n",
              "    <tr>\n",
              "      <th>3</th>\n",
              "      <td>4</td>\n",
              "      <td>US-2015-108966</td>\n",
              "      <td>2015-10-11</td>\n",
              "      <td>2015-10-18</td>\n",
              "      <td>Standard Class</td>\n",
              "      <td>SO-20335</td>\n",
              "      <td>Sean O'Donnell</td>\n",
              "      <td>Consumer</td>\n",
              "      <td>United States</td>\n",
              "      <td>Fort Lauderdale</td>\n",
              "      <td>Florida</td>\n",
              "      <td>33311</td>\n",
              "      <td>South</td>\n",
              "      <td>FUR-TA-10000577</td>\n",
              "      <td>Furniture</td>\n",
              "      <td>Tables</td>\n",
              "      <td>Bretford CR4500 Series Slim Rectangular Table</td>\n",
              "      <td>957.5775</td>\n",
              "      <td>5</td>\n",
              "      <td>0.45</td>\n",
              "      <td>-383.0310</td>\n",
              "    </tr>\n",
              "    <tr>\n",
              "      <th>4</th>\n",
              "      <td>5</td>\n",
              "      <td>US-2015-108966</td>\n",
              "      <td>2015-10-11</td>\n",
              "      <td>2015-10-18</td>\n",
              "      <td>Standard Class</td>\n",
              "      <td>SO-20335</td>\n",
              "      <td>Sean O'Donnell</td>\n",
              "      <td>Consumer</td>\n",
              "      <td>United States</td>\n",
              "      <td>Fort Lauderdale</td>\n",
              "      <td>Florida</td>\n",
              "      <td>33311</td>\n",
              "      <td>South</td>\n",
              "      <td>OFF-ST-10000760</td>\n",
              "      <td>Office Supplies</td>\n",
              "      <td>Storage</td>\n",
              "      <td>Eldon Fold 'N Roll Cart System</td>\n",
              "      <td>22.3680</td>\n",
              "      <td>2</td>\n",
              "      <td>0.20</td>\n",
              "      <td>2.5164</td>\n",
              "    </tr>\n",
              "    <tr>\n",
              "      <th>5</th>\n",
              "      <td>6</td>\n",
              "      <td>CA-2014-115812</td>\n",
              "      <td>2014-06-09</td>\n",
              "      <td>2014-06-14</td>\n",
              "      <td>Standard Class</td>\n",
              "      <td>BH-11710</td>\n",
              "      <td>Brosina Hoffman</td>\n",
              "      <td>Consumer</td>\n",
              "      <td>United States</td>\n",
              "      <td>Los Angeles</td>\n",
              "      <td>California</td>\n",
              "      <td>90032</td>\n",
              "      <td>West</td>\n",
              "      <td>FUR-FU-10001487</td>\n",
              "      <td>Furniture</td>\n",
              "      <td>Furnishings</td>\n",
              "      <td>Eldon Expressions Wood and Plastic Desk Access...</td>\n",
              "      <td>48.8600</td>\n",
              "      <td>7</td>\n",
              "      <td>0.00</td>\n",
              "      <td>14.1694</td>\n",
              "    </tr>\n",
              "  </tbody>\n",
              "</table>\n",
              "</div>"
            ],
            "text/plain": [
              "   Row ID        Order ID  Order Date  ... Quantity Discount    Profit\n",
              "0       1  CA-2016-152156  2016-11-08  ...        2     0.00   41.9136\n",
              "1       2  CA-2016-152156  2016-11-08  ...        3     0.00  219.5820\n",
              "3       4  US-2015-108966  2015-10-11  ...        5     0.45 -383.0310\n",
              "4       5  US-2015-108966  2015-10-11  ...        2     0.20    2.5164\n",
              "5       6  CA-2014-115812  2014-06-09  ...        7     0.00   14.1694\n",
              "\n",
              "[5 rows x 21 columns]"
            ]
          },
          "metadata": {
            "tags": []
          },
          "execution_count": 45
        }
      ]
    },
    {
      "cell_type": "markdown",
      "metadata": {
        "id": "6divmYD4UCVO"
      },
      "source": [
        "As funções startswith() e endswith() são muito úteis quando for necessário filtrar strings por caracteres que apareçam no começo e/ou final.\r\n",
        "\r\n",
        "## **Dica 12: Split de Strings**\r\n",
        "\r\n",
        "Com Pandas podemos realizar diversas tarefas de split de strings dividindo uma coluna ou extraindo elementos do nosso interesse. Vamos ao exemplo:\r\n",
        "\r\n",
        "**Este é o formato dos dados da coluna \"Order ID\":**\r\n",
        "- US-2015-108966\r\n",
        "- CA-2016-138688\r\n",
        "\r\n",
        "Temos o país, o ano e o id do pedido. Vamos dividir essa coluna e extrair o ano para gravar em uma nova coluna.\r\n",
        "\r\n",
        "**Split da coluna pelo caracter '-'**\r\n",
        "\r\n"
      ]
    },
    {
      "cell_type": "code",
      "metadata": {
        "colab": {
          "base_uri": "https://localhost:8080/"
        },
        "id": "7-wdcOKLoS7t",
        "outputId": "57f70a4e-ac5e-4909-9e36-103e62d69aab"
      },
      "source": [
        "df['Order ID'].str.split('-')"
      ],
      "execution_count": 46,
      "outputs": [
        {
          "output_type": "execute_result",
          "data": {
            "text/plain": [
              "0       [CA, 2016, 152156]\n",
              "1       [CA, 2016, 152156]\n",
              "2       [CA, 2016, 138688]\n",
              "3       [US, 2015, 108966]\n",
              "4       [US, 2015, 108966]\n",
              "               ...        \n",
              "9989    [CA, 2014, 110422]\n",
              "9990    [CA, 2017, 121258]\n",
              "9991    [CA, 2017, 121258]\n",
              "9992    [CA, 2017, 121258]\n",
              "9993    [CA, 2017, 119914]\n",
              "Name: Order ID, Length: 9994, dtype: object"
            ]
          },
          "metadata": {
            "tags": []
          },
          "execution_count": 46
        }
      ]
    },
    {
      "cell_type": "markdown",
      "metadata": {
        "id": "oi6KYyO-oVys"
      },
      "source": [
        "Observe que o resultado são as listas em Python. Para extrair o ano precisamos especificar o índice da posição que queremos extrair (em nosso caso a posição 2, logo, índice 1 em Python):\r\n",
        "\r\n",
        "**Fazemos o split da coluna e extraímos o item na posição 2**\r\n"
      ]
    },
    {
      "cell_type": "code",
      "metadata": {
        "id": "9Yw2e1HCUFKA"
      },
      "source": [
        "df['ano'] = df['Order ID'].str.split('-').str[1]"
      ],
      "execution_count": 47,
      "outputs": []
    },
    {
      "cell_type": "markdown",
      "metadata": {
        "id": "1fLS25vloc7b"
      },
      "source": [
        "**Então conferimos a nova coluna criada**"
      ]
    },
    {
      "cell_type": "code",
      "metadata": {
        "colab": {
          "base_uri": "https://localhost:8080/",
          "height": 547
        },
        "id": "ASJk70C2oddZ",
        "outputId": "33a10dfe-96fa-40aa-dcdd-226ae9b9b58c"
      },
      "source": [
        "df.head()"
      ],
      "execution_count": 48,
      "outputs": [
        {
          "output_type": "execute_result",
          "data": {
            "text/html": [
              "<div>\n",
              "<style scoped>\n",
              "    .dataframe tbody tr th:only-of-type {\n",
              "        vertical-align: middle;\n",
              "    }\n",
              "\n",
              "    .dataframe tbody tr th {\n",
              "        vertical-align: top;\n",
              "    }\n",
              "\n",
              "    .dataframe thead th {\n",
              "        text-align: right;\n",
              "    }\n",
              "</style>\n",
              "<table border=\"1\" class=\"dataframe\">\n",
              "  <thead>\n",
              "    <tr style=\"text-align: right;\">\n",
              "      <th></th>\n",
              "      <th>Row ID</th>\n",
              "      <th>Order ID</th>\n",
              "      <th>Order Date</th>\n",
              "      <th>Ship Date</th>\n",
              "      <th>Ship Mode</th>\n",
              "      <th>Customer ID</th>\n",
              "      <th>Customer Name</th>\n",
              "      <th>Segment</th>\n",
              "      <th>Country</th>\n",
              "      <th>City</th>\n",
              "      <th>State</th>\n",
              "      <th>Postal Code</th>\n",
              "      <th>Region</th>\n",
              "      <th>Product ID</th>\n",
              "      <th>Category</th>\n",
              "      <th>Sub-Category</th>\n",
              "      <th>Product Name</th>\n",
              "      <th>Sales</th>\n",
              "      <th>Quantity</th>\n",
              "      <th>Discount</th>\n",
              "      <th>Profit</th>\n",
              "      <th>ano</th>\n",
              "    </tr>\n",
              "  </thead>\n",
              "  <tbody>\n",
              "    <tr>\n",
              "      <th>0</th>\n",
              "      <td>1</td>\n",
              "      <td>CA-2016-152156</td>\n",
              "      <td>2016-11-08</td>\n",
              "      <td>2016-11-11</td>\n",
              "      <td>Second Class</td>\n",
              "      <td>CG-12520</td>\n",
              "      <td>Claire Gute</td>\n",
              "      <td>Consumer</td>\n",
              "      <td>United States</td>\n",
              "      <td>Henderson</td>\n",
              "      <td>Kentucky</td>\n",
              "      <td>42420</td>\n",
              "      <td>South</td>\n",
              "      <td>FUR-BO-10001798</td>\n",
              "      <td>Furniture</td>\n",
              "      <td>Bookcases</td>\n",
              "      <td>Bush Somerset Collection Bookcase</td>\n",
              "      <td>261.9600</td>\n",
              "      <td>2</td>\n",
              "      <td>0.00</td>\n",
              "      <td>41.9136</td>\n",
              "      <td>2016</td>\n",
              "    </tr>\n",
              "    <tr>\n",
              "      <th>1</th>\n",
              "      <td>2</td>\n",
              "      <td>CA-2016-152156</td>\n",
              "      <td>2016-11-08</td>\n",
              "      <td>2016-11-11</td>\n",
              "      <td>Second Class</td>\n",
              "      <td>CG-12520</td>\n",
              "      <td>Claire Gute</td>\n",
              "      <td>Consumer</td>\n",
              "      <td>United States</td>\n",
              "      <td>Henderson</td>\n",
              "      <td>Kentucky</td>\n",
              "      <td>42420</td>\n",
              "      <td>South</td>\n",
              "      <td>FUR-CH-10000454</td>\n",
              "      <td>Furniture</td>\n",
              "      <td>Chairs</td>\n",
              "      <td>Hon Deluxe Fabric Upholstered Stacking Chairs,...</td>\n",
              "      <td>731.9400</td>\n",
              "      <td>3</td>\n",
              "      <td>0.00</td>\n",
              "      <td>219.5820</td>\n",
              "      <td>2016</td>\n",
              "    </tr>\n",
              "    <tr>\n",
              "      <th>2</th>\n",
              "      <td>3</td>\n",
              "      <td>CA-2016-138688</td>\n",
              "      <td>2016-06-12</td>\n",
              "      <td>2016-06-16</td>\n",
              "      <td>Second Class</td>\n",
              "      <td>DV-13045</td>\n",
              "      <td>Darrin Van Huff</td>\n",
              "      <td>Corporate</td>\n",
              "      <td>United States</td>\n",
              "      <td>Los Angeles</td>\n",
              "      <td>California</td>\n",
              "      <td>90036</td>\n",
              "      <td>West</td>\n",
              "      <td>OFF-LA-10000240</td>\n",
              "      <td>Office Supplies</td>\n",
              "      <td>Labels</td>\n",
              "      <td>Self-Adhesive Address Labels for Typewriters b...</td>\n",
              "      <td>14.6200</td>\n",
              "      <td>2</td>\n",
              "      <td>0.00</td>\n",
              "      <td>6.8714</td>\n",
              "      <td>2016</td>\n",
              "    </tr>\n",
              "    <tr>\n",
              "      <th>3</th>\n",
              "      <td>4</td>\n",
              "      <td>US-2015-108966</td>\n",
              "      <td>2015-10-11</td>\n",
              "      <td>2015-10-18</td>\n",
              "      <td>Standard Class</td>\n",
              "      <td>SO-20335</td>\n",
              "      <td>Sean O'Donnell</td>\n",
              "      <td>Consumer</td>\n",
              "      <td>United States</td>\n",
              "      <td>Fort Lauderdale</td>\n",
              "      <td>Florida</td>\n",
              "      <td>33311</td>\n",
              "      <td>South</td>\n",
              "      <td>FUR-TA-10000577</td>\n",
              "      <td>Furniture</td>\n",
              "      <td>Tables</td>\n",
              "      <td>Bretford CR4500 Series Slim Rectangular Table</td>\n",
              "      <td>957.5775</td>\n",
              "      <td>5</td>\n",
              "      <td>0.45</td>\n",
              "      <td>-383.0310</td>\n",
              "      <td>2015</td>\n",
              "    </tr>\n",
              "    <tr>\n",
              "      <th>4</th>\n",
              "      <td>5</td>\n",
              "      <td>US-2015-108966</td>\n",
              "      <td>2015-10-11</td>\n",
              "      <td>2015-10-18</td>\n",
              "      <td>Standard Class</td>\n",
              "      <td>SO-20335</td>\n",
              "      <td>Sean O'Donnell</td>\n",
              "      <td>Consumer</td>\n",
              "      <td>United States</td>\n",
              "      <td>Fort Lauderdale</td>\n",
              "      <td>Florida</td>\n",
              "      <td>33311</td>\n",
              "      <td>South</td>\n",
              "      <td>OFF-ST-10000760</td>\n",
              "      <td>Office Supplies</td>\n",
              "      <td>Storage</td>\n",
              "      <td>Eldon Fold 'N Roll Cart System</td>\n",
              "      <td>22.3680</td>\n",
              "      <td>2</td>\n",
              "      <td>0.20</td>\n",
              "      <td>2.5164</td>\n",
              "      <td>2015</td>\n",
              "    </tr>\n",
              "  </tbody>\n",
              "</table>\n",
              "</div>"
            ],
            "text/plain": [
              "   Row ID        Order ID  Order Date  ... Discount    Profit   ano\n",
              "0       1  CA-2016-152156  2016-11-08  ...     0.00   41.9136  2016\n",
              "1       2  CA-2016-152156  2016-11-08  ...     0.00  219.5820  2016\n",
              "2       3  CA-2016-138688  2016-06-12  ...     0.00    6.8714  2016\n",
              "3       4  US-2015-108966  2015-10-11  ...     0.45 -383.0310  2015\n",
              "4       5  US-2015-108966  2015-10-11  ...     0.20    2.5164  2015\n",
              "\n",
              "[5 rows x 22 columns]"
            ]
          },
          "metadata": {
            "tags": []
          },
          "execution_count": 48
        }
      ]
    },
    {
      "cell_type": "markdown",
      "metadata": {
        "id": "ivHB_aW8ojXZ"
      },
      "source": [
        "## **Dica 13: Strip de Strings**\r\n",
        "\r\n",
        "Cuidado para não confundir. Na dica 12 mostrei o Split e agora é o Strip. São funções diferentes.\r\n",
        "\r\n",
        "O Split divide a string. O Strip remove caracteres da string. Veja o exemplo.\r\n",
        "\r\n",
        "A coluna 'Ship Date' é a data de envio do produto no formato YYYY-MM-DD. Imagine que seja necessário deixar o ano apenas com 2 dígitos sem alterar o tipo da variável. Fazemos isso com a função lstrip(), ou seja, left strip.\r\n",
        "\r\n",
        "**Vamos remover os dígitos 2 e 0 à esquerda do valor da variável 'Ship Date'**\r\n",
        "\r\n"
      ]
    },
    {
      "cell_type": "code",
      "metadata": {
        "colab": {
          "base_uri": "https://localhost:8080/"
        },
        "id": "6m1LTk3wosMp",
        "outputId": "f1a61800-3bc6-4536-e03d-0924d21d6218"
      },
      "source": [
        "df['Ship Date'].str.lstrip('20')"
      ],
      "execution_count": 49,
      "outputs": [
        {
          "output_type": "execute_result",
          "data": {
            "text/plain": [
              "0       16-11-11\n",
              "1       16-11-11\n",
              "2       16-06-16\n",
              "3       15-10-18\n",
              "4       15-10-18\n",
              "          ...   \n",
              "9989    14-01-23\n",
              "9990    17-03-03\n",
              "9991    17-03-03\n",
              "9992    17-03-03\n",
              "9993    17-05-09\n",
              "Name: Ship Date, Length: 9994, dtype: object"
            ]
          },
          "metadata": {
            "tags": []
          },
          "execution_count": 49
        }
      ]
    },
    {
      "cell_type": "markdown",
      "metadata": {
        "id": "Eii4nrvjovAg"
      },
      "source": [
        "Como não usamos o inplace = True a mudança é somente na memória e não altera o dataframe.\r\n",
        "\r\n",
        "Podemos usar ainda as funções rstrip() e strip() com diferentes variações de strip de strings.\r\n",
        "\r\n",
        "## **Dica 14: Replace**\r\n",
        "\r\n",
        "Se for necessário substituir caracteres dentro de uma string o Pandas oferece uma função para isso também.\r\n",
        "\r\n",
        "Por exemplo, vamos substituir 2 caracteres em uma das colunas.\r\n",
        "\r\n",
        "**Substituímos os caracteres CG por AX na coluna 'Customer ID'**"
      ]
    },
    {
      "cell_type": "code",
      "metadata": {
        "colab": {
          "base_uri": "https://localhost:8080/",
          "height": 1000
        },
        "id": "wFp5lYLjo5AX",
        "outputId": "8e68cf1d-66ec-4299-b36f-a8d18a645f52"
      },
      "source": [
        "df['Customer ID'] = df['Customer ID'].str.replace('CG', 'AX')\r\n",
        "df"
      ],
      "execution_count": 51,
      "outputs": [
        {
          "output_type": "execute_result",
          "data": {
            "text/html": [
              "<div>\n",
              "<style scoped>\n",
              "    .dataframe tbody tr th:only-of-type {\n",
              "        vertical-align: middle;\n",
              "    }\n",
              "\n",
              "    .dataframe tbody tr th {\n",
              "        vertical-align: top;\n",
              "    }\n",
              "\n",
              "    .dataframe thead th {\n",
              "        text-align: right;\n",
              "    }\n",
              "</style>\n",
              "<table border=\"1\" class=\"dataframe\">\n",
              "  <thead>\n",
              "    <tr style=\"text-align: right;\">\n",
              "      <th></th>\n",
              "      <th>Row ID</th>\n",
              "      <th>Order ID</th>\n",
              "      <th>Order Date</th>\n",
              "      <th>Ship Date</th>\n",
              "      <th>Ship Mode</th>\n",
              "      <th>Customer ID</th>\n",
              "      <th>Customer Name</th>\n",
              "      <th>Segment</th>\n",
              "      <th>Country</th>\n",
              "      <th>City</th>\n",
              "      <th>State</th>\n",
              "      <th>Postal Code</th>\n",
              "      <th>Region</th>\n",
              "      <th>Product ID</th>\n",
              "      <th>Category</th>\n",
              "      <th>Sub-Category</th>\n",
              "      <th>Product Name</th>\n",
              "      <th>Sales</th>\n",
              "      <th>Quantity</th>\n",
              "      <th>Discount</th>\n",
              "      <th>Profit</th>\n",
              "      <th>ano</th>\n",
              "    </tr>\n",
              "  </thead>\n",
              "  <tbody>\n",
              "    <tr>\n",
              "      <th>0</th>\n",
              "      <td>1</td>\n",
              "      <td>CA-2016-152156</td>\n",
              "      <td>2016-11-08</td>\n",
              "      <td>2016-11-11</td>\n",
              "      <td>Second Class</td>\n",
              "      <td>AX-12520</td>\n",
              "      <td>Claire Gute</td>\n",
              "      <td>Consumer</td>\n",
              "      <td>United States</td>\n",
              "      <td>Henderson</td>\n",
              "      <td>Kentucky</td>\n",
              "      <td>42420</td>\n",
              "      <td>South</td>\n",
              "      <td>FUR-BO-10001798</td>\n",
              "      <td>Furniture</td>\n",
              "      <td>Bookcases</td>\n",
              "      <td>Bush Somerset Collection Bookcase</td>\n",
              "      <td>261.9600</td>\n",
              "      <td>2</td>\n",
              "      <td>0.00</td>\n",
              "      <td>41.9136</td>\n",
              "      <td>2016</td>\n",
              "    </tr>\n",
              "    <tr>\n",
              "      <th>1</th>\n",
              "      <td>2</td>\n",
              "      <td>CA-2016-152156</td>\n",
              "      <td>2016-11-08</td>\n",
              "      <td>2016-11-11</td>\n",
              "      <td>Second Class</td>\n",
              "      <td>AX-12520</td>\n",
              "      <td>Claire Gute</td>\n",
              "      <td>Consumer</td>\n",
              "      <td>United States</td>\n",
              "      <td>Henderson</td>\n",
              "      <td>Kentucky</td>\n",
              "      <td>42420</td>\n",
              "      <td>South</td>\n",
              "      <td>FUR-CH-10000454</td>\n",
              "      <td>Furniture</td>\n",
              "      <td>Chairs</td>\n",
              "      <td>Hon Deluxe Fabric Upholstered Stacking Chairs,...</td>\n",
              "      <td>731.9400</td>\n",
              "      <td>3</td>\n",
              "      <td>0.00</td>\n",
              "      <td>219.5820</td>\n",
              "      <td>2016</td>\n",
              "    </tr>\n",
              "    <tr>\n",
              "      <th>2</th>\n",
              "      <td>3</td>\n",
              "      <td>CA-2016-138688</td>\n",
              "      <td>2016-06-12</td>\n",
              "      <td>2016-06-16</td>\n",
              "      <td>Second Class</td>\n",
              "      <td>DV-13045</td>\n",
              "      <td>Darrin Van Huff</td>\n",
              "      <td>Corporate</td>\n",
              "      <td>United States</td>\n",
              "      <td>Los Angeles</td>\n",
              "      <td>California</td>\n",
              "      <td>90036</td>\n",
              "      <td>West</td>\n",
              "      <td>OFF-LA-10000240</td>\n",
              "      <td>Office Supplies</td>\n",
              "      <td>Labels</td>\n",
              "      <td>Self-Adhesive Address Labels for Typewriters b...</td>\n",
              "      <td>14.6200</td>\n",
              "      <td>2</td>\n",
              "      <td>0.00</td>\n",
              "      <td>6.8714</td>\n",
              "      <td>2016</td>\n",
              "    </tr>\n",
              "    <tr>\n",
              "      <th>3</th>\n",
              "      <td>4</td>\n",
              "      <td>US-2015-108966</td>\n",
              "      <td>2015-10-11</td>\n",
              "      <td>2015-10-18</td>\n",
              "      <td>Standard Class</td>\n",
              "      <td>SO-20335</td>\n",
              "      <td>Sean O'Donnell</td>\n",
              "      <td>Consumer</td>\n",
              "      <td>United States</td>\n",
              "      <td>Fort Lauderdale</td>\n",
              "      <td>Florida</td>\n",
              "      <td>33311</td>\n",
              "      <td>South</td>\n",
              "      <td>FUR-TA-10000577</td>\n",
              "      <td>Furniture</td>\n",
              "      <td>Tables</td>\n",
              "      <td>Bretford CR4500 Series Slim Rectangular Table</td>\n",
              "      <td>957.5775</td>\n",
              "      <td>5</td>\n",
              "      <td>0.45</td>\n",
              "      <td>-383.0310</td>\n",
              "      <td>2015</td>\n",
              "    </tr>\n",
              "    <tr>\n",
              "      <th>4</th>\n",
              "      <td>5</td>\n",
              "      <td>US-2015-108966</td>\n",
              "      <td>2015-10-11</td>\n",
              "      <td>2015-10-18</td>\n",
              "      <td>Standard Class</td>\n",
              "      <td>SO-20335</td>\n",
              "      <td>Sean O'Donnell</td>\n",
              "      <td>Consumer</td>\n",
              "      <td>United States</td>\n",
              "      <td>Fort Lauderdale</td>\n",
              "      <td>Florida</td>\n",
              "      <td>33311</td>\n",
              "      <td>South</td>\n",
              "      <td>OFF-ST-10000760</td>\n",
              "      <td>Office Supplies</td>\n",
              "      <td>Storage</td>\n",
              "      <td>Eldon Fold 'N Roll Cart System</td>\n",
              "      <td>22.3680</td>\n",
              "      <td>2</td>\n",
              "      <td>0.20</td>\n",
              "      <td>2.5164</td>\n",
              "      <td>2015</td>\n",
              "    </tr>\n",
              "    <tr>\n",
              "      <th>...</th>\n",
              "      <td>...</td>\n",
              "      <td>...</td>\n",
              "      <td>...</td>\n",
              "      <td>...</td>\n",
              "      <td>...</td>\n",
              "      <td>...</td>\n",
              "      <td>...</td>\n",
              "      <td>...</td>\n",
              "      <td>...</td>\n",
              "      <td>...</td>\n",
              "      <td>...</td>\n",
              "      <td>...</td>\n",
              "      <td>...</td>\n",
              "      <td>...</td>\n",
              "      <td>...</td>\n",
              "      <td>...</td>\n",
              "      <td>...</td>\n",
              "      <td>...</td>\n",
              "      <td>...</td>\n",
              "      <td>...</td>\n",
              "      <td>...</td>\n",
              "      <td>...</td>\n",
              "    </tr>\n",
              "    <tr>\n",
              "      <th>9989</th>\n",
              "      <td>9990</td>\n",
              "      <td>CA-2014-110422</td>\n",
              "      <td>2014-01-21</td>\n",
              "      <td>2014-01-23</td>\n",
              "      <td>Second Class</td>\n",
              "      <td>TB-21400</td>\n",
              "      <td>Tom Boeckenhauer</td>\n",
              "      <td>Consumer</td>\n",
              "      <td>United States</td>\n",
              "      <td>Miami</td>\n",
              "      <td>Florida</td>\n",
              "      <td>33180</td>\n",
              "      <td>South</td>\n",
              "      <td>FUR-FU-10001889</td>\n",
              "      <td>Furniture</td>\n",
              "      <td>Furnishings</td>\n",
              "      <td>Ultra Door Pull Handle</td>\n",
              "      <td>25.2480</td>\n",
              "      <td>3</td>\n",
              "      <td>0.20</td>\n",
              "      <td>4.1028</td>\n",
              "      <td>2014</td>\n",
              "    </tr>\n",
              "    <tr>\n",
              "      <th>9990</th>\n",
              "      <td>9991</td>\n",
              "      <td>CA-2017-121258</td>\n",
              "      <td>2017-02-26</td>\n",
              "      <td>2017-03-03</td>\n",
              "      <td>Standard Class</td>\n",
              "      <td>DB-13060</td>\n",
              "      <td>Dave Brooks</td>\n",
              "      <td>Consumer</td>\n",
              "      <td>United States</td>\n",
              "      <td>Costa Mesa</td>\n",
              "      <td>California</td>\n",
              "      <td>92627</td>\n",
              "      <td>West</td>\n",
              "      <td>FUR-FU-10000747</td>\n",
              "      <td>Furniture</td>\n",
              "      <td>Furnishings</td>\n",
              "      <td>Tenex B1-RE Series Chair Mats for Low Pile Car...</td>\n",
              "      <td>91.9600</td>\n",
              "      <td>2</td>\n",
              "      <td>0.00</td>\n",
              "      <td>15.6332</td>\n",
              "      <td>2017</td>\n",
              "    </tr>\n",
              "    <tr>\n",
              "      <th>9991</th>\n",
              "      <td>9992</td>\n",
              "      <td>CA-2017-121258</td>\n",
              "      <td>2017-02-26</td>\n",
              "      <td>2017-03-03</td>\n",
              "      <td>Standard Class</td>\n",
              "      <td>DB-13060</td>\n",
              "      <td>Dave Brooks</td>\n",
              "      <td>Consumer</td>\n",
              "      <td>United States</td>\n",
              "      <td>Costa Mesa</td>\n",
              "      <td>California</td>\n",
              "      <td>92627</td>\n",
              "      <td>West</td>\n",
              "      <td>TEC-PH-10003645</td>\n",
              "      <td>Technology</td>\n",
              "      <td>Phones</td>\n",
              "      <td>Aastra 57i VoIP phone</td>\n",
              "      <td>258.5760</td>\n",
              "      <td>2</td>\n",
              "      <td>0.20</td>\n",
              "      <td>19.3932</td>\n",
              "      <td>2017</td>\n",
              "    </tr>\n",
              "    <tr>\n",
              "      <th>9992</th>\n",
              "      <td>9993</td>\n",
              "      <td>CA-2017-121258</td>\n",
              "      <td>2017-02-26</td>\n",
              "      <td>2017-03-03</td>\n",
              "      <td>Standard Class</td>\n",
              "      <td>DB-13060</td>\n",
              "      <td>Dave Brooks</td>\n",
              "      <td>Consumer</td>\n",
              "      <td>United States</td>\n",
              "      <td>Costa Mesa</td>\n",
              "      <td>California</td>\n",
              "      <td>92627</td>\n",
              "      <td>West</td>\n",
              "      <td>OFF-PA-10004041</td>\n",
              "      <td>Office Supplies</td>\n",
              "      <td>Paper</td>\n",
              "      <td>It's Hot Message Books with Stickers, 2 3/4\" x 5\"</td>\n",
              "      <td>29.6000</td>\n",
              "      <td>4</td>\n",
              "      <td>0.00</td>\n",
              "      <td>13.3200</td>\n",
              "      <td>2017</td>\n",
              "    </tr>\n",
              "    <tr>\n",
              "      <th>9993</th>\n",
              "      <td>9994</td>\n",
              "      <td>CA-2017-119914</td>\n",
              "      <td>2017-05-04</td>\n",
              "      <td>2017-05-09</td>\n",
              "      <td>Second Class</td>\n",
              "      <td>CC-12220</td>\n",
              "      <td>Chris Cortes</td>\n",
              "      <td>Consumer</td>\n",
              "      <td>United States</td>\n",
              "      <td>Westminster</td>\n",
              "      <td>California</td>\n",
              "      <td>92683</td>\n",
              "      <td>West</td>\n",
              "      <td>OFF-AP-10002684</td>\n",
              "      <td>Office Supplies</td>\n",
              "      <td>Appliances</td>\n",
              "      <td>Acco 7-Outlet Masterpiece Power Center, Wihtou...</td>\n",
              "      <td>243.1600</td>\n",
              "      <td>2</td>\n",
              "      <td>0.00</td>\n",
              "      <td>72.9480</td>\n",
              "      <td>2017</td>\n",
              "    </tr>\n",
              "  </tbody>\n",
              "</table>\n",
              "<p>9994 rows × 22 columns</p>\n",
              "</div>"
            ],
            "text/plain": [
              "      Row ID        Order ID  Order Date  ... Discount    Profit   ano\n",
              "0          1  CA-2016-152156  2016-11-08  ...     0.00   41.9136  2016\n",
              "1          2  CA-2016-152156  2016-11-08  ...     0.00  219.5820  2016\n",
              "2          3  CA-2016-138688  2016-06-12  ...     0.00    6.8714  2016\n",
              "3          4  US-2015-108966  2015-10-11  ...     0.45 -383.0310  2015\n",
              "4          5  US-2015-108966  2015-10-11  ...     0.20    2.5164  2015\n",
              "...      ...             ...         ...  ...      ...       ...   ...\n",
              "9989    9990  CA-2014-110422  2014-01-21  ...     0.20    4.1028  2014\n",
              "9990    9991  CA-2017-121258  2017-02-26  ...     0.00   15.6332  2017\n",
              "9991    9992  CA-2017-121258  2017-02-26  ...     0.20   19.3932  2017\n",
              "9992    9993  CA-2017-121258  2017-02-26  ...     0.00   13.3200  2017\n",
              "9993    9994  CA-2017-119914  2017-05-04  ...     0.00   72.9480  2017\n",
              "\n",
              "[9994 rows x 22 columns]"
            ]
          },
          "metadata": {
            "tags": []
          },
          "execution_count": 51
        }
      ]
    },
    {
      "cell_type": "markdown",
      "metadata": {
        "id": "PuIWMA9Co7q8"
      },
      "source": [
        "## **Dica 15: Combinação de Strings**\r\n",
        "\r\n",
        "A função cat() pode ser usada para concatenar strings em um dataframe do Pandas.\r\n",
        "Precisamos passar um argumento para colocar entre strings concatenadas usando o parâmetro sep. Por padrão, cat() ignora os valores ausentes, mas também podemos especificar como lidar com eles usando o parâmetro na_rep.\r\n",
        "\r\n",
        "Vamos criar uma nova coluna concatenando as colunas “Ship Mode” e “Segment” com o separador “-”.\r\n",
        "\r\n",
        "**Concatenando strings**"
      ]
    },
    {
      "cell_type": "code",
      "metadata": {
        "id": "BBGA7fGio8J3"
      },
      "source": [
        "df['Nova_Coluna'] = df['Ship Mode'].str.cat(df['Segment'], sep = '-')"
      ],
      "execution_count": 52,
      "outputs": []
    },
    {
      "cell_type": "markdown",
      "metadata": {
        "id": "IhIHRwjFpIiM"
      },
      "source": [
        "**Confira o resultado:**"
      ]
    },
    {
      "cell_type": "code",
      "metadata": {
        "colab": {
          "base_uri": "https://localhost:8080/",
          "height": 547
        },
        "id": "QOai6QU8pL_Z",
        "outputId": "1fbd5856-6d37-4097-a1ff-b5e2725da7a1"
      },
      "source": [
        "df.head()"
      ],
      "execution_count": 53,
      "outputs": [
        {
          "output_type": "execute_result",
          "data": {
            "text/html": [
              "<div>\n",
              "<style scoped>\n",
              "    .dataframe tbody tr th:only-of-type {\n",
              "        vertical-align: middle;\n",
              "    }\n",
              "\n",
              "    .dataframe tbody tr th {\n",
              "        vertical-align: top;\n",
              "    }\n",
              "\n",
              "    .dataframe thead th {\n",
              "        text-align: right;\n",
              "    }\n",
              "</style>\n",
              "<table border=\"1\" class=\"dataframe\">\n",
              "  <thead>\n",
              "    <tr style=\"text-align: right;\">\n",
              "      <th></th>\n",
              "      <th>Row ID</th>\n",
              "      <th>Order ID</th>\n",
              "      <th>Order Date</th>\n",
              "      <th>Ship Date</th>\n",
              "      <th>Ship Mode</th>\n",
              "      <th>Customer ID</th>\n",
              "      <th>Customer Name</th>\n",
              "      <th>Segment</th>\n",
              "      <th>Country</th>\n",
              "      <th>City</th>\n",
              "      <th>State</th>\n",
              "      <th>Postal Code</th>\n",
              "      <th>Region</th>\n",
              "      <th>Product ID</th>\n",
              "      <th>Category</th>\n",
              "      <th>Sub-Category</th>\n",
              "      <th>Product Name</th>\n",
              "      <th>Sales</th>\n",
              "      <th>Quantity</th>\n",
              "      <th>Discount</th>\n",
              "      <th>Profit</th>\n",
              "      <th>ano</th>\n",
              "      <th>Nova_Coluna</th>\n",
              "    </tr>\n",
              "  </thead>\n",
              "  <tbody>\n",
              "    <tr>\n",
              "      <th>0</th>\n",
              "      <td>1</td>\n",
              "      <td>CA-2016-152156</td>\n",
              "      <td>2016-11-08</td>\n",
              "      <td>2016-11-11</td>\n",
              "      <td>Second Class</td>\n",
              "      <td>AX-12520</td>\n",
              "      <td>Claire Gute</td>\n",
              "      <td>Consumer</td>\n",
              "      <td>United States</td>\n",
              "      <td>Henderson</td>\n",
              "      <td>Kentucky</td>\n",
              "      <td>42420</td>\n",
              "      <td>South</td>\n",
              "      <td>FUR-BO-10001798</td>\n",
              "      <td>Furniture</td>\n",
              "      <td>Bookcases</td>\n",
              "      <td>Bush Somerset Collection Bookcase</td>\n",
              "      <td>261.9600</td>\n",
              "      <td>2</td>\n",
              "      <td>0.00</td>\n",
              "      <td>41.9136</td>\n",
              "      <td>2016</td>\n",
              "      <td>Second Class-Consumer</td>\n",
              "    </tr>\n",
              "    <tr>\n",
              "      <th>1</th>\n",
              "      <td>2</td>\n",
              "      <td>CA-2016-152156</td>\n",
              "      <td>2016-11-08</td>\n",
              "      <td>2016-11-11</td>\n",
              "      <td>Second Class</td>\n",
              "      <td>AX-12520</td>\n",
              "      <td>Claire Gute</td>\n",
              "      <td>Consumer</td>\n",
              "      <td>United States</td>\n",
              "      <td>Henderson</td>\n",
              "      <td>Kentucky</td>\n",
              "      <td>42420</td>\n",
              "      <td>South</td>\n",
              "      <td>FUR-CH-10000454</td>\n",
              "      <td>Furniture</td>\n",
              "      <td>Chairs</td>\n",
              "      <td>Hon Deluxe Fabric Upholstered Stacking Chairs,...</td>\n",
              "      <td>731.9400</td>\n",
              "      <td>3</td>\n",
              "      <td>0.00</td>\n",
              "      <td>219.5820</td>\n",
              "      <td>2016</td>\n",
              "      <td>Second Class-Consumer</td>\n",
              "    </tr>\n",
              "    <tr>\n",
              "      <th>2</th>\n",
              "      <td>3</td>\n",
              "      <td>CA-2016-138688</td>\n",
              "      <td>2016-06-12</td>\n",
              "      <td>2016-06-16</td>\n",
              "      <td>Second Class</td>\n",
              "      <td>DV-13045</td>\n",
              "      <td>Darrin Van Huff</td>\n",
              "      <td>Corporate</td>\n",
              "      <td>United States</td>\n",
              "      <td>Los Angeles</td>\n",
              "      <td>California</td>\n",
              "      <td>90036</td>\n",
              "      <td>West</td>\n",
              "      <td>OFF-LA-10000240</td>\n",
              "      <td>Office Supplies</td>\n",
              "      <td>Labels</td>\n",
              "      <td>Self-Adhesive Address Labels for Typewriters b...</td>\n",
              "      <td>14.6200</td>\n",
              "      <td>2</td>\n",
              "      <td>0.00</td>\n",
              "      <td>6.8714</td>\n",
              "      <td>2016</td>\n",
              "      <td>Second Class-Corporate</td>\n",
              "    </tr>\n",
              "    <tr>\n",
              "      <th>3</th>\n",
              "      <td>4</td>\n",
              "      <td>US-2015-108966</td>\n",
              "      <td>2015-10-11</td>\n",
              "      <td>2015-10-18</td>\n",
              "      <td>Standard Class</td>\n",
              "      <td>SO-20335</td>\n",
              "      <td>Sean O'Donnell</td>\n",
              "      <td>Consumer</td>\n",
              "      <td>United States</td>\n",
              "      <td>Fort Lauderdale</td>\n",
              "      <td>Florida</td>\n",
              "      <td>33311</td>\n",
              "      <td>South</td>\n",
              "      <td>FUR-TA-10000577</td>\n",
              "      <td>Furniture</td>\n",
              "      <td>Tables</td>\n",
              "      <td>Bretford CR4500 Series Slim Rectangular Table</td>\n",
              "      <td>957.5775</td>\n",
              "      <td>5</td>\n",
              "      <td>0.45</td>\n",
              "      <td>-383.0310</td>\n",
              "      <td>2015</td>\n",
              "      <td>Standard Class-Consumer</td>\n",
              "    </tr>\n",
              "    <tr>\n",
              "      <th>4</th>\n",
              "      <td>5</td>\n",
              "      <td>US-2015-108966</td>\n",
              "      <td>2015-10-11</td>\n",
              "      <td>2015-10-18</td>\n",
              "      <td>Standard Class</td>\n",
              "      <td>SO-20335</td>\n",
              "      <td>Sean O'Donnell</td>\n",
              "      <td>Consumer</td>\n",
              "      <td>United States</td>\n",
              "      <td>Fort Lauderdale</td>\n",
              "      <td>Florida</td>\n",
              "      <td>33311</td>\n",
              "      <td>South</td>\n",
              "      <td>OFF-ST-10000760</td>\n",
              "      <td>Office Supplies</td>\n",
              "      <td>Storage</td>\n",
              "      <td>Eldon Fold 'N Roll Cart System</td>\n",
              "      <td>22.3680</td>\n",
              "      <td>2</td>\n",
              "      <td>0.20</td>\n",
              "      <td>2.5164</td>\n",
              "      <td>2015</td>\n",
              "      <td>Standard Class-Consumer</td>\n",
              "    </tr>\n",
              "  </tbody>\n",
              "</table>\n",
              "</div>"
            ],
            "text/plain": [
              "   Row ID        Order ID  Order Date  ...    Profit   ano              Nova_Coluna\n",
              "0       1  CA-2016-152156  2016-11-08  ...   41.9136  2016    Second Class-Consumer\n",
              "1       2  CA-2016-152156  2016-11-08  ...  219.5820  2016    Second Class-Consumer\n",
              "2       3  CA-2016-138688  2016-06-12  ...    6.8714  2016   Second Class-Corporate\n",
              "3       4  US-2015-108966  2015-10-11  ... -383.0310  2015  Standard Class-Consumer\n",
              "4       5  US-2015-108966  2015-10-11  ...    2.5164  2015  Standard Class-Consumer\n",
              "\n",
              "[5 rows x 23 columns]"
            ]
          },
          "metadata": {
            "tags": []
          },
          "execution_count": 53
        }
      ]
    },
    {
      "cell_type": "markdown",
      "metadata": {
        "id": "Zk6cJlgopPQG"
      },
      "source": [
        "## **Dica 16: Formatação do Estilo do Dataframe**\r\n",
        "\r\n",
        "Pode ser interessante formatar o estilo do dataframe para que a tabela mostrada no Jupyter Notebook tenha uma aparência mais amigável e de fácil leitura. Isso será útil especialmente em dataframes com muitas colunas. Veja o exemplo.\r\n",
        "\r\n",
        "**Então definimos as opções, como largura máxima de cada coluna, máximo de linhas, máximo de colunas e precisão de valores decimais**\r\n"
      ]
    },
    {
      "cell_type": "code",
      "metadata": {
        "id": "cbTpmZAapWr0"
      },
      "source": [
        "pd.set_option('max_colwidth', 10)\r\n",
        "pd.set_option('max_rows', 20)\r\n",
        "pd.set_option('max_columns', 10)\r\n",
        "pd.set_option('precision', 3)\r\n",
        "pd.options.display.float_format = '{:,.3f}'.format"
      ],
      "execution_count": 54,
      "outputs": []
    },
    {
      "cell_type": "markdown",
      "metadata": {
        "id": "Hdy1gVpLpZmP"
      },
      "source": [
        "**Conferimos o resultado**"
      ]
    },
    {
      "cell_type": "code",
      "metadata": {
        "colab": {
          "base_uri": "https://localhost:8080/",
          "height": 233
        },
        "id": "bNERLje_pdiC",
        "outputId": "680b1084-c840-4214-e04f-f704131980ad"
      },
      "source": [
        "df.head()"
      ],
      "execution_count": 55,
      "outputs": [
        {
          "output_type": "execute_result",
          "data": {
            "text/html": [
              "<div>\n",
              "<style scoped>\n",
              "    .dataframe tbody tr th:only-of-type {\n",
              "        vertical-align: middle;\n",
              "    }\n",
              "\n",
              "    .dataframe tbody tr th {\n",
              "        vertical-align: top;\n",
              "    }\n",
              "\n",
              "    .dataframe thead th {\n",
              "        text-align: right;\n",
              "    }\n",
              "</style>\n",
              "<table border=\"1\" class=\"dataframe\">\n",
              "  <thead>\n",
              "    <tr style=\"text-align: right;\">\n",
              "      <th></th>\n",
              "      <th>Row ID</th>\n",
              "      <th>Order ID</th>\n",
              "      <th>Order Date</th>\n",
              "      <th>Ship Date</th>\n",
              "      <th>Ship Mode</th>\n",
              "      <th>...</th>\n",
              "      <th>Quantity</th>\n",
              "      <th>Discount</th>\n",
              "      <th>Profit</th>\n",
              "      <th>ano</th>\n",
              "      <th>Nova_Coluna</th>\n",
              "    </tr>\n",
              "  </thead>\n",
              "  <tbody>\n",
              "    <tr>\n",
              "      <th>0</th>\n",
              "      <td>1</td>\n",
              "      <td>CA-201...</td>\n",
              "      <td>2016-1...</td>\n",
              "      <td>2016-1...</td>\n",
              "      <td>Second...</td>\n",
              "      <td>...</td>\n",
              "      <td>2</td>\n",
              "      <td>0.000</td>\n",
              "      <td>41.914</td>\n",
              "      <td>2016</td>\n",
              "      <td>Second...</td>\n",
              "    </tr>\n",
              "    <tr>\n",
              "      <th>1</th>\n",
              "      <td>2</td>\n",
              "      <td>CA-201...</td>\n",
              "      <td>2016-1...</td>\n",
              "      <td>2016-1...</td>\n",
              "      <td>Second...</td>\n",
              "      <td>...</td>\n",
              "      <td>3</td>\n",
              "      <td>0.000</td>\n",
              "      <td>219.582</td>\n",
              "      <td>2016</td>\n",
              "      <td>Second...</td>\n",
              "    </tr>\n",
              "    <tr>\n",
              "      <th>2</th>\n",
              "      <td>3</td>\n",
              "      <td>CA-201...</td>\n",
              "      <td>2016-0...</td>\n",
              "      <td>2016-0...</td>\n",
              "      <td>Second...</td>\n",
              "      <td>...</td>\n",
              "      <td>2</td>\n",
              "      <td>0.000</td>\n",
              "      <td>6.871</td>\n",
              "      <td>2016</td>\n",
              "      <td>Second...</td>\n",
              "    </tr>\n",
              "    <tr>\n",
              "      <th>3</th>\n",
              "      <td>4</td>\n",
              "      <td>US-201...</td>\n",
              "      <td>2015-1...</td>\n",
              "      <td>2015-1...</td>\n",
              "      <td>Standa...</td>\n",
              "      <td>...</td>\n",
              "      <td>5</td>\n",
              "      <td>0.450</td>\n",
              "      <td>-383.031</td>\n",
              "      <td>2015</td>\n",
              "      <td>Standa...</td>\n",
              "    </tr>\n",
              "    <tr>\n",
              "      <th>4</th>\n",
              "      <td>5</td>\n",
              "      <td>US-201...</td>\n",
              "      <td>2015-1...</td>\n",
              "      <td>2015-1...</td>\n",
              "      <td>Standa...</td>\n",
              "      <td>...</td>\n",
              "      <td>2</td>\n",
              "      <td>0.200</td>\n",
              "      <td>2.516</td>\n",
              "      <td>2015</td>\n",
              "      <td>Standa...</td>\n",
              "    </tr>\n",
              "  </tbody>\n",
              "</table>\n",
              "<p>5 rows × 23 columns</p>\n",
              "</div>"
            ],
            "text/plain": [
              "   Row ID   Order ID Order Date  Ship Date  Ship Mode  ... Quantity Discount  \\\n",
              "0       1  CA-201...  2016-1...  2016-1...  Second...  ...        2    0.000   \n",
              "1       2  CA-201...  2016-1...  2016-1...  Second...  ...        3    0.000   \n",
              "2       3  CA-201...  2016-0...  2016-0...  Second...  ...        2    0.000   \n",
              "3       4  US-201...  2015-1...  2015-1...  Standa...  ...        5    0.450   \n",
              "4       5  US-201...  2015-1...  2015-1...  Standa...  ...        2    0.200   \n",
              "\n",
              "    Profit   ano Nova_Coluna  \n",
              "0   41.914  2016  Second...   \n",
              "1  219.582  2016  Second...   \n",
              "2    6.871  2016  Second...   \n",
              "3 -383.031  2015  Standa...   \n",
              "4    2.516  2015  Standa...   \n",
              "\n",
              "[5 rows x 23 columns]"
            ]
          },
          "metadata": {
            "tags": []
          },
          "execution_count": 55
        }
      ]
    },
    {
      "cell_type": "markdown",
      "metadata": {
        "id": "Y_3qcEnlpfp2"
      },
      "source": [
        "Existem diversas opções de formatação de estilo. Explore-as:\r\n",
        "\r\n",
        "## **Dica 17: Stacking**\r\n",
        "\r\n",
        "O Stacking (empilhamento) transforma um dataframe em um índice multinível, ou seja, cada linha possui várias subpartes. Essas subpartes são criadas usando as colunas do dataframe, compactando-as em um multi-índice. No geral, o empilhamento pode ser considerado como uma compactação de colunas em linhas de vários índices.\r\n",
        "\r\n",
        "Experimente e veja o resultado!\r\n",
        "\r\n",
        "**Dataframe original**"
      ]
    },
    {
      "cell_type": "code",
      "metadata": {
        "colab": {
          "base_uri": "https://localhost:8080/",
          "height": 233
        },
        "id": "ow49dwMfpmYM",
        "outputId": "ad4c16cf-859c-41c0-cbe4-12b5603d8b5d"
      },
      "source": [
        "df.head()"
      ],
      "execution_count": 56,
      "outputs": [
        {
          "output_type": "execute_result",
          "data": {
            "text/html": [
              "<div>\n",
              "<style scoped>\n",
              "    .dataframe tbody tr th:only-of-type {\n",
              "        vertical-align: middle;\n",
              "    }\n",
              "\n",
              "    .dataframe tbody tr th {\n",
              "        vertical-align: top;\n",
              "    }\n",
              "\n",
              "    .dataframe thead th {\n",
              "        text-align: right;\n",
              "    }\n",
              "</style>\n",
              "<table border=\"1\" class=\"dataframe\">\n",
              "  <thead>\n",
              "    <tr style=\"text-align: right;\">\n",
              "      <th></th>\n",
              "      <th>Row ID</th>\n",
              "      <th>Order ID</th>\n",
              "      <th>Order Date</th>\n",
              "      <th>Ship Date</th>\n",
              "      <th>Ship Mode</th>\n",
              "      <th>...</th>\n",
              "      <th>Quantity</th>\n",
              "      <th>Discount</th>\n",
              "      <th>Profit</th>\n",
              "      <th>ano</th>\n",
              "      <th>Nova_Coluna</th>\n",
              "    </tr>\n",
              "  </thead>\n",
              "  <tbody>\n",
              "    <tr>\n",
              "      <th>0</th>\n",
              "      <td>1</td>\n",
              "      <td>CA-201...</td>\n",
              "      <td>2016-1...</td>\n",
              "      <td>2016-1...</td>\n",
              "      <td>Second...</td>\n",
              "      <td>...</td>\n",
              "      <td>2</td>\n",
              "      <td>0.000</td>\n",
              "      <td>41.914</td>\n",
              "      <td>2016</td>\n",
              "      <td>Second...</td>\n",
              "    </tr>\n",
              "    <tr>\n",
              "      <th>1</th>\n",
              "      <td>2</td>\n",
              "      <td>CA-201...</td>\n",
              "      <td>2016-1...</td>\n",
              "      <td>2016-1...</td>\n",
              "      <td>Second...</td>\n",
              "      <td>...</td>\n",
              "      <td>3</td>\n",
              "      <td>0.000</td>\n",
              "      <td>219.582</td>\n",
              "      <td>2016</td>\n",
              "      <td>Second...</td>\n",
              "    </tr>\n",
              "    <tr>\n",
              "      <th>2</th>\n",
              "      <td>3</td>\n",
              "      <td>CA-201...</td>\n",
              "      <td>2016-0...</td>\n",
              "      <td>2016-0...</td>\n",
              "      <td>Second...</td>\n",
              "      <td>...</td>\n",
              "      <td>2</td>\n",
              "      <td>0.000</td>\n",
              "      <td>6.871</td>\n",
              "      <td>2016</td>\n",
              "      <td>Second...</td>\n",
              "    </tr>\n",
              "    <tr>\n",
              "      <th>3</th>\n",
              "      <td>4</td>\n",
              "      <td>US-201...</td>\n",
              "      <td>2015-1...</td>\n",
              "      <td>2015-1...</td>\n",
              "      <td>Standa...</td>\n",
              "      <td>...</td>\n",
              "      <td>5</td>\n",
              "      <td>0.450</td>\n",
              "      <td>-383.031</td>\n",
              "      <td>2015</td>\n",
              "      <td>Standa...</td>\n",
              "    </tr>\n",
              "    <tr>\n",
              "      <th>4</th>\n",
              "      <td>5</td>\n",
              "      <td>US-201...</td>\n",
              "      <td>2015-1...</td>\n",
              "      <td>2015-1...</td>\n",
              "      <td>Standa...</td>\n",
              "      <td>...</td>\n",
              "      <td>2</td>\n",
              "      <td>0.200</td>\n",
              "      <td>2.516</td>\n",
              "      <td>2015</td>\n",
              "      <td>Standa...</td>\n",
              "    </tr>\n",
              "  </tbody>\n",
              "</table>\n",
              "<p>5 rows × 23 columns</p>\n",
              "</div>"
            ],
            "text/plain": [
              "   Row ID   Order ID Order Date  Ship Date  Ship Mode  ... Quantity Discount  \\\n",
              "0       1  CA-201...  2016-1...  2016-1...  Second...  ...        2    0.000   \n",
              "1       2  CA-201...  2016-1...  2016-1...  Second...  ...        3    0.000   \n",
              "2       3  CA-201...  2016-0...  2016-0...  Second...  ...        2    0.000   \n",
              "3       4  US-201...  2015-1...  2015-1...  Standa...  ...        5    0.450   \n",
              "4       5  US-201...  2015-1...  2015-1...  Standa...  ...        2    0.200   \n",
              "\n",
              "    Profit   ano Nova_Coluna  \n",
              "0   41.914  2016  Second...   \n",
              "1  219.582  2016  Second...   \n",
              "2    6.871  2016  Second...   \n",
              "3 -383.031  2015  Standa...   \n",
              "4    2.516  2015  Standa...   \n",
              "\n",
              "[5 rows x 23 columns]"
            ]
          },
          "metadata": {
            "tags": []
          },
          "execution_count": 56
        }
      ]
    },
    {
      "cell_type": "markdown",
      "metadata": {
        "id": "fYwIqL0PpuRS"
      },
      "source": [
        "**Novo dataframe após o Stacking**"
      ]
    },
    {
      "cell_type": "code",
      "metadata": {
        "id": "_Isp-zUYpvhB"
      },
      "source": [
        "df_emp = df.stack()"
      ],
      "execution_count": 57,
      "outputs": []
    },
    {
      "cell_type": "markdown",
      "metadata": {
        "id": "4wjtpPLLpxD1"
      },
      "source": [
        "**Visualiza o resultado**"
      ]
    },
    {
      "cell_type": "code",
      "metadata": {
        "colab": {
          "base_uri": "https://localhost:8080/"
        },
        "id": "R4P-83lUpxsW",
        "outputId": "531d96d5-bf62-4fbe-d6bc-858e4a80fff6"
      },
      "source": [
        "df_emp.head(50)"
      ],
      "execution_count": 58,
      "outputs": [
        {
          "output_type": "execute_result",
          "data": {
            "text/plain": [
              "0  Row ID                 1\n",
              "   Order ID       CA-201...\n",
              "   Order Date     2016-1...\n",
              "   Ship Date      2016-1...\n",
              "   Ship Mode      Second...\n",
              "                    ...    \n",
              "1  Nova_Coluna    Second...\n",
              "2  Row ID                 3\n",
              "   Order ID       CA-201...\n",
              "   Order Date     2016-0...\n",
              "   Ship Date      2016-0...\n",
              "Length: 50, dtype: object"
            ]
          },
          "metadata": {
            "tags": []
          },
          "execution_count": 58
        }
      ]
    },
    {
      "cell_type": "markdown",
      "metadata": {
        "id": "35YbyogUp2-k"
      },
      "source": [
        "## **Dica 18: Gráficos com Pandas**\r\n",
        "\r\n",
        "Vimos até aqui diversas funcionalidades do Pandas que tornam o processo de manipulação de dados realmente simples. E nessas 3 últimas dicas da série vamos estudar as opções que o Pandas oferece para criação de gráficos diretamente a partir de dataframes, sem a necessidade de usar qualquer outra biblioteca.\r\n",
        "\r\n",
        "Acompanhe os exemplos.\r\n",
        "\r\n",
        "**Vamos começar importando o dataset iris do Scikit-learn**\r\n"
      ]
    },
    {
      "cell_type": "code",
      "metadata": {
        "id": "KFDCDaqVp7aA"
      },
      "source": [
        "from sklearn.datasets import load_iris\r\n",
        "data = load_iris()"
      ],
      "execution_count": 59,
      "outputs": []
    },
    {
      "cell_type": "markdown",
      "metadata": {
        "id": "dUINijXoqBRg"
      },
      "source": [
        "**E então carregamos o dataset iris como dataframe do Pandas**"
      ]
    },
    {
      "cell_type": "code",
      "metadata": {
        "colab": {
          "base_uri": "https://localhost:8080/",
          "height": 204
        },
        "id": "U1dwI8x1p-na",
        "outputId": "6d781e72-f122-43b8-e8e3-675afbc329fc"
      },
      "source": [
        "import pandas as pd\r\n",
        "df = pd.DataFrame(data['data'], columns = data['feature_names'])\r\n",
        "df['species'] = data['target']\r\n",
        "df.head()"
      ],
      "execution_count": 60,
      "outputs": [
        {
          "output_type": "execute_result",
          "data": {
            "text/html": [
              "<div>\n",
              "<style scoped>\n",
              "    .dataframe tbody tr th:only-of-type {\n",
              "        vertical-align: middle;\n",
              "    }\n",
              "\n",
              "    .dataframe tbody tr th {\n",
              "        vertical-align: top;\n",
              "    }\n",
              "\n",
              "    .dataframe thead th {\n",
              "        text-align: right;\n",
              "    }\n",
              "</style>\n",
              "<table border=\"1\" class=\"dataframe\">\n",
              "  <thead>\n",
              "    <tr style=\"text-align: right;\">\n",
              "      <th></th>\n",
              "      <th>sepal length (cm)</th>\n",
              "      <th>sepal width (cm)</th>\n",
              "      <th>petal length (cm)</th>\n",
              "      <th>petal width (cm)</th>\n",
              "      <th>species</th>\n",
              "    </tr>\n",
              "  </thead>\n",
              "  <tbody>\n",
              "    <tr>\n",
              "      <th>0</th>\n",
              "      <td>5.100</td>\n",
              "      <td>3.500</td>\n",
              "      <td>1.400</td>\n",
              "      <td>0.200</td>\n",
              "      <td>0</td>\n",
              "    </tr>\n",
              "    <tr>\n",
              "      <th>1</th>\n",
              "      <td>4.900</td>\n",
              "      <td>3.000</td>\n",
              "      <td>1.400</td>\n",
              "      <td>0.200</td>\n",
              "      <td>0</td>\n",
              "    </tr>\n",
              "    <tr>\n",
              "      <th>2</th>\n",
              "      <td>4.700</td>\n",
              "      <td>3.200</td>\n",
              "      <td>1.300</td>\n",
              "      <td>0.200</td>\n",
              "      <td>0</td>\n",
              "    </tr>\n",
              "    <tr>\n",
              "      <th>3</th>\n",
              "      <td>4.600</td>\n",
              "      <td>3.100</td>\n",
              "      <td>1.500</td>\n",
              "      <td>0.200</td>\n",
              "      <td>0</td>\n",
              "    </tr>\n",
              "    <tr>\n",
              "      <th>4</th>\n",
              "      <td>5.000</td>\n",
              "      <td>3.600</td>\n",
              "      <td>1.400</td>\n",
              "      <td>0.200</td>\n",
              "      <td>0</td>\n",
              "    </tr>\n",
              "  </tbody>\n",
              "</table>\n",
              "</div>"
            ],
            "text/plain": [
              "   sepal length (cm)  sepal width (cm)  petal length (cm)  petal width (cm)  \\\n",
              "0      5.100              3.500             1.400              0.200          \n",
              "1      4.900              3.000             1.400              0.200          \n",
              "2      4.700              3.200             1.300              0.200          \n",
              "3      4.600              3.100             1.500              0.200          \n",
              "4      5.000              3.600             1.400              0.200          \n",
              "\n",
              "   species  \n",
              "0        0  \n",
              "1        0  \n",
              "2        0  \n",
              "3        0  \n",
              "4        0  "
            ]
          },
          "metadata": {
            "tags": []
          },
          "execution_count": 60
        }
      ]
    },
    {
      "cell_type": "markdown",
      "metadata": {
        "id": "O00GvAjiqGwh"
      },
      "source": [
        "**Para criar um gráfico de linhas com todas as variáveis do dataframe basta fazer isso:**"
      ]
    },
    {
      "cell_type": "code",
      "metadata": {
        "colab": {
          "base_uri": "https://localhost:8080/",
          "height": 282
        },
        "id": "0VVcptDnqEoN",
        "outputId": "58b4e7e2-3ff7-4add-a532-9138ea05aa84"
      },
      "source": [
        "df.plot()"
      ],
      "execution_count": 61,
      "outputs": [
        {
          "output_type": "execute_result",
          "data": {
            "text/plain": [
              "<matplotlib.axes._subplots.AxesSubplot at 0x7fa8bc6b9320>"
            ]
          },
          "metadata": {
            "tags": []
          },
          "execution_count": 61
        },
        {
          "output_type": "display_data",
          "data": {
            "image/png": "[encoded data removed]",
            "text/plain": [
              "<Figure size 432x288 with 1 Axes>"
            ]
          },
          "metadata": {
            "tags": [],
            "needs_background": "light"
          }
        }
      ]
    },
    {
      "cell_type": "markdown",
      "metadata": {
        "id": "GTsp9aSdqPfZ"
      },
      "source": [
        "**Que tal um scatter plot com duas variáveis?**"
      ]
    },
    {
      "cell_type": "code",
      "metadata": {
        "colab": {
          "base_uri": "https://localhost:8080/",
          "height": 299
        },
        "id": "7brO99cJqJQ9",
        "outputId": "37dcd6f3-cb0c-4141-c175-c1b7fff4c210"
      },
      "source": [
        "df.plot.scatter(x = 'sepal length (cm)', y = 'sepal width (cm)')"
      ],
      "execution_count": 62,
      "outputs": [
        {
          "output_type": "execute_result",
          "data": {
            "text/plain": [
              "<matplotlib.axes._subplots.AxesSubplot at 0x7fa8bc161518>"
            ]
          },
          "metadata": {
            "tags": []
          },
          "execution_count": 62
        },
        {
          "output_type": "display_data",
          "data": {
            "image/png": "[encoded data removed]",
            "text/plain": [
              "<Figure size 432x288 with 1 Axes>"
            ]
          },
          "metadata": {
            "tags": [],
            "needs_background": "light"
          }
        }
      ]
    },
    {
      "cell_type": "markdown",
      "metadata": {
        "id": "REGolTy5qUFD"
      },
      "source": [
        "**E mesmo gráficos mais complexos, como um gráfico de área, podem ser criados:**"
      ]
    },
    {
      "cell_type": "code",
      "metadata": {
        "colab": {
          "base_uri": "https://localhost:8080/",
          "height": 265
        },
        "id": "8z3q5W9JqSUL",
        "outputId": "01268942-dd6b-4806-a00e-0e63e00983d6"
      },
      "source": [
        "columns = ['sepal length (cm)', 'petal length (cm)', 'petal width (cm)', 'sepal width (cm)']\r\n",
        "df[columns].plot.area();"
      ],
      "execution_count": 64,
      "outputs": [
        {
          "output_type": "display_data",
          "data": {
            "image/png": "[encoded data removed]",
            "text/plain": [
              "<Figure size 432x288 with 1 Axes>"
            ]
          },
          "metadata": {
            "tags": [],
            "needs_background": "light"
          }
        }
      ]
    },
    {
      "cell_type": "markdown",
      "metadata": {
        "id": "-ujxHiJ4qbMf"
      },
      "source": [
        "A lista de possibilidades é imensa. Aqui tem muitos outros exemplos:\r\n",
        "\r\n",
        "https://pandas.pydata.org/pandas-docs/stable/user_guide/visualization.html\r\n",
        "\r\n",
        "## **Dica 19: Gráficos com Pandas em Operações de Agregação**\r\n",
        "\r\n",
        "Uma outra vantagem dos gráficos com Pandas é que podemos em uma única operação agregar e sumarizar dados e então visualizar o resultado através de gráficos. Observe os exemplos.\r\n",
        "\r\n",
        "**Vamos começar importando o dataset iris do Scikit-learn**"
      ]
    },
    {
      "cell_type": "code",
      "metadata": {
        "id": "i6Uko_jSqWnD"
      },
      "source": [
        "from sklearn.datasets import load_iris\r\n",
        "data = load_iris()"
      ],
      "execution_count": 65,
      "outputs": []
    },
    {
      "cell_type": "markdown",
      "metadata": {
        "id": "lIJ2k29TqmXJ"
      },
      "source": [
        "**E então carregamos o dataset iris como dataframe do Pandas**"
      ]
    },
    {
      "cell_type": "code",
      "metadata": {
        "colab": {
          "base_uri": "https://localhost:8080/",
          "height": 204
        },
        "id": "WP5CPgmHqkGM",
        "outputId": "0849ad50-2b76-4ea8-a059-6c0b80d6239a"
      },
      "source": [
        "import pandas as pd\r\n",
        "df = pd.DataFrame(data['data'], columns = data['feature_names'])\r\n",
        "df['species'] = data['target']\r\n",
        "df.head()"
      ],
      "execution_count": 66,
      "outputs": [
        {
          "output_type": "execute_result",
          "data": {
            "text/html": [
              "<div>\n",
              "<style scoped>\n",
              "    .dataframe tbody tr th:only-of-type {\n",
              "        vertical-align: middle;\n",
              "    }\n",
              "\n",
              "    .dataframe tbody tr th {\n",
              "        vertical-align: top;\n",
              "    }\n",
              "\n",
              "    .dataframe thead th {\n",
              "        text-align: right;\n",
              "    }\n",
              "</style>\n",
              "<table border=\"1\" class=\"dataframe\">\n",
              "  <thead>\n",
              "    <tr style=\"text-align: right;\">\n",
              "      <th></th>\n",
              "      <th>sepal length (cm)</th>\n",
              "      <th>sepal width (cm)</th>\n",
              "      <th>petal length (cm)</th>\n",
              "      <th>petal width (cm)</th>\n",
              "      <th>species</th>\n",
              "    </tr>\n",
              "  </thead>\n",
              "  <tbody>\n",
              "    <tr>\n",
              "      <th>0</th>\n",
              "      <td>5.100</td>\n",
              "      <td>3.500</td>\n",
              "      <td>1.400</td>\n",
              "      <td>0.200</td>\n",
              "      <td>0</td>\n",
              "    </tr>\n",
              "    <tr>\n",
              "      <th>1</th>\n",
              "      <td>4.900</td>\n",
              "      <td>3.000</td>\n",
              "      <td>1.400</td>\n",
              "      <td>0.200</td>\n",
              "      <td>0</td>\n",
              "    </tr>\n",
              "    <tr>\n",
              "      <th>2</th>\n",
              "      <td>4.700</td>\n",
              "      <td>3.200</td>\n",
              "      <td>1.300</td>\n",
              "      <td>0.200</td>\n",
              "      <td>0</td>\n",
              "    </tr>\n",
              "    <tr>\n",
              "      <th>3</th>\n",
              "      <td>4.600</td>\n",
              "      <td>3.100</td>\n",
              "      <td>1.500</td>\n",
              "      <td>0.200</td>\n",
              "      <td>0</td>\n",
              "    </tr>\n",
              "    <tr>\n",
              "      <th>4</th>\n",
              "      <td>5.000</td>\n",
              "      <td>3.600</td>\n",
              "      <td>1.400</td>\n",
              "      <td>0.200</td>\n",
              "      <td>0</td>\n",
              "    </tr>\n",
              "  </tbody>\n",
              "</table>\n",
              "</div>"
            ],
            "text/plain": [
              "   sepal length (cm)  sepal width (cm)  petal length (cm)  petal width (cm)  \\\n",
              "0      5.100              3.500             1.400              0.200          \n",
              "1      4.900              3.000             1.400              0.200          \n",
              "2      4.700              3.200             1.300              0.200          \n",
              "3      4.600              3.100             1.500              0.200          \n",
              "4      5.000              3.600             1.400              0.200          \n",
              "\n",
              "   species  \n",
              "0        0  \n",
              "1        0  \n",
              "2        0  \n",
              "3        0  \n",
              "4        0  "
            ]
          },
          "metadata": {
            "tags": []
          },
          "execution_count": 66
        }
      ]
    },
    {
      "cell_type": "markdown",
      "metadata": {
        "id": "M0ODHkDhqxIO"
      },
      "source": [
        "**Calculamos a média das colunas agrupando pela coluna species e criamos um gráfico de barras com o resultado**"
      ]
    },
    {
      "cell_type": "code",
      "metadata": {
        "colab": {
          "base_uri": "https://localhost:8080/",
          "height": 276
        },
        "id": "V8SaXONwqppZ",
        "outputId": "b810df8a-f1da-4234-c33a-3d5c5be119b6"
      },
      "source": [
        "df.groupby('species').mean().plot.bar();"
      ],
      "execution_count": 68,
      "outputs": [
        {
          "output_type": "display_data",
          "data": {
            "image/png": "[encoded data removed]",
            "text/plain": [
              "<Figure size 432x288 with 1 Axes>"
            ]
          },
          "metadata": {
            "tags": [],
            "needs_background": "light"
          }
        }
      ]
    },
    {
      "cell_type": "markdown",
      "metadata": {
        "id": "mqmMo0WCq1Z4"
      },
      "source": [
        "**Ou então, fazemos a contagem de classes da coluna species e plotamos em um gráfico de pizza**"
      ]
    },
    {
      "cell_type": "code",
      "metadata": {
        "colab": {
          "base_uri": "https://localhost:8080/",
          "height": 248
        },
        "id": "eQBABg2Rqzij",
        "outputId": "9d5d2188-2188-4eb9-f79b-157475c767e5"
      },
      "source": [
        "df.groupby('species').count().plot.pie(y = 'sepal length (cm)');"
      ],
      "execution_count": 69,
      "outputs": [
        {
          "output_type": "display_data",
          "data": {
            "image/png": "[encoded data removed]",
            "text/plain": [
              "<Figure size 432x288 with 1 Axes>"
            ]
          },
          "metadata": {
            "tags": []
          }
        }
      ]
    },
    {
      "cell_type": "markdown",
      "metadata": {
        "id": "Lt_OK-1hq9qo"
      },
      "source": [
        "## **Dica 20: Gráficos Estatísticos com Pandas**\r\n",
        "\r\n",
        "E para concluir a série sobre Pandas, alguns gráficos estatísticos que podem ser criados diretamente de um dataframe Pandas.\r\n",
        "\r\n",
        "**Vamos começar importando o dataset iris do Scikit-learn**\r\n"
      ]
    },
    {
      "cell_type": "code",
      "metadata": {
        "id": "Gjkj4Wr7q47e"
      },
      "source": [
        "from sklearn.datasets import load_iris\r\n",
        "data = load_iris()"
      ],
      "execution_count": 70,
      "outputs": []
    },
    {
      "cell_type": "markdown",
      "metadata": {
        "id": "ZMOSp5JmrHTc"
      },
      "source": [
        "**E então carregamos o dataset iris como dataframe do Pandas**"
      ]
    },
    {
      "cell_type": "code",
      "metadata": {
        "colab": {
          "base_uri": "https://localhost:8080/",
          "height": 204
        },
        "id": "yR_D5Xo_rCye",
        "outputId": "6e39168a-e255-418d-9384-b3c4eee8d6df"
      },
      "source": [
        "import pandas as pd\r\n",
        "df = pd.DataFrame(data['data'], columns = data['feature_names'])\r\n",
        "df['species'] = data['target']\r\n",
        "df.head()"
      ],
      "execution_count": 71,
      "outputs": [
        {
          "output_type": "execute_result",
          "data": {
            "text/html": [
              "<div>\n",
              "<style scoped>\n",
              "    .dataframe tbody tr th:only-of-type {\n",
              "        vertical-align: middle;\n",
              "    }\n",
              "\n",
              "    .dataframe tbody tr th {\n",
              "        vertical-align: top;\n",
              "    }\n",
              "\n",
              "    .dataframe thead th {\n",
              "        text-align: right;\n",
              "    }\n",
              "</style>\n",
              "<table border=\"1\" class=\"dataframe\">\n",
              "  <thead>\n",
              "    <tr style=\"text-align: right;\">\n",
              "      <th></th>\n",
              "      <th>sepal length (cm)</th>\n",
              "      <th>sepal width (cm)</th>\n",
              "      <th>petal length (cm)</th>\n",
              "      <th>petal width (cm)</th>\n",
              "      <th>species</th>\n",
              "    </tr>\n",
              "  </thead>\n",
              "  <tbody>\n",
              "    <tr>\n",
              "      <th>0</th>\n",
              "      <td>5.100</td>\n",
              "      <td>3.500</td>\n",
              "      <td>1.400</td>\n",
              "      <td>0.200</td>\n",
              "      <td>0</td>\n",
              "    </tr>\n",
              "    <tr>\n",
              "      <th>1</th>\n",
              "      <td>4.900</td>\n",
              "      <td>3.000</td>\n",
              "      <td>1.400</td>\n",
              "      <td>0.200</td>\n",
              "      <td>0</td>\n",
              "    </tr>\n",
              "    <tr>\n",
              "      <th>2</th>\n",
              "      <td>4.700</td>\n",
              "      <td>3.200</td>\n",
              "      <td>1.300</td>\n",
              "      <td>0.200</td>\n",
              "      <td>0</td>\n",
              "    </tr>\n",
              "    <tr>\n",
              "      <th>3</th>\n",
              "      <td>4.600</td>\n",
              "      <td>3.100</td>\n",
              "      <td>1.500</td>\n",
              "      <td>0.200</td>\n",
              "      <td>0</td>\n",
              "    </tr>\n",
              "    <tr>\n",
              "      <th>4</th>\n",
              "      <td>5.000</td>\n",
              "      <td>3.600</td>\n",
              "      <td>1.400</td>\n",
              "      <td>0.200</td>\n",
              "      <td>0</td>\n",
              "    </tr>\n",
              "  </tbody>\n",
              "</table>\n",
              "</div>"
            ],
            "text/plain": [
              "   sepal length (cm)  sepal width (cm)  petal length (cm)  petal width (cm)  \\\n",
              "0      5.100              3.500             1.400              0.200          \n",
              "1      4.900              3.000             1.400              0.200          \n",
              "2      4.700              3.200             1.300              0.200          \n",
              "3      4.600              3.100             1.500              0.200          \n",
              "4      5.000              3.600             1.400              0.200          \n",
              "\n",
              "   species  \n",
              "0        0  \n",
              "1        0  \n",
              "2        0  \n",
              "3        0  \n",
              "4        0  "
            ]
          },
          "metadata": {
            "tags": []
          },
          "execution_count": 71
        }
      ]
    },
    {
      "cell_type": "markdown",
      "metadata": {
        "id": "BnclOcl7rODV"
      },
      "source": [
        "**Gráfico KDE (Kernel Density Function) para cada variável do dataframe**"
      ]
    },
    {
      "cell_type": "code",
      "metadata": {
        "colab": {
          "base_uri": "https://localhost:8080/",
          "height": 484
        },
        "id": "8mA2zB73rKqM",
        "outputId": "b9a12f4b-73d9-490a-b2fd-9959975cdbb1"
      },
      "source": [
        "df.plot.kde(subplots = True, figsize = (8,8));"
      ],
      "execution_count": 73,
      "outputs": [
        {
          "output_type": "display_data",
          "data": {
            "image/png": "[encoded data removed]",
            "text/plain": [
              "<Figure size 576x576 with 5 Axes>"
            ]
          },
          "metadata": {
            "tags": [],
            "needs_background": "light"
          }
        }
      ]
    },
    {
      "cell_type": "markdown",
      "metadata": {
        "id": "j0Wnk4M0rS_Q"
      },
      "source": [
        "**Boxplot de cada variável**"
      ]
    },
    {
      "cell_type": "code",
      "metadata": {
        "colab": {
          "base_uri": "https://localhost:8080/",
          "height": 483
        },
        "id": "VN3sarGHrQrI",
        "outputId": "57e3db6a-a7ff-4af2-8018-10268d159470"
      },
      "source": [
        "columns = ['sepal length (cm)', 'petal length (cm)', 'petal width (cm)', 'sepal width (cm)']\r\n",
        "df[columns].plot.box(figsize = (8,8));"
      ],
      "execution_count": 74,
      "outputs": [
        {
          "output_type": "display_data",
          "data": {
            "image/png": "[encoded data removed]",
            "text/plain": [
              "<Figure size 576x576 with 1 Axes>"
            ]
          },
          "metadata": {
            "tags": [],
            "needs_background": "light"
          }
        }
      ]
    },
    {
      "cell_type": "markdown",
      "metadata": {
        "id": "a6_p4REJrSs5"
      },
      "source": [
        "E assim concluímos esta série especial. O Pandas é uma verdadeira caixa de ferramentas para manipulação de dados!"
      ]
    }
  ]
}